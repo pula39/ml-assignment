{
  "nbformat": 4,
  "nbformat_minor": 0,
  "metadata": {
    "colab": {
      "name": "ml-assignment3.ipynb",
      "provenance": [],
      "authorship_tag": "ABX9TyOEcreIqRgEoj5g9FLM1YbW",
      "include_colab_link": true
    },
    "kernelspec": {
      "name": "python3",
      "display_name": "Python 3"
    }
  },
  "cells": [
    {
      "cell_type": "markdown",
      "metadata": {
        "id": "view-in-github",
        "colab_type": "text"
      },
      "source": [
        "<a href=\"https://colab.research.google.com/github/nbkwon/ml-assignment/blob/master/ml_assignment3.ipynb\" target=\"_parent\"><img src=\"https://colab.research.google.com/assets/colab-badge.svg\" alt=\"Open In Colab\"/></a>"
      ]
    },
    {
      "cell_type": "code",
      "metadata": {
        "id": "lJmXXsQKjSW2",
        "colab_type": "code",
        "colab": {}
      },
      "source": [
        "# 과제 2에서 가져온 함수\n",
        "\n",
        "import numpy\n",
        "\n",
        "# ax + b 형식의 식의 결과를 반환해주는 함수\n",
        "def get_y_by_linear(a, b, x):\n",
        "    return (a * x) + b\n",
        "\n",
        "# \n",
        "def calc_energy_value(theta_pair, data_dic):\n",
        "    ret = 0\n",
        "\n",
        "    m = len(data_dic)\n",
        "\n",
        "    for x, y_in_data in data_dic.items():\n",
        "        # hθ(x) =θ0 + θ1 * x\n",
        "        calc_y = get_y_by_linear(theta_pair[1], theta_pair[0], x)\n",
        "        calc_result = calc_y - y_in_data\n",
        "\n",
        "        # 제곱을 처리\n",
        "        ret = ret + (calc_result * calc_result)\n",
        "\n",
        "    return ret / (m * 2)\n",
        "    \n",
        "# Gradient Descent를 위해 cost function을 변형한 식\n",
        "def calc_cost_sum_for_gradient_descent(theta_pair, data_dic, will_multiply_x):\n",
        "    ret = 0\n",
        "\n",
        "    m = len(data_dic)\n",
        "\n",
        "    for x, y_in_data in data_dic.items():\n",
        "        # hθ(x) =θ0 + θ1 * x\n",
        "        calc_y = get_y_by_linear(theta_pair[1], theta_pair[0], x)\n",
        "        calc_result = calc_y - y_in_data\n",
        "        if will_multiply_x:\n",
        "            calc_result = calc_result * x\n",
        "\n",
        "        ret = ret + calc_result\n",
        "\n",
        "    return ret / m\n",
        "    \n",
        "def next_gradient_descent_step(step_size, theta_pair, data_dic):\n",
        "    next_theta_0 = theta_pair[0] - step_size * calc_cost_sum_for_gradient_descent(theta_pair, data_dic, False)\n",
        "    next_theta_1 = theta_pair[1] - step_size * calc_cost_sum_for_gradient_descent(theta_pair, data_dic, True)\n",
        "\n",
        "    return next_theta_0, next_theta_1\n",
        "    \n",
        "def check_convergence(theta_pair, new_theta_pair):\n",
        "    # float 형의 자료형 동일한지 판단을 위해 numpy의 isclose를 사용.\n",
        "    atol = 0.0001\n",
        "    return numpy.isclose(theta_pair[0], new_theta_pair[0], atol=atol) and numpy.isclose(theta_pair[1], new_theta_pair[1], atol=atol)"
      ],
      "execution_count": 0,
      "outputs": []
    },
    {
      "cell_type": "code",
      "metadata": {
        "id": "93jBdAGplmUy",
        "colab_type": "code",
        "colab": {}
      },
      "source": [
        "# we now need pyplot for plotting data\n",
        "import matplotlib.pyplot as pyplot\n",
        "def show_plot(download_file = False):\n",
        "    pyplot.show()\n",
        "    if download_file == False:\n",
        "       return\n",
        "    \n",
        "    import google.colab\n",
        "    file_name = \"test.png\"\n",
        "    pyplot.savefig(file_name)\n",
        "    google.colab.files.download(file_name)\n",
        "\n",
        "def make_plot(plot_data_list):\n",
        "    # it's too samll. make bigger.\n",
        "    pyplot.figure(figsize=(50, 25))\n",
        "\n",
        "    for data_dic, plot_type, color in plot_data_list:\n",
        "        if plot_type is \"plot\":\n",
        "            pyplot.plot(list(data_dic.keys()), list(data_dic.values()), c=color)\n",
        "        if plot_type is \"scatter\":\n",
        "            pyplot.scatter(list(data_dic.keys()), list(data_dic.values()), c=color)"
      ],
      "execution_count": 0,
      "outputs": []
    },
    {
      "cell_type": "code",
      "metadata": {
        "id": "BUsyZW3mjrg2",
        "colab_type": "code",
        "colab": {}
      },
      "source": [
        "import numpy as np\n",
        "# import matplotlib.pyplot as plt\n",
        "\n",
        "path = \"data.csv\"\n",
        "data = np.genfromtxt(path, delimiter=',')\n",
        "\n",
        "x_data = data[:, 0]\n",
        "y_data = data[:, 1]\n"
      ],
      "execution_count": 0,
      "outputs": []
    }
  ]
}