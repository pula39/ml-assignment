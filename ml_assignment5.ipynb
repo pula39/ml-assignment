{
  "nbformat": 4,
  "nbformat_minor": 0,
  "metadata": {
    "colab": {
      "name": "ml-assignment5.ipynb",
      "provenance": [],
      "authorship_tag": "ABX9TyOkuX0zkOv0+ggcLuVQB+Na",
      "include_colab_link": true
    },
    "kernelspec": {
      "name": "python3",
      "display_name": "Python 3"
    }
  },
  "cells": [
    {
      "cell_type": "markdown",
      "metadata": {
        "id": "view-in-github",
        "colab_type": "text"
      },
      "source": [
        "<a href=\"https://colab.research.google.com/github/nbkwon/ml-assignment/blob/master/ml_assignment5.ipynb\" target=\"_parent\"><img src=\"https://colab.research.google.com/assets/colab-badge.svg\" alt=\"Open In Colab\"/></a>"
      ]
    },
    {
      "cell_type": "code",
      "metadata": {
        "id": "zQK4-1oT_7Za",
        "colab_type": "code",
        "colab": {}
      },
      "source": [
        "# we now need pyplot for plotting data\n",
        "import matplotlib.pyplot as pyplot\n",
        "def show_plot(download_file = False):\n",
        "    pyplot.show()\n",
        "    if download_file == False:\n",
        "       return\n",
        "    \n",
        "    import google.colab\n",
        "    file_name = \"test.png\"\n",
        "    pyplot.savefig(file_name)\n",
        "    google.colab.files.download(file_name)\n",
        "\n",
        "def make_plot(plot_data_list):\n",
        "    # it's too samll. make bigger.\n",
        "    pyplot.figure(figsize=(50, 25))\n",
        "\n",
        "    for data_dic, plot_type, color in plot_data_list:\n",
        "        if plot_type is \"plot\":\n",
        "            pyplot.plot(list(data_dic.keys()), list(data_dic.values()), c=color)\n",
        "        if plot_type is \"scatter\":\n",
        "            pyplot.scatter(list(data_dic.keys()), list(data_dic.values()), c=color)"
      ],
      "execution_count": 0,
      "outputs": []
    },
    {
      "cell_type": "code",
      "metadata": {
        "id": "QlcQljt3C0qY",
        "colab_type": "code",
        "colab": {}
      },
      "source": [
        "import numpy as np\n",
        "import matplotlib.pyplot as plt\n",
        "\n",
        "data    = np.genfromtxt(\"data.txt\", delimiter=',')\n",
        "\n",
        "x       = data[:, 0]\n",
        "y       = data[:, 1]\n",
        "label   = data[:, 2]\n",
        "\n",
        "x_label0    = x[label == 0]\n",
        "x_label1    = x[label == 1]\n",
        "\n",
        "y_label0    = y[label == 0]\n",
        "y_label1    = y[label == 1]"
      ],
      "execution_count": 0,
      "outputs": []
    },
    {
      "cell_type": "code",
      "metadata": {
        "id": "CXU3w04dDDF5",
        "colab_type": "code",
        "colab": {}
      },
      "source": [
        "# 과제 2에서 가져온 함수\n",
        "\n",
        "import numpy\n",
        "\n",
        "def get_by_linear(t_list, factor_list):\n",
        "    sum = t_list[0]\n",
        "    for t, factor in zip(t_list[1:], factor_list):\n",
        "        sum = sum + t * factor\n",
        "\n",
        "    return sum\n",
        "\n",
        "# \n",
        "def calc_energy_value(theta_list, data_dic):\n",
        "    ret = 0\n",
        "\n",
        "    m = len(data_dic)\n",
        "\n",
        "    for factor_list, result_in_data in data_dic.items():\n",
        "        calc_y = get_by_linear(theta_list, factor_list)\n",
        "        calc_result = calc_y - result_in_data\n",
        "\n",
        "        ret = ret + (calc_result * calc_result)\n",
        "\n",
        "    return ret / (m * 2)\n",
        "    \n",
        "# Gradient Descent를 위해 cost function을 변형한 식\n",
        "def calc_cost_sum_for_gradient_descent(theta_list, data_dic, multiply_bitmap):\n",
        "    ret = 0\n",
        "\n",
        "    m = len(data_dic)\n",
        "\n",
        "    for factor_list, result_in_data in data_dic.items():\n",
        "        calc_y = get_by_linear(theta_list, factor_list)\n",
        "        calc_result = calc_y - result_in_data\n",
        "\n",
        "        for factor, multiply_flag in zip(factor_list, multiply_bitmap):\n",
        "            if multiply_flag == 0:\n",
        "                continue\n",
        "\n",
        "            calc_result = calc_result * factor\n",
        "\n",
        "        ret = ret + calc_result\n",
        "\n",
        "    return ret / m\n",
        "    \n",
        "def next_gradient_descent_step(step_size, theta_list, data_dic):\n",
        "    next_theta_list = []\n",
        "    for i in range(len(theta_list)):\n",
        "        bitmap = []\n",
        "        for j in range(len(theta_list) - 1):\n",
        "            if i - 1 == j:\n",
        "                bitmap.append(1)\n",
        "            else:\n",
        "                bitmap.append(0)\n",
        "\n",
        "        # print(bitmap)\n",
        "\n",
        "        next_theta = theta_list[i] - step_size * calc_cost_sum_for_gradient_descent(theta_list, data_dic, bitmap)\n",
        "        next_theta_list.append(next_theta)\n",
        "\n",
        "    return next_theta_list\n",
        "    \n",
        "def check_convergence(theta_list, new_theta_list):\n",
        "    # float 형의 자료형 동일한지 판단을 위해 numpy의 isclose를 사용.\n",
        "    atol = 0.0001\n",
        "    return numpy.isclose(theta_list, new_theta_list, atol=atol)"
      ],
      "execution_count": 0,
      "outputs": []
    }
  ]
}