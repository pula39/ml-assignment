{
  "nbformat": 4,
  "nbformat_minor": 0,
  "metadata": {
    "colab": {
      "name": "ml-assignment5.ipynb",
      "provenance": [],
      "authorship_tag": "ABX9TyP2O7T8EdOoqLVbZs2eu8xp",
      "include_colab_link": true
    },
    "kernelspec": {
      "name": "python3",
      "display_name": "Python 3"
    }
  },
  "cells": [
    {
      "cell_type": "markdown",
      "metadata": {
        "id": "view-in-github",
        "colab_type": "text"
      },
      "source": [
        "<a href=\"https://colab.research.google.com/github/nbkwon/ml-assignment/blob/master/ml_assignment5.ipynb\" target=\"_parent\"><img src=\"https://colab.research.google.com/assets/colab-badge.svg\" alt=\"Open In Colab\"/></a>"
      ]
    },
    {
      "cell_type": "code",
      "metadata": {
        "id": "zQK4-1oT_7Za",
        "colab_type": "code",
        "colab": {}
      },
      "source": [
        "# we now need pyplot for plotting data\n",
        "import matplotlib.pyplot as pyplot\n",
        "def show_plot(download_file = False):\n",
        "    pyplot.show()\n",
        "    if download_file == False:\n",
        "       return\n",
        "    \n",
        "    import google.colab\n",
        "    file_name = \"test.png\"\n",
        "    pyplot.savefig(file_name)\n",
        "    google.colab.files.download(file_name)\n",
        "\n",
        "def make_plot(plot_data_list):\n",
        "    # it's too samll. make bigger.\n",
        "    pyplot.figure(figsize=(8, 8))\n",
        "\n",
        "    for data_dic, plot_type, color in plot_data_list:\n",
        "        if plot_type is \"plot\":\n",
        "            pyplot.plot(list(data_dic.keys()), list(data_dic.values()), c=color)\n",
        "        if plot_type is \"scatter\":\n",
        "            pyplot.scatter(list(data_dic.keys()), list(data_dic.values()), c=color)"
      ],
      "execution_count": 0,
      "outputs": []
    },
    {
      "cell_type": "code",
      "metadata": {
        "id": "CXU3w04dDDF5",
        "colab_type": "code",
        "colab": {}
      },
      "source": [
        "# 과제 2에서 가져온 함수\n",
        "\n",
        "import numpy\n",
        "\n",
        "def sigmoid(value):\n",
        "    # print(\"value -> numpy.exp(-value)\", value, numpy.exp(-value))\n",
        "    return 1 / (1 + numpy.exp(-value))\n",
        "\n",
        "def get_by_sigmoid(t_list, factor_list):\n",
        "    # print(\"get_by_linear(t_list, factor_list)\", get_by_linear(t_list, factor_list))\n",
        "    return sigmoid(get_by_linear(t_list, factor_list))\n",
        "\n",
        "def get_by_linear(t_list, factor_list):\n",
        "    # print(t_list, factor_list)\n",
        "    sum = t_list[0]\n",
        "    for t, factor in zip(t_list[1:], factor_list):\n",
        "        sum = sum + t * factor\n",
        "\n",
        "    # print(\"return sum\", sum)\n",
        "    return sum\n",
        "\n",
        "# \n",
        "def calc_energy_value(theta_list, data_dic):\n",
        "    ret = 0\n",
        "\n",
        "    m = len(data_dic)\n",
        "\n",
        "    for factor_list, r_in_d in data_dic.items():\n",
        "        # (−l(i)log(sigmoid)−(1−l(i))log(1−σ(z(i))))\n",
        "        z_i = get_by_sigmoid(theta_list, factor_list)\n",
        "\n",
        "\n",
        "        # print(z_i, r_in_d)\n",
        "\n",
        "        calc_result = -r_in_d * numpy.log(z_i) - (1 - r_in_d) * numpy.log(1 - z_i)\n",
        "\n",
        "        ret = ret + calc_result\n",
        "\n",
        "    return ret / m\n",
        "    \n",
        "# Gradient Descent를 위해 cost function을 변형한 식\n",
        "def calc_cost_sum_for_gradient_descent(theta_list, data_dic, multiply_bitmap):\n",
        "    ret = 0\n",
        "\n",
        "    m = len(data_dic)\n",
        "\n",
        "    for factor_list, result_in_data in data_dic.items():\n",
        "        calc_y = get_by_sigmoid(theta_list, factor_list)\n",
        "        calc_result = calc_y - result_in_data\n",
        "\n",
        "        for factor, multiply_flag in zip(factor_list, multiply_bitmap):\n",
        "            if multiply_flag == 0:\n",
        "                continue\n",
        "\n",
        "            calc_result = calc_result * factor\n",
        "\n",
        "        ret = ret + calc_result\n",
        "\n",
        "    return ret / m\n",
        "    \n",
        "def next_gradient_descent_step(step_size, theta_list, data_dic):\n",
        "    next_theta_list = []\n",
        "    for i in range(len(theta_list)):\n",
        "        bitmap = []\n",
        "        for j in range(len(theta_list) - 1):\n",
        "            if i - 1 == j:\n",
        "                bitmap.append(1)\n",
        "            else:\n",
        "                bitmap.append(0)\n",
        "\n",
        "        # print(bitmap)\n",
        "\n",
        "        next_theta = theta_list[i] - step_size * calc_cost_sum_for_gradient_descent(theta_list, data_dic, bitmap)\n",
        "        next_theta_list.append(next_theta)\n",
        "\n",
        "    return next_theta_list\n",
        "    \n",
        "def check_convergence(theta_list, new_theta_list):\n",
        "    # float 형의 자료형 동일한지 판단을 위해 numpy의 isclose를 사용.\n",
        "    atol = 0.000001\n",
        "    return numpy.isclose(theta_list, new_theta_list, rtol=atol, atol=atol)\n",
        "    # return numpy.isclose(theta_list, new_theta_list)"
      ],
      "execution_count": 0,
      "outputs": []
    },
    {
      "cell_type": "code",
      "metadata": {
        "id": "QlcQljt3C0qY",
        "colab_type": "code",
        "colab": {}
      },
      "source": [
        "import numpy as np\n",
        "import matplotlib.pyplot as plt\n",
        "\n",
        "data    = np.genfromtxt(\"data.txt\", delimiter=',')\n",
        "\n",
        "x       = data[:, 0]\n",
        "y       = data[:, 1]\n",
        "label   = data[:, 2]\n",
        "\n",
        "x_label0    = x[label == 0]\n",
        "x_label1    = x[label == 1]\n",
        "\n",
        "y_label0    = y[label == 0]\n",
        "y_label1    = y[label == 1]"
      ],
      "execution_count": 0,
      "outputs": []
    },
    {
      "cell_type": "code",
      "metadata": {
        "id": "FNENNt67IQLL",
        "colab_type": "code",
        "colab": {
          "base_uri": "https://localhost:8080/",
          "height": 483
        },
        "outputId": "102583b2-bba0-43e2-9308-0733bd397e00"
      },
      "source": [
        "label0_dic = dict(zip(x[label == 0], y[label == 0]))\n",
        "label1_dic = dict(zip(x[label == 1], y[label == 1]))\n",
        "\n",
        "make_plot([(label0_dic, \"scatter\", \"blue\"), (label1_dic, \"scatter\", \"red\")])"
      ],
      "execution_count": 6,
      "outputs": [
        {
          "output_type": "display_data",
          "data": {
            "image/png": "[encoded data removed]",
            "text/plain": [
              "<Figure size 576x576 with 1 Axes>"
            ]
          },
          "metadata": {
            "tags": [],
            "needs_background": "light"
          }
        }
      ]
    },
    {
      "cell_type": "code",
      "metadata": {
        "id": "BcayGma8JlZE",
        "colab_type": "code",
        "colab": {
          "base_uri": "https://localhost:8080/",
          "height": 51
        },
        "outputId": "b28cebf1-999d-45d9-ddf4-67ea005bb792"
      },
      "source": [
        "dic0 = dict(zip(zip(x_label0, y_label0), [0] * len(x_label0)))\n",
        "dic1 = dict(zip(zip(x_label1, y_label1), [1] * len(x_label1)))\n",
        "factor_to_result = {**dic0, **dic1}\n",
        "\n",
        "current_theta_list = [0.0, 0.0, 0.0]\n",
        "\n",
        "step_size = 0.00001\n",
        "\n",
        "step_count = 0\n",
        "\n",
        "step_count_to_energy_value = {step_count: calc_energy_value(current_theta_list, factor_to_result)}\n",
        "step_count_to_theta_list = {step_count: current_theta_list}\n",
        "\n",
        "# print(current_theta_list, \"loss\", step_count_to_energy_value[0])\n",
        "# print(current_theta_list, \"loss\", step_count_to_energy_value_test[0])\n",
        "\n",
        "print(\"start ->\",current_theta_list, \"loss\", step_count_to_energy_value[step_count])\n",
        "\n",
        "no_loop = 0\n",
        "\n",
        "while(True):\n",
        "    no_loop = no_loop + 1\n",
        "    # if(no_loop > 10):\n",
        "        # print(\"Loop\")\n",
        "        # break\n",
        "    step_count = step_count + 1\n",
        "    next_theta_list = next_gradient_descent_step(step_size, current_theta_list, factor_to_result)\n",
        "    \n",
        "    step_count_to_energy_value[step_count] = calc_energy_value(next_theta_list, factor_to_result)\n",
        "\n",
        "    step_count_to_theta_list[step_count] = next_theta_list\n",
        "    \n",
        "    if check_convergence(current_theta_list, next_theta_list).all():\n",
        "        break \n",
        "\n",
        "    # print(current_theta_list, \"->\", next_theta_list, \"loss\", step_count_to_energy_value[step_count])\n",
        "    current_theta_list = next_theta_list\n",
        "\n",
        "# show calculated theta\n",
        "print(\"current_theta_pair\", current_theta_list, \"loop\", no_loop)"
      ],
      "execution_count": 10,
      "outputs": [
        {
          "output_type": "stream",
          "text": [
            "start -> [0.0, 0.0, 0.0] loss 0.6931471805599458\n",
            "current_theta_pair [-0.0011349928395695654, 0.009179948445904355, 0.001685693688088484] loop 1736\n"
          ],
          "name": "stdout"
        }
      ]
    },
    {
      "cell_type": "code",
      "metadata": {
        "id": "HZrD6aJSZUms",
        "colab_type": "code",
        "colab": {
          "base_uri": "https://localhost:8080/",
          "height": 483
        },
        "outputId": "b87acfa9-29e9-4121-effe-e5b21c1a80a4"
      },
      "source": [
        "map_in_list = [{},{},{},{}]\n",
        "for step_count, theta_list in step_count_to_theta_list.items():\n",
        "    map_in_list[0][step_count] = theta_list[0]\n",
        "    map_in_list[1][step_count] = theta_list[1]\n",
        "    map_in_list[2][step_count] = theta_list[2]\n",
        "\n",
        "make_plot([(map_in_list[0], \"plot\", \"red\"), (map_in_list[1], \"plot\", \"green\"), (map_in_list[2], \"plot\", \"blue\")])"
      ],
      "execution_count": 11,
      "outputs": [
        {
          "output_type": "display_data",
          "data": {
            "image/png": "[encoded data removed]",
            "text/plain": [
              "<Figure size 576x576 with 1 Axes>"
            ]
          },
          "metadata": {
            "tags": [],
            "needs_background": "light"
          }
        }
      ]
    },
    {
      "cell_type": "code",
      "metadata": {
        "id": "2e9T3oJEaRkn",
        "colab_type": "code",
        "colab": {
          "base_uri": "https://localhost:8080/",
          "height": 483
        },
        "outputId": "0e16737e-c291-41e8-b89c-13a5d180b816"
      },
      "source": [
        "make_plot([(step_count_to_energy_value, \"plot\", \"blue\")])"
      ],
      "execution_count": 12,
      "outputs": [
        {
          "output_type": "display_data",
          "data": {
            "image/png": "[encoded data removed]",
            "text/plain": [
              "<Figure size 576x576 with 1 Axes>"
            ]
          },
          "metadata": {
            "tags": [],
            "needs_background": "light"
          }
        }
      ]
    }
  ]
}