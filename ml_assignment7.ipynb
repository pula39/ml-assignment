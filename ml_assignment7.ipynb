{
  "nbformat": 4,
  "nbformat_minor": 0,
  "metadata": {
    "colab": {
      "name": "ml-assignment7.ipynb",
      "provenance": [],
      "collapsed_sections": [],
      "authorship_tag": "ABX9TyNlrYPSEZaLOQ3F02uhZkMM",
      "include_colab_link": true
    },
    "kernelspec": {
      "name": "python3",
      "display_name": "Python 3"
    }
  },
  "cells": [
    {
      "cell_type": "markdown",
      "metadata": {
        "id": "view-in-github",
        "colab_type": "text"
      },
      "source": [
        "<a href=\"https://colab.research.google.com/github/nbkwon/ml-assignment/blob/master/ml_assignment7.ipynb\" target=\"_parent\"><img src=\"https://colab.research.google.com/assets/colab-badge.svg\" alt=\"Open In Colab\"/></a>"
      ]
    },
    {
      "cell_type": "code",
      "metadata": {
        "id": "U84xfgQlLlLM",
        "colab_type": "code",
        "colab": {}
      },
      "source": [
        "# we now need pyplot for plotting data\n",
        "import matplotlib.pyplot as pyplot\n",
        "def show_plot(download_file = False):\n",
        "    pyplot.legend()\n",
        "    pyplot.show()\n",
        "    if download_file == False:\n",
        "       return\n",
        "    \n",
        "    import google.colab\n",
        "    file_name = \"test.png\"\n",
        "    pyplot.savefig(file_name)\n",
        "    google.colab.files.download(file_name)\n",
        "\n",
        "def make_plot(plot_data_list, use_this = None):\n",
        "    # it's too samll. make bigger.\n",
        "    if use_this is None:\n",
        "        pyplot.figure(figsize=(8, 8))\n",
        "    else:\n",
        "        # use_this.set_figheight(8)\n",
        "        # use_this.set_figwidth(8)\n",
        "        pass\n",
        "\n",
        "    for data_dic, plot_type, color, label in plot_data_list:\n",
        "        if plot_type is \"plot\":\n",
        "            if use_this is None:\n",
        "                pyplot.plot(list(data_dic.keys()), list(data_dic.values()), c=color, label=label)\n",
        "            else:\n",
        "                use_this.plot(list(data_dic.keys()), list(data_dic.values()), c=color, label=label)    \n",
        "        if plot_type is \"scatter\":\n",
        "            if use_this is None:\n",
        "                pyplot.scatter(list(data_dic.keys()), list(data_dic.values()), c=color, label=label)\n",
        "            else:\n",
        "                use_this.scatter(list(data_dic.keys()), list(data_dic.values()), c=color, label=label)"
      ],
      "execution_count": 0,
      "outputs": []
    },
    {
      "cell_type": "code",
      "metadata": {
        "id": "YTbWfGuELqyu",
        "colab_type": "code",
        "colab": {}
      },
      "source": [
        "# 이전 과제에서 쌓여가는 함수\n",
        "\n",
        "import numpy\n",
        "\n",
        "def sigmoid(value):\n",
        "    # print(\"value -> numpy.exp(-value)\", value, numpy.exp(-value))\n",
        "    return 1 / (1 + numpy.exp(-value))\n",
        "\n",
        "def get_by_sigmoid(t_list, factor_list):\n",
        "    # print(\"get_by_linear(t_list, factor_list)\", get_by_linear(t_list, factor_list))\n",
        "    return sigmoid(get_by_linear(t_list, factor_list))\n",
        "\n",
        "def get_by_linear(t_list, factor_list):\n",
        "    return t_list[0] + numpy.dot(t_list[1:], factor_list)\n",
        "\n",
        "def calc_energy_value(lambda_size, theta_list, data_dic):\n",
        "    ret = 0\n",
        "\n",
        "    m = len(data_dic)\n",
        "\n",
        "    for factor_list, r_in_d in data_dic.items():\n",
        "        # (−l(i)log(sigmoid)−(1−l(i))log(1−σ(z(i))))\n",
        "        z_i = get_by_sigmoid(theta_list, factor_list)\n",
        "\n",
        "\n",
        "        # print(z_i, r_in_d)\n",
        "\n",
        "        float_min = 0.00000000000000001\n",
        "        calc_result = -r_in_d * numpy.log(max(z_i, float_min)) - (1 - r_in_d) * numpy.log(max(z_i, float_min))\n",
        "\n",
        "        ret = ret + calc_result\n",
        "\n",
        "    lambda_sum = numpy.sum(numpy.square(theta_list)) * lambda_size / 2\n",
        "\n",
        "    return ret / m + lambda_sum\n",
        "    \n",
        "# Gradient Descent를 위해 cost function을 변형한 식\n",
        "def calc_cost_sum_for_gradient_descent(theta_list, data_dic, multiply_bitmap):\n",
        "    ret = 0\n",
        "\n",
        "    m = len(data_dic)\n",
        "\n",
        "    for factor_list, result_in_data in data_dic.items():\n",
        "        calc_y = get_by_sigmoid(theta_list, factor_list)\n",
        "        calc_result = calc_y - result_in_data\n",
        "\n",
        "        for factor, multiply_flag in zip(factor_list, multiply_bitmap):\n",
        "            if multiply_flag == 0:\n",
        "                continue\n",
        "\n",
        "            calc_result = calc_result * factor\n",
        "\n",
        "        ret = ret + calc_result\n",
        "\n",
        "    return ret / m\n",
        "    \n",
        "def next_gradient_descent_step(step_size, lambda_size, theta_list, data_dic):\n",
        "    next_theta_list = []\n",
        "    for i in range(len(theta_list)):\n",
        "        bitmap = [0] * (len(theta_list) - 1)\n",
        "        if i - 1 >= 0:\n",
        "            bitmap[i-1] = 1\n",
        "\n",
        "        # print(bitmap)\n",
        "\n",
        "        next_theta = theta_list[i] - step_size * (calc_cost_sum_for_gradient_descent(theta_list, data_dic, bitmap) + lambda_size * theta_list[i])\n",
        "        next_theta_list.append(next_theta)\n",
        "\n",
        "    return next_theta_list\n",
        "    \n",
        "def check_convergence(theta_list, new_theta_list):\n",
        "    # float 형의 자료형 동일한지 판단을 위해 numpy의 isclose를 사용.\n",
        "    # atol = 0.000000000000000000000001\n",
        "    return numpy.isclose(theta_list, new_theta_list)\n",
        "    # return numpy.isclose(theta_list, new_theta_list)"
      ],
      "execution_count": 0,
      "outputs": []
    },
    {
      "cell_type": "code",
      "metadata": {
        "id": "gyB_Kn9iLsq_",
        "colab_type": "code",
        "colab": {}
      },
      "source": [
        "def calc_accuracy(theta_list, factor_to_result):        \n",
        "    count = 0\n",
        "    for factor_list, h in factor_to_result.items():\n",
        "        expected_h = get_by_linear(theta_list, factor_list)\n",
        "        if expected_h > 0 and h == 1:\n",
        "            count = count + 1\n",
        "        if expected_h <= 0 and h == 0:\n",
        "            count = count + 1\n",
        "\n",
        "    return count / len(factor_to_result)"
      ],
      "execution_count": 0,
      "outputs": []
    },
    {
      "cell_type": "code",
      "metadata": {
        "id": "4n4UUmH80XKa",
        "colab_type": "code",
        "colab": {
          "base_uri": "https://localhost:8080/",
          "height": 34
        },
        "outputId": "5af90d11-c575-4067-957e-7292819457f5"
      },
      "source": [
        "from IPython.display import display, HTML\n",
        "\n",
        "def cprint(s, color='black'):\n",
        "    display(HTML(cstr(s, color)))\n",
        "\n",
        "def cstr(s, color='black'):\n",
        "    return \"<text style=color:{}>{}</text>\".format(color, s)\n",
        "\n",
        "cprint(\"test\", \"red\")"
      ],
      "execution_count": 32,
      "outputs": [
        {
          "output_type": "display_data",
          "data": {
            "text/html": [
              "<text style=color:red>test</text>"
            ],
            "text/plain": [
              "<IPython.core.display.HTML object>"
            ]
          },
          "metadata": {
            "tags": []
          }
        }
      ]
    },
    {
      "cell_type": "code",
      "metadata": {
        "id": "6gt97kxZLtv6",
        "colab_type": "code",
        "colab": {}
      },
      "source": [
        "import numpy as np\n",
        "import matplotlib.pyplot as plt\n",
        "\n",
        "data    = np.genfromtxt(\"data-nonlinear.txt\", delimiter=',')\n",
        "\n",
        "pointX  = data[:, 0]\n",
        "pointY  = data[:, 1]\n",
        "label   = data[:, 2]\n",
        "\n",
        "x_label0 = pointX[label == 0]\n",
        "y_label0 = pointY[label == 0]\n",
        "\n",
        "x_label1 = pointX[label == 1]\n",
        "y_label1 = pointY[label == 1]\n"
      ],
      "execution_count": 0,
      "outputs": []
    },
    {
      "cell_type": "code",
      "metadata": {
        "id": "Wq4St1f-LvG_",
        "colab_type": "code",
        "outputId": "b7caa40d-bde4-45d0-af1f-b29003fc76f7",
        "colab": {
          "base_uri": "https://localhost:8080/",
          "height": 156
        }
      },
      "source": [
        "dic0 = dict(zip(zip(x_label0, y_label0), [0] * len(x_label0)))\n",
        "dic1 = dict(zip(zip(x_label1, y_label1), [1] * len(x_label1)))\n",
        "factor_to_result = {**dic0, **dic1}\n",
        "\n",
        "poly_list = []\n",
        "current_theta_list = []\n",
        "# 다항식을 만들기 위한 값을 리스트로 저장\n",
        "# 0, 0 은 생성 안한다. (get_by_linear에서 0,0은 별도 처리를 해주고 있다.)\n",
        "# (n, m) 은 x^n, y^m을 의미.\n",
        "\n",
        "for x in range(0, 10):\n",
        "    for y in range(0,10):\n",
        "        if x == 0 and y == 0:\n",
        "            continue\n",
        "        poly_list.append((x,y))\n",
        "        # poly_list.append((0,0))\n",
        "\n",
        "# 대충 정해준거\n",
        "for x in range(0, 10):\n",
        "    for y in range(0,10):\n",
        "        current_theta_list.append(((5.9 - x) * (5.3 -y)) ** 2)\n",
        "        # current_theta_list.append(0)\n",
        "\n",
        "print(f\"size of k is {len(current_theta_list)}\")\n",
        "print(f\"size of poly list is {len(poly_list)}\")\n",
        "print(poly_list)\n",
        "\n",
        "# 이전 과제까지는 수가 작아서 이터레이션에서 계산했는데, 이번에는 값이 많아서 미리 계산해둔다.\n",
        "# data_dic에는 x, y, h 이렇게 들어갔는데, poly_list를 이용해서 새로 dict을 만들어준다.\n",
        "# poly_list의 값은 x^n, y^m 이렇게 됨.\n",
        "factor_to_result_orig = factor_to_result\n",
        "factor_to_result = {}\n",
        "\n",
        "for (x,y), value in factor_to_result_orig.items():\n",
        "    new_factor = []\n",
        "    for (x_up, y_up) in poly_list:\n",
        "        new_factor.append((x ** x_up) * (y ** y_up))\n",
        "    \n",
        "    factor_to_result[tuple(new_factor)] = value\n",
        "\n",
        "\n",
        "step_size = 0.1\n",
        "over_lambda_size = 0.5039\n",
        "lambda_size = 0.569\n",
        "under_lambda_size = 0.6939\n",
        "\n",
        "step_count = 0\n",
        "\n",
        "step_count_to_energy_value = {step_count: calc_energy_value(lambda_size, current_theta_list, factor_to_result)}\n",
        "step_count_to_energy_value_over = {step_count: calc_energy_value(over_lambda_size, current_theta_list, factor_to_result)}\n",
        "step_count_to_energy_value_under = {step_count: calc_energy_value(under_lambda_size, current_theta_list, factor_to_result)}\n",
        "\n",
        "step_count_to_accuracy = {step_count: calc_accuracy(current_theta_list, factor_to_result)}\n",
        "step_count_to_accuracy_over = {step_count: calc_accuracy(current_theta_list, factor_to_result)}\n",
        "step_count_to_accuracy_under = {step_count: calc_accuracy(current_theta_list, factor_to_result)}\n",
        "\n",
        "step_count_to_theta_list = {step_count: current_theta_list}\n",
        "step_count_to_theta_list_over = {step_count: current_theta_list}\n",
        "step_count_to_theta_list_under = {step_count: current_theta_list}\n",
        "\n",
        "\n",
        "print(\"start ->\",current_theta_list, \"loss\", step_count_to_energy_value[step_count])\n",
        "\n",
        "no_loop = 0\n",
        "current_theta_list_over = current_theta_list\n",
        "current_theta_list_under = current_theta_list\n",
        "\n",
        "while(True):\n",
        "    step_count = step_count + 1\n",
        "    next_theta_list = next_gradient_descent_step(step_size, lambda_size, current_theta_list, factor_to_result)\n",
        "    next_theta_list_over = next_gradient_descent_step(step_size, over_lambda_size, current_theta_list_over, factor_to_result)\n",
        "    next_theta_list_under = next_gradient_descent_step(step_size, under_lambda_size, current_theta_list_under, factor_to_result)\n",
        "    \n",
        "    step_count_to_energy_value[step_count] = calc_energy_value(lambda_size, next_theta_list, factor_to_result)\n",
        "    step_count_to_energy_value_over[step_count] = calc_energy_value(over_lambda_size, next_theta_list_over, factor_to_result)\n",
        "    step_count_to_energy_value_under[step_count] = calc_energy_value(under_lambda_size, next_theta_list_under, factor_to_result)\n",
        "\n",
        "    step_count_to_accuracy[step_count] = calc_accuracy(next_theta_list, factor_to_result)\n",
        "    step_count_to_accuracy_over[step_count] = calc_accuracy(next_theta_list_over, factor_to_result)\n",
        "    step_count_to_accuracy_under[step_count] = calc_accuracy(next_theta_list_under, factor_to_result)\n",
        "\n",
        "    step_count_to_theta_list[step_count] = next_theta_list\n",
        "    step_count_to_theta_list_over[step_count] = next_theta_list_over\n",
        "    step_count_to_theta_list_under[step_count] = next_theta_list_under\n",
        "\n",
        "    # -------------------------디버그용 코드\n",
        "    no_loop = no_loop + 1\n",
        "    if(no_loop % 1000 == 0):\n",
        "        print(\"loop\", no_loop, current_theta_list, \"->\", next_theta_list, \"loss\", step_count_to_energy_value[step_count], \"step mul\", numpy.log(numpy.log(step_count+1) + 1))\n",
        "\n",
        "        start = 0.0000000001\n",
        "        for i in range(9):\n",
        "            if numpy.isclose(current_theta_list, next_theta_list, rtol=start, atol=start).all():\n",
        "                print(f\"close at {start:.15f}\")\n",
        "                break;\n",
        "            start = start * 10\n",
        "\n",
        "    if(no_loop >= 10000):\n",
        "        print(\"stop\")\n",
        "        break\n",
        "    # -------------------------디버그용 코드 끝    \n",
        "    if check_convergence(current_theta_list, next_theta_list).all():\n",
        "        break\n",
        "\n",
        "    # print(current_theta_list, \"->\", next_theta_list, \"loss\", step_count_to_energy_value[step_count])\n",
        "    current_theta_list = next_theta_list\n",
        "    current_theta_list_over = next_theta_list_over\n",
        "    current_theta_list_under = next_theta_list_under\n",
        "\n",
        "# show calculated theta\n",
        "# current_theta_list = [0, 0, 0, 1, 0, 1]\n",
        "print(\"current_theta_pair\", current_theta_list, \"loop\", no_loop)\n",
        "print(\"current_theta_pair\", current_theta_list_over, \"loop\", no_loop)\n",
        "print(\"current_theta_pair\", current_theta_list_under, \"loop\", no_loop)"
      ],
      "execution_count": 34,
      "outputs": [
        {
          "output_type": "stream",
          "text": [
            "size of k is 100\n",
            "size of poly list is 99\n",
            "[(0, 1), (0, 2), (0, 3), (0, 4), (0, 5), (0, 6), (0, 7), (0, 8), (0, 9), (1, 0), (1, 1), (1, 2), (1, 3), (1, 4), (1, 5), (1, 6), (1, 7), (1, 8), (1, 9), (2, 0), (2, 1), (2, 2), (2, 3), (2, 4), (2, 5), (2, 6), (2, 7), (2, 8), (2, 9), (3, 0), (3, 1), (3, 2), (3, 3), (3, 4), (3, 5), (3, 6), (3, 7), (3, 8), (3, 9), (4, 0), (4, 1), (4, 2), (4, 3), (4, 4), (4, 5), (4, 6), (4, 7), (4, 8), (4, 9), (5, 0), (5, 1), (5, 2), (5, 3), (5, 4), (5, 5), (5, 6), (5, 7), (5, 8), (5, 9), (6, 0), (6, 1), (6, 2), (6, 3), (6, 4), (6, 5), (6, 6), (6, 7), (6, 8), (6, 9), (7, 0), (7, 1), (7, 2), (7, 3), (7, 4), (7, 5), (7, 6), (7, 7), (7, 8), (7, 9), (8, 0), (8, 1), (8, 2), (8, 3), (8, 4), (8, 5), (8, 6), (8, 7), (8, 8), (8, 9), (9, 0), (9, 1), (9, 2), (9, 3), (9, 4), (9, 5), (9, 6), (9, 7), (9, 8), (9, 9)]\n",
            "start -> [977.8129, 643.6369000000001, 379.08089999999993, 184.1449, 58.82889999999998, 3.132899999999997, 17.056900000000013, 100.60090000000002, 253.76490000000004, 476.54890000000006, 674.4409000000002, 443.9449, 261.4689000000001, 127.01289999999999, 40.57689999999999, 2.160899999999998, 11.764900000000008, 69.38890000000004, 175.03290000000007, 328.6969000000001, 427.24890000000005, 281.2329, 165.63690000000003, 80.46090000000001, 25.704899999999995, 1.368899999999999, 7.452900000000005, 43.95690000000002, 110.88090000000003, 208.22490000000005, 236.23690000000002, 155.50090000000003, 91.5849, 44.4889, 14.2129, 0.7568999999999992, 4.1209000000000024, 24.304900000000014, 61.30890000000003, 115.13290000000005, 101.40490000000004, 66.74890000000003, 39.312900000000006, 19.0969, 6.100900000000001, 0.3248999999999997, 1.7689000000000015, 10.432900000000005, 26.316900000000018, 49.42090000000003, 22.752900000000015, 14.976900000000011, 8.820900000000007, 4.284900000000003, 1.368900000000001, 0.07289999999999998, 0.3969000000000006, 2.340900000000002, 5.904900000000005, 11.08890000000001, 0.28089999999999804, 0.18489999999999865, 0.1088999999999992, 0.05289999999999962, 0.016899999999999877, 0.0008999999999999924, 0.004899999999999968, 0.028899999999999797, 0.0728999999999995, 0.13689999999999905, 33.98889999999998, 22.372899999999987, 13.17689999999999, 6.400899999999995, 2.044899999999998, 0.10889999999999979, 0.5928999999999999, 3.496899999999999, 8.820899999999996, 16.564899999999987, 123.87689999999994, 81.54089999999995, 48.02489999999998, 23.328899999999994, 7.452899999999995, 0.3968999999999994, 2.1609000000000007, 12.7449, 32.14889999999999, 60.37289999999998, 269.94489999999985, 177.68889999999996, 104.65289999999997, 50.836899999999986, 16.240899999999996, 0.8648999999999989, 4.708900000000002, 27.772899999999996, 70.05689999999998, 131.56089999999998] loss 964829.5930591044\n",
            "current_theta_pair [0.01739203148455241, 0.016940377910622192, -0.04784970519738729, -0.025778926341126905, -0.053062539983064747, -0.03930765915150611, -0.052511452526475204, -0.04510429104186336, -0.05246071424765249, -0.04905006743427261, -0.02143622095322859, -0.01949512452419666, -0.012749788312141625, -0.005252534081276554, -0.007349335845025814, -0.002344138500934907, -0.004089158481417543, -0.0012374660635757775, -0.0023532998932857484, -0.0007879201441312855, -0.07636314692715057, -0.010465421480664233, -0.019798184387093184, -0.008668630031546328, -0.011076662715457255, -0.0067601149274089944, -0.007577300733221668, -0.0055238325524622775, -0.005851994628363257, -0.00479002076222057, -0.02373769884793965, -0.003287039783011577, -0.00498868773685103, -0.0005351309741695765, -0.002102727598675284, -0.00016310098213247486, -0.0008562749683020332, 3.552484640473488e-05, -0.0002924977260870198, 0.00013980922209148367, -0.06066651435303857, -0.006593595580039039, -0.009979778662924396, -0.0034506704751754783, -0.004300520763843593, -0.0022464493688768654, -0.0024502844103988747, -0.0016007325370879348, -0.0016410414661462186, -0.0012346212950085954, -0.027980717819245826, -0.0013695556473294862, -0.003477799186599768, -0.00029232494344784725, -0.0012716527766964652, -0.00020105085870501728, -0.0005253148415370691, -0.00010044097237041725, -0.00021765698085725855, -2.8401387017233393e-05, -0.0474920121378867, -0.004147618428777195, -0.005659565038792603, -0.0015017572864476627, -0.0019957294432603177, -0.0008670942935631345, -0.000974501818479987, -0.0005616159206772833, -0.0005752996584278802, -0.00039631957268676434, -0.028626922126686865, -0.0011045661962643962, -0.002530949829575623, -0.00018595667054913933, -0.0008127116186397723, -0.00015423599543012262, -0.00033137643903614704, -9.990214811907673e-05, -0.00015167531251462547, -5.787239696517476e-05, -0.039024479617880845, -0.0030146639112348284, -0.0035310513856795372, -0.000734693883984995, -0.0010569176244528702, -0.0003808130245107272, -0.0004515756290055349, -0.00022783949796641376, -0.00023657133998824555, -0.00014827856235104253, -0.028051428664396433, -0.0012421865454481488, -0.0018810505778257705, -0.00012645655775427495, -0.0005284040062057021, -9.829163371424433e-05, -0.00020325181973358672, -6.557750193951926e-05, -9.200866401614313e-05, -4.082377633963422e-05] loop 353\n",
            "current_theta_pair [0.021875926190113897, 0.0204748825884836, -0.05254898094300175, -0.02778598973229824, -0.0585240516570533, -0.04302998762038197, -0.05788158417032034, -0.04949873427834667, -0.057737819267735545, -0.05383071663910992, -0.022942671622296597, -0.02190969276272461, -0.014218709707216087, -0.005899087955556616, -0.008240061711989191, -0.00263160164484383, -0.004590172707102979, -0.0013833850346255752, -0.0026345374843519663, -0.0008680615783751395, -0.08512596777404667, -0.011623996447608293, -0.022114713763939652, -0.009654056525543943, -0.012358951120792737, -0.007517991628390307, -0.008437330516394257, -0.006130801962312871, -0.006499533413910716, -0.005304072191047864, -0.02589368469723197, -0.003638169126686946, -0.005532608498120422, -0.0005837363688753899, -0.0023423607224460742, -0.00017444946750859615, -0.0009538973244465775, 4.5542622353787224e-05, -0.00032337501177878345, 0.00016245914955189682, -0.06765767693458444, -0.007357197167284148, -0.011166828414110147, -0.0038584370774968797, -0.004810628952487393, -0.0025088378826631087, -0.002737792107922048, -0.0017849337021921263, -0.0018305415490893614, -0.001374248880354248, -0.030833652404361863, -0.0014865836196595022, -0.0038642812937518013, -0.00031747758536294744, -0.0014170772951515493, -0.00022084591544561564, -0.000585639922420143, -0.0001101998562422172, -0.00024240767383568924, -3.0408136298327765e-05, -0.05289580155906364, -0.00461998930179611, -0.006333129640636741, -0.0016802425663569266, -0.00223365438459831, -0.0009693773831291955, -0.0010899095178215769, -0.0006271534934748824, -0.0006427308800165471, -0.0004420704154311082, -0.031633520377057425, -0.001191541170965699, -0.0028154321621772184, -0.00020185231620791964, -0.0009060749366926572, -0.0001702764714766579, -0.00036954256403418524, -0.00011061390207744384, -0.00016899453033565647, -6.394812371390939e-05, -0.043385024294040966, -0.003345780045737045, -0.003949000213650604, -0.0008212735436718415, -0.001182825364634816, -0.0004257639730323252, -0.0005051607726054401, -0.00025439023665870886, -0.0002640720963521626, -0.00016482007161157006, -0.031009628907231107, -0.0013452641361638427, -0.002092554260677787, -0.00013685370973026424, -0.0005891830385447131, -0.00010864528293163374, -0.00022667492184879812, -7.245335544339908e-05, -0.00010181186033301474, -4.387035463240114e-05] loop 353\n",
            "current_theta_pair [0.011577874928289936, 0.012326442234257173, -0.040947337023794, -0.02264774110048692, -0.045093450203342725, -0.03376369650390287, -0.044651748081921114, -0.03859385473363642, -0.044697913864380705, -0.04195892794642278, -0.018945689726831055, -0.016092356200881806, -0.010647597995318076, -0.004339952953113414, -0.006090403251819675, -0.0019385497166744493, -0.0033827117454023744, -0.0010289236394819864, -0.0019525759477217273, -0.0006659741205746869, -0.06385213292062328, -0.008803798242886081, -0.016507388750932665, -0.007261447951219251, -0.009250939752464112, -0.005673919573281575, -0.006347111554104222, -0.004648909874558848, -0.0049189711879483195, -0.004042737521550459, -0.020455364491424703, -0.002774155466533892, -0.004200199886965678, -0.00046099004768013983, -0.001759316809831013, -0.00014445318579760506, -0.0007163921701361678, 2.3450287879054712e-05, -0.0002467284345348959, 0.00011093293142019573, -0.050677881760841995, -0.005506765227686162, -0.00829777821842566, -0.002872884019708617, -0.0035775188282897827, -0.0018735772685488554, -0.0020418175933241147, -0.0013378752756110191, -0.001370548773127654, -0.0010340642584235156, -0.023773266419567236, -0.0011885764644892654, -0.0029206271617199654, -0.00025367920672755617, -0.0010634968068624292, -0.00017171418962382335, -0.0004390594419103705, -8.589158681130816e-05, -0.00018211799903154977, -2.4992017653758586e-05, -0.039743131833399406, -0.0034720492157683134, -0.004704878900376155, -0.0012491694210394076, -0.0016587478775037306, -0.0007220262546782255, -0.0008108242672863304, -0.00046840694309276056, -0.00047944763262016836, -0.00033107870852994403, -0.02422545568080687, -0.000966436010357813, -0.002121786777430408, -0.0001614551918404677, -0.0006791938742588964, -0.00013078974546759572, -0.00027684124724214126, -8.431272684747334e-05, -0.0001267835846782071, -4.881503122809626e-05, -0.03274005559617018, -0.0025354488308818425, -0.002937122017666263, -0.0006116327005225623, -0.000878410407590888, -0.0003170542355593633, -0.0003755652152208656, -0.0001899151714863953, -0.0001970295253180666, -0.00012380856492194374, -0.023721874871119434, -0.0010791640822857642, -0.0015757417541927272, -0.00010970727521120887, -0.0004413321879981287, -8.319573324244214e-05, -0.00016973637506510284, -5.5223768960166934e-05, -7.694209604067786e-05, -3.442616599460165e-05] loop 353\n"
          ],
          "name": "stdout"
        }
      ]
    },
    {
      "cell_type": "markdown",
      "metadata": {
        "id": "N5IKqMICNrl2",
        "colab_type": "text"
      },
      "source": [
        "1 - Plot the training data [1pt]"
      ]
    },
    {
      "cell_type": "code",
      "metadata": {
        "id": "HgZgZ-uMNwlm",
        "colab_type": "code",
        "outputId": "524f6800-21b6-4419-cf8d-488a4aa8652f",
        "colab": {
          "base_uri": "https://localhost:8080/",
          "height": 297
        }
      },
      "source": [
        "plt.figure()\n",
        "plt.scatter(x_label0, y_label0, c='b')\n",
        "plt.scatter(x_label1, y_label1, c='r')\n",
        "plt.tight_layout()\n",
        "plt.gca().set_aspect('equal', adjustable='box')\n",
        "plt.show()"
      ],
      "execution_count": 35,
      "outputs": [
        {
          "output_type": "display_data",
          "data": {
            "image/png": "[encoded data removed]",
            "text/plain": [
              "<Figure size 432x288 with 1 Axes>"
            ]
          },
          "metadata": {
            "tags": [],
            "needs_background": "light"
          }
        }
      ]
    },
    {
      "cell_type": "markdown",
      "metadata": {
        "id": "RAPg_JG6oqRg",
        "colab_type": "text"
      },
      "source": [
        "2. Plot the training error with varying regularization parameters"
      ]
    },
    {
      "cell_type": "code",
      "metadata": {
        "id": "cQ6ieZ-bnTzx",
        "colab_type": "code",
        "outputId": "116c4496-10c4-46c4-a7da-087143dda44e",
        "colab": {
          "base_uri": "https://localhost:8080/",
          "height": 494
        }
      },
      "source": [
        "make_plot([(step_count_to_energy_value_over, \"plot\", \"red\", \"over-fitting\"), (step_count_to_energy_value, \"plot\", \"green\", \"just-right\"), (step_count_to_energy_value_under, \"plot\", \"blue\", \"under-fitting\") ])\n",
        "show_plot()"
      ],
      "execution_count": 36,
      "outputs": [
        {
          "output_type": "display_data",
          "data": {
            "image/png": "[encoded data removed]",
            "text/plain": [
              "<Figure size 576x576 with 1 Axes>"
            ]
          },
          "metadata": {
            "tags": [],
            "needs_background": "light"
          }
        }
      ]
    },
    {
      "cell_type": "markdown",
      "metadata": {
        "id": "YJ0mdHWOoy-Q",
        "colab_type": "text"
      },
      "source": [
        "3. Display the values of the chosen regularization parameters"
      ]
    },
    {
      "cell_type": "code",
      "metadata": {
        "id": "93WYjQccoyrx",
        "colab_type": "code",
        "outputId": "e7af415f-5686-4888-e75c-8be9b310f326",
        "colab": {
          "base_uri": "https://localhost:8080/",
          "height": 68
        }
      },
      "source": [
        "cprint(f\"over-fitting: {over_lambda_size}%\", \"red\")\n",
        "cprint(f\"just-right: {lambda_size}%\", \"green\")\n",
        "cprint(f\"under-fitting: {under_lambda_size}%\", \"blue\")"
      ],
      "execution_count": 38,
      "outputs": [
        {
          "output_type": "display_data",
          "data": {
            "text/html": [
              "<text style=color:red>over-fitting: 0.5039%</text>"
            ],
            "text/plain": [
              "<IPython.core.display.HTML object>"
            ]
          },
          "metadata": {
            "tags": []
          }
        },
        {
          "output_type": "display_data",
          "data": {
            "text/html": [
              "<text style=color:green>just-right: 0.569%</text>"
            ],
            "text/plain": [
              "<IPython.core.display.HTML object>"
            ]
          },
          "metadata": {
            "tags": []
          }
        },
        {
          "output_type": "display_data",
          "data": {
            "text/html": [
              "<text style=color:blue>under-fitting: 0.6939%</text>"
            ],
            "text/plain": [
              "<IPython.core.display.HTML object>"
            ]
          },
          "metadata": {
            "tags": []
          }
        }
      ]
    },
    {
      "cell_type": "markdown",
      "metadata": {
        "id": "_EfOL_atpZYY",
        "colab_type": "text"
      },
      "source": [
        "4. Plot the training accuracy with varying regularization parameters"
      ]
    },
    {
      "cell_type": "code",
      "metadata": {
        "id": "_fqCi6bxsw54",
        "colab_type": "code",
        "outputId": "0bed81a3-9c6b-4689-9978-db122a963e87",
        "colab": {
          "base_uri": "https://localhost:8080/",
          "height": 483
        }
      },
      "source": [
        "make_plot([(step_count_to_accuracy_over, \"plot\", \"red\", \"over-fitting\"), (step_count_to_accuracy, \"plot\", \"green\", \"just-right\"), (step_count_to_accuracy_under, \"plot\", \"blue\", \"under-fitting\") ])\n",
        "show_plot()"
      ],
      "execution_count": 39,
      "outputs": [
        {
          "output_type": "display_data",
          "data": {
            "image/png": "[encoded data removed]",
            "text/plain": [
              "<Figure size 576x576 with 1 Axes>"
            ]
          },
          "metadata": {
            "tags": [],
            "needs_background": "light"
          }
        }
      ]
    },
    {
      "cell_type": "markdown",
      "metadata": {
        "id": "XHMY6ngCs-aM",
        "colab_type": "text"
      },
      "source": [
        "5. Display the final training accuracy with varying regularization parameters"
      ]
    },
    {
      "cell_type": "code",
      "metadata": {
        "id": "S993LpEGs8MO",
        "colab_type": "code",
        "outputId": "90d572f4-e489-4ad1-ab2f-aa1bdc5942f3",
        "colab": {
          "base_uri": "https://localhost:8080/",
          "height": 68
        }
      },
      "source": [
        "def get_last(d):\n",
        "    return d[list(d.keys())[-1]]\n",
        "\n",
        "cprint(f\"over-fitting: {get_last(step_count_to_accuracy_over) * 100}%\", \"red\")\n",
        "cprint(f\"just-right: {get_last(step_count_to_accuracy) * 100}%\", \"green\")\n",
        "cprint(f\"under-fitting: {get_last(step_count_to_accuracy_under) * 100}%\", \"blue\")"
      ],
      "execution_count": 40,
      "outputs": [
        {
          "output_type": "display_data",
          "data": {
            "text/html": [
              "<text style=color:red>over-fitting: 67.79661016949152%</text>"
            ],
            "text/plain": [
              "<IPython.core.display.HTML object>"
            ]
          },
          "metadata": {
            "tags": []
          }
        },
        {
          "output_type": "display_data",
          "data": {
            "text/html": [
              "<text style=color:green>just-right: 66.10169491525424%</text>"
            ],
            "text/plain": [
              "<IPython.core.display.HTML object>"
            ]
          },
          "metadata": {
            "tags": []
          }
        },
        {
          "output_type": "display_data",
          "data": {
            "text/html": [
              "<text style=color:blue>under-fitting: 63.559322033898304%</text>"
            ],
            "text/plain": [
              "<IPython.core.display.HTML object>"
            ]
          },
          "metadata": {
            "tags": []
          }
        }
      ]
    },
    {
      "cell_type": "markdown",
      "metadata": {
        "id": "LOQm-iR5tnn9",
        "colab_type": "text"
      },
      "source": [
        "6. Plot the optimal classifier with varying regularization parameters superimposed on the training data"
      ]
    },
    {
      "cell_type": "code",
      "metadata": {
        "id": "4-K2FFOrtrqz",
        "colab_type": "code",
        "outputId": "e052a5c5-9f1e-440c-9d33-7f4116e1fcec",
        "colab": {
          "base_uri": "https://localhost:8080/",
          "height": 314
        }
      },
      "source": [
        "x = np.arange(-2, 2, 0.05)\n",
        "xx, yy = np.meshgrid(x, x)\n",
        "\n",
        "def make_tuple(poly_list, x, y):\n",
        "    new_factor = []\n",
        "    for (x_up, y_up) in poly_list:\n",
        "        new_factor.append((x ** x_up) * (y ** y_up))\n",
        "\n",
        "    return tuple(new_factor)\n",
        "\n",
        "def_calc_cost_over = np.frompyfunc(lambda x, y: get_by_linear(current_theta_list_over, make_tuple(poly_list,x,y)), 2, 1)\n",
        "def_calc_cost = np.frompyfunc(lambda x, y: get_by_linear(current_theta_list, make_tuple(poly_list,x,y)), 2, 1)\n",
        "def_calc_cost_under = np.frompyfunc(lambda x, y: get_by_linear(current_theta_list_under, make_tuple(poly_list,x,y)), 2, 1)\n",
        "\n",
        "result_over = def_calc_cost_over.reduce((xx, yy), axis=0).astype(np.float64)\n",
        "result = def_calc_cost.reduce((xx, yy), axis=0).astype(np.float64)\n",
        "result_under = def_calc_cost_under.reduce((xx, yy), axis=0).astype(np.float64)\n",
        "\n",
        "\n",
        "make_plot([])\n",
        "\n",
        "plt.figure()\n",
        "plt.scatter(x_label0, y_label0, c='b')\n",
        "plt.scatter(x_label1, y_label1, c='r')\n",
        "plt.tight_layout()\n",
        "plt.gca().set_aspect('equal', adjustable='box')\n",
        "\n",
        "a = pyplot.contour(xx, yy, result_over, colors=['red', 'red'],levels=[0])\n",
        "b = pyplot.contour(xx, yy, result, colors=['green', 'green'],levels=[0])\n",
        "c = pyplot.contour(xx, yy, result_under, colors=['blue', 'blue'],levels=[0])\n",
        "\n",
        "proxy = [pyplot.Rectangle((0,0),1,1,fc = pc.colors[0]) for pc in [a, b, c]]\n",
        "\n",
        "plt.legend(proxy, [\"over-fitting\", \"just-right\", \"under-fitting\"])\n",
        "pyplot.show()"
      ],
      "execution_count": 41,
      "outputs": [
        {
          "output_type": "display_data",
          "data": {
            "text/plain": [
              "<Figure size 576x576 with 0 Axes>"
            ]
          },
          "metadata": {
            "tags": []
          }
        },
        {
          "output_type": "display_data",
          "data": {
            "image/png": "[encoded data removed]",
            "text/plain": [
              "<Figure size 432x288 with 1 Axes>"
            ]
          },
          "metadata": {
            "tags": [],
            "needs_background": "light"
          }
        }
      ]
    }
  ]
}