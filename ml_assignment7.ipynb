{
  "nbformat": 4,
  "nbformat_minor": 0,
  "metadata": {
    "colab": {
      "name": "ml-assignment7.ipynb",
      "provenance": [],
      "collapsed_sections": [],
      "authorship_tag": "ABX9TyN9Eil/zDIhIrBhd6TWVUNp",
      "include_colab_link": true
    },
    "kernelspec": {
      "name": "python3",
      "display_name": "Python 3"
    }
  },
  "cells": [
    {
      "cell_type": "markdown",
      "metadata": {
        "id": "view-in-github",
        "colab_type": "text"
      },
      "source": [
        "<a href=\"https://colab.research.google.com/github/nbkwon/ml-assignment/blob/master/ml_assignment7.ipynb\" target=\"_parent\"><img src=\"https://colab.research.google.com/assets/colab-badge.svg\" alt=\"Open In Colab\"/></a>"
      ]
    },
    {
      "cell_type": "code",
      "metadata": {
        "id": "U84xfgQlLlLM",
        "colab_type": "code",
        "colab": {}
      },
      "source": [
        "# we now need pyplot for plotting data\n",
        "import matplotlib.pyplot as pyplot\n",
        "def show_plot(download_file = False):\n",
        "    pyplot.legend()\n",
        "    pyplot.show()\n",
        "    if download_file == False:\n",
        "       return\n",
        "    \n",
        "    import google.colab\n",
        "    file_name = \"test.png\"\n",
        "    pyplot.savefig(file_name)\n",
        "    google.colab.files.download(file_name)\n",
        "\n",
        "def make_plot(plot_data_list, use_this = None):\n",
        "    # it's too samll. make bigger.\n",
        "    if use_this is None:\n",
        "        pyplot.figure(figsize=(8, 8))\n",
        "    else:\n",
        "        # use_this.set_figheight(8)\n",
        "        # use_this.set_figwidth(8)\n",
        "        pass\n",
        "\n",
        "    for data_dic, plot_type, color, label in plot_data_list:\n",
        "        if plot_type is \"plot\":\n",
        "            if use_this is None:\n",
        "                pyplot.plot(list(data_dic.keys()), list(data_dic.values()), c=color, label=label)\n",
        "            else:\n",
        "                use_this.plot(list(data_dic.keys()), list(data_dic.values()), c=color, label=label)    \n",
        "        if plot_type is \"scatter\":\n",
        "            if use_this is None:\n",
        "                pyplot.scatter(list(data_dic.keys()), list(data_dic.values()), c=color, label=label)\n",
        "            else:\n",
        "                use_this.scatter(list(data_dic.keys()), list(data_dic.values()), c=color, label=label)"
      ],
      "execution_count": 0,
      "outputs": []
    },
    {
      "cell_type": "code",
      "metadata": {
        "id": "YTbWfGuELqyu",
        "colab_type": "code",
        "colab": {}
      },
      "source": [
        "# 이전 과제에서 쌓여가는 함수\n",
        "\n",
        "import numpy\n",
        "\n",
        "def sigmoid(value):\n",
        "    # print(\"value -> numpy.exp(-value)\", value, numpy.exp(-value))\n",
        "    return 1 / (1 + numpy.exp(-value))\n",
        "\n",
        "def get_by_sigmoid(t_list, factor_list):\n",
        "    # print(\"get_by_linear(t_list, factor_list)\", get_by_linear(t_list, factor_list))\n",
        "    return sigmoid(get_by_linear(t_list, factor_list))\n",
        "\n",
        "def get_by_linear(t_list, factor_list):\n",
        "    return t_list[0] + numpy.dot(t_list[1:], factor_list)\n",
        "\n",
        "def calc_energy_value(lambda_size, theta_list, data_dic):\n",
        "    ret = 0\n",
        "\n",
        "    m = len(data_dic)\n",
        "\n",
        "    for factor_list, r_in_d in data_dic.items():\n",
        "        # (−l(i)log(sigmoid)−(1−l(i))log(1−σ(z(i))))\n",
        "        z_i = get_by_sigmoid(theta_list, factor_list)\n",
        "\n",
        "\n",
        "        # print(z_i, r_in_d)\n",
        "\n",
        "        calc_result = -r_in_d * numpy.log(z_i) - (1 - r_in_d) * numpy.log(1 - z_i)\n",
        "\n",
        "        ret = ret + calc_result\n",
        "\n",
        "    lambda_sum = numpy.sum(numpy.square(theta_list)) * lambda_size / 2\n",
        "\n",
        "    return ret / m + lambda_sum\n",
        "    \n",
        "# Gradient Descent를 위해 cost function을 변형한 식\n",
        "def calc_cost_sum_for_gradient_descent(theta_list, data_dic, multiply_bitmap):\n",
        "    ret = 0\n",
        "\n",
        "    m = len(data_dic)\n",
        "\n",
        "    for factor_list, result_in_data in data_dic.items():\n",
        "        calc_y = get_by_sigmoid(theta_list, factor_list)\n",
        "        calc_result = calc_y - result_in_data\n",
        "\n",
        "        for factor, multiply_flag in zip(factor_list, multiply_bitmap):\n",
        "            if multiply_flag == 0:\n",
        "                continue\n",
        "\n",
        "            calc_result = calc_result * factor\n",
        "\n",
        "        ret = ret + calc_result\n",
        "\n",
        "    return ret / m\n",
        "    \n",
        "def next_gradient_descent_step(step_size, lambda_size, theta_list, data_dic):\n",
        "    next_theta_list = []\n",
        "    for i in range(len(theta_list)):\n",
        "        bitmap = [0] * (len(theta_list) - 1)\n",
        "        if i - 1 >= 0:\n",
        "            bitmap[i-1] = 1\n",
        "\n",
        "        # print(bitmap)\n",
        "\n",
        "        next_theta = theta_list[i] - step_size * (calc_cost_sum_for_gradient_descent(theta_list, data_dic, bitmap) + lambda_size * theta_list[i])\n",
        "        next_theta_list.append(next_theta)\n",
        "\n",
        "    return next_theta_list\n",
        "    \n",
        "def check_convergence(theta_list, new_theta_list):\n",
        "    # float 형의 자료형 동일한지 판단을 위해 numpy의 isclose를 사용.\n",
        "    atol = 0.0000008\n",
        "    return numpy.isclose(theta_list, new_theta_list, rtol=atol, atol=atol)\n",
        "    # return numpy.isclose(theta_list, new_theta_list)"
      ],
      "execution_count": 0,
      "outputs": []
    },
    {
      "cell_type": "code",
      "metadata": {
        "id": "gyB_Kn9iLsq_",
        "colab_type": "code",
        "colab": {}
      },
      "source": [
        "def calc_accuracy(theta_list, factor_to_result):        \n",
        "    count = 0\n",
        "    for factor_list, h in factor_to_result.items():\n",
        "        expected_h = get_by_linear(theta_list, factor_list)\n",
        "        if expected_h > 0 and h == 1:\n",
        "            count = count + 1\n",
        "        if expected_h <= 0 and h == 0:\n",
        "            count = count + 1\n",
        "\n",
        "    return count / len(factor_to_result)"
      ],
      "execution_count": 0,
      "outputs": []
    },
    {
      "cell_type": "code",
      "metadata": {
        "id": "6gt97kxZLtv6",
        "colab_type": "code",
        "colab": {}
      },
      "source": [
        "import numpy as np\n",
        "import matplotlib.pyplot as plt\n",
        "\n",
        "data    = np.genfromtxt(\"data-nonlinear.txt\", delimiter=',')\n",
        "\n",
        "pointX  = data[:, 0]\n",
        "pointY  = data[:, 1]\n",
        "label   = data[:, 2]\n",
        "\n",
        "x_label0 = pointX[label == 0]\n",
        "y_label0 = pointY[label == 0]\n",
        "\n",
        "x_label1 = pointX[label == 1]\n",
        "y_label1 = pointY[label == 1]\n"
      ],
      "execution_count": 0,
      "outputs": []
    },
    {
      "cell_type": "code",
      "metadata": {
        "id": "Wq4St1f-LvG_",
        "colab_type": "code",
        "colab": {
          "base_uri": "https://localhost:8080/",
          "height": 173
        },
        "outputId": "43b29f27-833c-4a40-9a23-5f4c0c56f967"
      },
      "source": [
        "dic0 = dict(zip(zip(x_label0, y_label0), [0] * len(x_label0)))\n",
        "dic1 = dict(zip(zip(x_label1, y_label1), [1] * len(x_label1)))\n",
        "factor_to_result = {**dic0, **dic1}\n",
        "\n",
        "poly_list = []\n",
        "current_theta_list = []\n",
        "# 다항식을 만들기 위한 값을 리스트로 저장\n",
        "# 0, 0 은 생성 안한다. (get_by_linear에서 0,0은 별도 처리를 해주고 있다.)\n",
        "# (n, m) 은 x^n, y^m을 의미.\n",
        "\n",
        "for x in range(0, 10):\n",
        "    for y in range(0,10):\n",
        "        if x == 0 and y == 0:\n",
        "            continue\n",
        "        poly_list.append((x,y))\n",
        "        # poly_list.append((0,0))\n",
        "\n",
        "# 대충 정해준거\n",
        "for x in range(0, 10):\n",
        "    for y in range(0,10):\n",
        "    # current_theta_list.append(x + y)\n",
        "        current_theta_list.append(0)\n",
        "\n",
        "print(f\"size of k is {len(current_theta_list)}\")\n",
        "print(f\"size of poly list is {len(poly_list)}\")\n",
        "print(poly_list)\n",
        "\n",
        "# 이전 과제까지는 수가 작아서 이터레이션에서 계산했는데, 이번에는 값이 많아서 미리 계산해둔다.\n",
        "# data_dic에는 x, y, h 이렇게 들어갔는데, poly_list를 이용해서 새로 dict을 만들어준다.\n",
        "# poly_list의 값은 x^n, y^m 이렇게 됨.\n",
        "factor_to_result_orig = factor_to_result\n",
        "factor_to_result = {}\n",
        "\n",
        "for (x,y), value in factor_to_result_orig.items():\n",
        "    new_factor = []\n",
        "    for (x_up, y_up) in poly_list:\n",
        "        new_factor.append((x ** x_up) * (y ** y_up))\n",
        "    \n",
        "    factor_to_result[tuple(new_factor)] = value\n",
        "\n",
        "\n",
        "step_size = 0.5\n",
        "over_lambda_size = 0.1\n",
        "lambda_size = 2.5\n",
        "under_lambda_size = 5\n",
        "\n",
        "step_count = 0\n",
        "\n",
        "step_count_to_energy_value = {step_count: calc_energy_value(lambda_size, current_theta_list, factor_to_result)}\n",
        "step_count_to_energy_value_over = {step_count: calc_energy_value(over_lambda_size, current_theta_list, factor_to_result)}\n",
        "step_count_to_energy_value_under = {step_count: calc_energy_value(under_lambda_size, current_theta_list, factor_to_result)}\n",
        "\n",
        "step_count_to_accuracy = {step_count: calc_accuracy(current_theta_list, factor_to_result)}\n",
        "step_count_to_accuracy_over = {step_count: calc_accuracy(current_theta_list, factor_to_result)}\n",
        "step_count_to_accuracy_under = {step_count: calc_accuracy(current_theta_list, factor_to_result)}\n",
        "\n",
        "step_count_to_theta_list = {step_count: current_theta_list}\n",
        "step_count_to_theta_list_over = {step_count: current_theta_list}\n",
        "step_count_to_theta_list_under = {step_count: current_theta_list}\n",
        "\n",
        "\n",
        "print(\"start ->\",current_theta_list, \"loss\", step_count_to_energy_value[step_count])\n",
        "\n",
        "no_loop = 0\n",
        "current_theta_list_over = current_theta_list\n",
        "current_theta_list_under = current_theta_list\n",
        "\n",
        "while(True):\n",
        "    step_count = step_count + 1\n",
        "    next_theta_list = next_gradient_descent_step(step_size, lambda_size, current_theta_list, factor_to_result)\n",
        "    next_theta_list_over = next_gradient_descent_step(step_size, over_lambda_size, current_theta_list_over, factor_to_result)\n",
        "    next_theta_list_under = next_gradient_descent_step(step_size, under_lambda_size, current_theta_list_under, factor_to_result)\n",
        "    \n",
        "    step_count_to_energy_value[step_count] = calc_energy_value(lambda_size, next_theta_list, factor_to_result)\n",
        "    step_count_to_energy_value_over[step_count] = calc_energy_value(over_lambda_size, next_theta_list_over, factor_to_result)\n",
        "    step_count_to_energy_value_under[step_count] = calc_energy_value(under_lambda_size, next_theta_list_under, factor_to_result)\n",
        "\n",
        "    step_count_to_accuracy[step_count] = calc_accuracy(next_theta_list, factor_to_result)\n",
        "    step_count_to_accuracy_over[step_count] = calc_accuracy(next_theta_list_over, factor_to_result)\n",
        "    step_count_to_accuracy_under[step_count] = calc_accuracy(next_theta_list_under, factor_to_result)\n",
        "\n",
        "    step_count_to_theta_list[step_count] = next_theta_list\n",
        "    step_count_to_theta_list_over[step_count] = next_theta_list_over\n",
        "    step_count_to_theta_list_under[step_count] = next_theta_list_under\n",
        "\n",
        "    # -------------------------디버그용 코드\n",
        "    no_loop = no_loop + 1\n",
        "    if(no_loop % 1000 == 0):\n",
        "        print(\"loop\", no_loop, current_theta_list, \"->\", next_theta_list, \"loss\", step_count_to_energy_value[step_count], \"step mul\", numpy.log(numpy.log(step_count+1) + 1))\n",
        "\n",
        "        start = 0.0000000001\n",
        "        for i in range(9):\n",
        "            if numpy.isclose(current_theta_list, next_theta_list, rtol=start, atol=start).all():\n",
        "                print(f\"close at {start:.15f}\")\n",
        "                break;\n",
        "            start = start * 10\n",
        "\n",
        "    if(no_loop >= 10):\n",
        "        print(\"stop\")\n",
        "        break\n",
        "    # -------------------------디버그용 코드 끝    \n",
        "    if check_convergence(current_theta_list, next_theta_list).all():\n",
        "        break\n",
        "\n",
        "    # print(current_theta_list, \"->\", next_theta_list, \"loss\", step_count_to_energy_value[step_count])\n",
        "    current_theta_list = next_theta_list\n",
        "    current_theta_list_over = next_theta_list_over\n",
        "    current_theta_list_under = next_theta_list_under\n",
        "\n",
        "# show calculated theta\n",
        "# current_theta_list = [0, 0, 0, 1, 0, 1]\n",
        "print(\"current_theta_pair\", current_theta_list, \"loop\", no_loop)\n",
        "print(list(step_count_to_energy_value.values()))\n",
        "print([0.6931471805599454, 0.6919794646324847, 0.6909953422152332, 0.6901571607065597, 0.6894597336212515, 0.6888981564229808, 0.6884677955053369, 0.6881642729835117, 0.6879834522010253, 0.6879214239330079])"
      ],
      "execution_count": 80,
      "outputs": [
        {
          "output_type": "stream",
          "text": [
            "size of k is 100\n",
            "size of poly list is 99\n",
            "[(0, 1), (0, 2), (0, 3), (0, 4), (0, 5), (0, 6), (0, 7), (0, 8), (0, 9), (1, 0), (1, 1), (1, 2), (1, 3), (1, 4), (1, 5), (1, 6), (1, 7), (1, 8), (1, 9), (2, 0), (2, 1), (2, 2), (2, 3), (2, 4), (2, 5), (2, 6), (2, 7), (2, 8), (2, 9), (3, 0), (3, 1), (3, 2), (3, 3), (3, 4), (3, 5), (3, 6), (3, 7), (3, 8), (3, 9), (4, 0), (4, 1), (4, 2), (4, 3), (4, 4), (4, 5), (4, 6), (4, 7), (4, 8), (4, 9), (5, 0), (5, 1), (5, 2), (5, 3), (5, 4), (5, 5), (5, 6), (5, 7), (5, 8), (5, 9), (6, 0), (6, 1), (6, 2), (6, 3), (6, 4), (6, 5), (6, 6), (6, 7), (6, 8), (6, 9), (7, 0), (7, 1), (7, 2), (7, 3), (7, 4), (7, 5), (7, 6), (7, 7), (7, 8), (7, 9), (8, 0), (8, 1), (8, 2), (8, 3), (8, 4), (8, 5), (8, 6), (8, 7), (8, 8), (8, 9), (9, 0), (9, 1), (9, 2), (9, 3), (9, 4), (9, 5), (9, 6), (9, 7), (9, 8), (9, 9)]\n",
            "start -> [0, 0, 0, 0, 0, 0, 0, 0, 0, 0, 0, 0, 0, 0, 0, 0, 0, 0, 0, 0, 0, 0, 0, 0, 0, 0, 0, 0, 0, 0, 0, 0, 0, 0, 0, 0, 0, 0, 0, 0, 0, 0, 0, 0, 0, 0, 0, 0, 0, 0, 0, 0, 0, 0, 0, 0, 0, 0, 0, 0, 0, 0, 0, 0, 0, 0, 0, 0, 0, 0, 0, 0, 0, 0, 0, 0, 0, 0, 0, 0, 0, 0, 0, 0, 0, 0, 0, 0, 0, 0, 0, 0, 0, 0, 0, 0, 0, 0, 0, 0] loss 0.6931471805599461\n",
            "stop\n",
            "current_theta_pair [-0.0007838724262996671, 0.001272491492291594, -0.013676378666096294, -0.008251338303596431, -0.014552127270313929, -0.011309914898716899, -0.014395460110176814, -0.012717584401520578, -0.014492773047009296, -0.013794551375458104, -0.00677945508825847, -0.004566248545813084, -0.0031714767659916532, -0.0012322202486071902, -0.0017593222591518738, -0.0005500372184110375, -0.0009683822264800329, -0.00029658297230189296, -0.0005640303734662191, -0.00020326993891885012, -0.019267445024978534, -0.002746203650172821, -0.004936563247000602, -0.0022168529419816932, -0.0027826038641803595, -0.0017412663046589313, -0.0019299483788924833, -0.0014397580961976568, -0.0015149094290276698, -0.0012643324684625005, -0.0067922320977634384, -0.0008558391650036867, -0.0012911739909229898, -0.00015220003265821076, -0.0005282485932031841, -5.152111369948617e-05, -0.00021463603393358157, 7.902436965491321e-07, -7.569229842085504e-05, 2.7341552155300948e-05, -0.015162388388104703, -0.0016574816491441182, -0.0024458989437698125, -0.0008541286450536594, -0.001057114577739428, -0.000560106003848609, -0.0006074181232552726, -0.00040296843798300313, -0.00041127621004604254, -0.0003138425799421662, -0.0075294327980758476, -0.0004033155514204065, -0.0008897357694426793, -8.649433382385792e-05, -0.0003191333344852578, -5.550753416004712e-05, -0.00013139496180096164, -2.7803703462262194e-05, -5.463860031729998e-05, -8.75424809867197e-06, -0.011946981311973132, -0.0010500777355937753, -0.001383474178722426, -0.00036964437135394746, -0.00048779196001511407, -0.0002143381069703948, -0.00023953345271771873, -0.00013983662639153392, -0.00014256773619616476, -9.943055829909157e-05, -0.00756457489245505, -0.000336344994983283, -0.0006421607193548657, -5.5297473736012125e-05, -0.00020332321141264246, -4.13597304180491e-05, -8.278629802490067e-05, -2.618901371410482e-05, -3.797870053436936e-05, -1.5103857826909218e-05, -0.00992267447272783, -0.0007776607796557148, -0.0008645686951879372, -0.00018138295035610176, -0.0002580068540370427, -9.400858820989057e-05, -0.00011066636444622893, -5.652335703734046e-05, -5.836736859859097e-05, -3.702820015496413e-05, -0.0073864946413221555, -0.00036710047822008764, -0.0004753184395187923, -3.744659724719362e-05, -0.00013180353443287545, -2.6156721610443124e-05, -5.068967318239339e-05, -1.700860541753087e-05, -2.3033285908135526e-05, -1.0535223220411139e-05] loop 10\n",
            "[0.6931471805599461, 0.6901175608043972, 0.6897560972434115, 0.6897035445821204, 0.6896946884942338, 0.6896930687378633, 0.6896927603492516, 0.6896927005714227, 0.6896926888909852, 0.68969268660067, 0.6896926861508784]\n",
            "[0.6931471805599454, 0.6919794646324847, 0.6909953422152332, 0.6901571607065597, 0.6894597336212515, 0.6888981564229808, 0.6884677955053369, 0.6881642729835117, 0.6879834522010253, 0.6879214239330079]\n"
          ],
          "name": "stdout"
        }
      ]
    },
    {
      "cell_type": "markdown",
      "metadata": {
        "id": "N5IKqMICNrl2",
        "colab_type": "text"
      },
      "source": [
        "1 - Plot the training data [1pt]"
      ]
    },
    {
      "cell_type": "code",
      "metadata": {
        "id": "HgZgZ-uMNwlm",
        "colab_type": "code",
        "colab": {
          "base_uri": "https://localhost:8080/",
          "height": 297
        },
        "outputId": "1a4df5e8-3ad6-49cb-cafb-42a597bb7733"
      },
      "source": [
        "plt.figure()\n",
        "plt.scatter(x_label0, y_label0, c='b')\n",
        "plt.scatter(x_label1, y_label1, c='r')\n",
        "plt.tight_layout()\n",
        "plt.gca().set_aspect('equal', adjustable='box')\n",
        "plt.show()"
      ],
      "execution_count": 68,
      "outputs": [
        {
          "output_type": "display_data",
          "data": {
            "image/png": "[encoded data removed]",
            "text/plain": [
              "<Figure size 432x288 with 1 Axes>"
            ]
          },
          "metadata": {
            "tags": [],
            "needs_background": "light"
          }
        }
      ]
    },
    {
      "cell_type": "markdown",
      "metadata": {
        "id": "RAPg_JG6oqRg",
        "colab_type": "text"
      },
      "source": [
        "2. Plot the training error with varying regularization parameters"
      ]
    },
    {
      "cell_type": "code",
      "metadata": {
        "id": "cQ6ieZ-bnTzx",
        "colab_type": "code",
        "colab": {
          "base_uri": "https://localhost:8080/",
          "height": 483
        },
        "outputId": "af5b932f-7c57-4683-d2c3-fd4c6fedea4d"
      },
      "source": [
        "make_plot([(step_count_to_energy_value_over, \"plot\", \"red\", \"over-fitting\"), (step_count_to_energy_value, \"plot\", \"green\", \"just-right\"), (step_count_to_energy_value_under, \"plot\", \"blue\", \"under-fitting\") ])\n",
        "show_plot()"
      ],
      "execution_count": 69,
      "outputs": [
        {
          "output_type": "display_data",
          "data": {
            "image/png": "[encoded data removed]",
            "text/plain": [
              "<Figure size 576x576 with 1 Axes>"
            ]
          },
          "metadata": {
            "tags": [],
            "needs_background": "light"
          }
        }
      ]
    },
    {
      "cell_type": "markdown",
      "metadata": {
        "id": "YJ0mdHWOoy-Q",
        "colab_type": "text"
      },
      "source": [
        "3. Display the values of the chosen regularization parameters"
      ]
    },
    {
      "cell_type": "code",
      "metadata": {
        "id": "93WYjQccoyrx",
        "colab_type": "code",
        "outputId": "020e2820-6d42-4e25-ff3b-f92f8182b53e",
        "colab": {
          "base_uri": "https://localhost:8080/",
          "height": 68
        }
      },
      "source": [
        "print(f\"over-fitting: {over_lambda_size}\")\n",
        "print(f\"just-right: {lambda_size}\")\n",
        "print(f\"under-fitting: {under_lambda_size}\")"
      ],
      "execution_count": 0,
      "outputs": [
        {
          "output_type": "stream",
          "text": [
            "over-fitting: 0.5\n",
            "just-right: 1\n",
            "under-fitting: 2\n"
          ],
          "name": "stdout"
        }
      ]
    },
    {
      "cell_type": "markdown",
      "metadata": {
        "id": "_EfOL_atpZYY",
        "colab_type": "text"
      },
      "source": [
        "4. Plot the training accuracy with varying regularization parameters"
      ]
    },
    {
      "cell_type": "code",
      "metadata": {
        "id": "_fqCi6bxsw54",
        "colab_type": "code",
        "colab": {
          "base_uri": "https://localhost:8080/",
          "height": 483
        },
        "outputId": "69a8a7b7-0dcc-407b-e927-e3595c64f343"
      },
      "source": [
        "make_plot([(step_count_to_accuracy_over, \"plot\", \"red\", \"over-fitting\"), (step_count_to_accuracy, \"plot\", \"green\", \"just-right\"), (step_count_to_accuracy_under, \"plot\", \"blue\", \"under-fitting\") ])\n",
        "show_plot()"
      ],
      "execution_count": 82,
      "outputs": [
        {
          "output_type": "display_data",
          "data": {
            "image/png": "[encoded data removed]",
            "text/plain": [
              "<Figure size 576x576 with 1 Axes>"
            ]
          },
          "metadata": {
            "tags": [],
            "needs_background": "light"
          }
        }
      ]
    },
    {
      "cell_type": "markdown",
      "metadata": {
        "id": "XHMY6ngCs-aM",
        "colab_type": "text"
      },
      "source": [
        "5. Display the final training accuracy with varying regularization parameters"
      ]
    },
    {
      "cell_type": "code",
      "metadata": {
        "id": "S993LpEGs8MO",
        "colab_type": "code",
        "colab": {
          "base_uri": "https://localhost:8080/",
          "height": 68
        },
        "outputId": "ab72016a-d457-4794-9b93-3f5d14689d0c"
      },
      "source": [
        "def get_last(d):\n",
        "    return d[list(d.keys())[-1]]\n",
        "\n",
        "print(f\"over-fitting: {get_last(step_count_to_accuracy_over) * 100}%\")\n",
        "print(f\"just-right: {get_last(step_count_to_accuracy) * 100}%\")\n",
        "print(f\"under-fitting: {get_last(step_count_to_accuracy_under) * 100}%\")"
      ],
      "execution_count": 85,
      "outputs": [
        {
          "output_type": "stream",
          "text": [
            "over-fitting: 68.64406779661016%\n",
            "just-right: 50.847457627118644%\n",
            "under-fitting: 49.152542372881356%\n"
          ],
          "name": "stdout"
        }
      ]
    }
  ]
}