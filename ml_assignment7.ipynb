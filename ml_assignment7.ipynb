{
  "nbformat": 4,
  "nbformat_minor": 0,
  "metadata": {
    "colab": {
      "name": "ml-assignment7.ipynb",
      "provenance": [],
      "collapsed_sections": [],
      "authorship_tag": "ABX9TyPBCsu09ORJEA0fnSQaxox6"
    },
    "kernelspec": {
      "name": "python3",
      "display_name": "Python 3"
    }
  },
  "cells": [
    {
      "cell_type": "code",
      "metadata": {
        "id": "U84xfgQlLlLM",
        "colab_type": "code",
        "colab": {}
      },
      "source": [
        "# we now need pyplot for plotting data\n",
        "import matplotlib.pyplot as pyplot\n",
        "def show_plot(download_file = False):\n",
        "    pyplot.legend()\n",
        "    pyplot.show()\n",
        "    if download_file == False:\n",
        "       return\n",
        "    \n",
        "    import google.colab\n",
        "    file_name = \"test.png\"\n",
        "    pyplot.savefig(file_name)\n",
        "    google.colab.files.download(file_name)\n",
        "\n",
        "def make_plot(plot_data_list, use_this = None):\n",
        "    # it's too samll. make bigger.\n",
        "    if use_this is None:\n",
        "        pyplot.figure(figsize=(8, 8))\n",
        "    else:\n",
        "        # use_this.set_figheight(8)\n",
        "        # use_this.set_figwidth(8)\n",
        "        pass\n",
        "\n",
        "    for data_dic, plot_type, color, label in plot_data_list:\n",
        "        if plot_type is \"plot\":\n",
        "            if use_this is None:\n",
        "                pyplot.plot(list(data_dic.keys()), list(data_dic.values()), c=color, label=label)\n",
        "            else:\n",
        "                use_this.plot(list(data_dic.keys()), list(data_dic.values()), c=color, label=label)    \n",
        "        if plot_type is \"scatter\":\n",
        "            if use_this is None:\n",
        "                pyplot.scatter(list(data_dic.keys()), list(data_dic.values()), c=color, label=label)\n",
        "            else:\n",
        "                use_this.scatter(list(data_dic.keys()), list(data_dic.values()), c=color, label=label)"
      ],
      "execution_count": 0,
      "outputs": []
    },
    {
      "cell_type": "code",
      "metadata": {
        "id": "YTbWfGuELqyu",
        "colab_type": "code",
        "colab": {}
      },
      "source": [
        "# 이전 과제에서 쌓여가는 함수\n",
        "\n",
        "import numpy\n",
        "\n",
        "def sigmoid(value):\n",
        "    # print(\"value -> numpy.exp(-value)\", value, numpy.exp(-value))\n",
        "    return 1 / (1 + numpy.exp(-value))\n",
        "\n",
        "def get_by_sigmoid(t_list, factor_list):\n",
        "    # print(\"get_by_linear(t_list, factor_list)\", get_by_linear(t_list, factor_list))\n",
        "    return sigmoid(get_by_linear(t_list, factor_list))\n",
        "\n",
        "def get_by_linear(t_list, factor_list):\n",
        "    return t_list[0] + numpy.dot(t_list[1:], factor_list)\n",
        "\n",
        "def calc_energy_value(lambda_size, theta_list, data_dic):\n",
        "    ret = 0\n",
        "\n",
        "    m = len(data_dic)\n",
        "\n",
        "    for factor_list, r_in_d in data_dic.items():\n",
        "        # (−l(i)log(sigmoid)−(1−l(i))log(1−σ(z(i))))\n",
        "        z_i = get_by_sigmoid(theta_list, factor_list)\n",
        "\n",
        "\n",
        "        # print(z_i, r_in_d)\n",
        "\n",
        "        float_min = 0.00000000000000001\n",
        "        calc_result = -r_in_d * numpy.log(max(z_i, float_min)) - (1 - r_in_d) * numpy.log(max(z_i, float_min))\n",
        "\n",
        "        ret = ret + calc_result\n",
        "\n",
        "    lambda_sum = numpy.sum(numpy.square(theta_list)) * lambda_size / 2\n",
        "\n",
        "    return ret / m + lambda_sum\n",
        "    \n",
        "# Gradient Descent를 위해 cost function을 변형한 식\n",
        "def calc_cost_sum_for_gradient_descent(theta_list, data_dic, multiply_bitmap):\n",
        "    ret = 0\n",
        "\n",
        "    m = len(data_dic)\n",
        "\n",
        "    for factor_list, result_in_data in data_dic.items():\n",
        "        calc_y = get_by_sigmoid(theta_list, factor_list)\n",
        "        calc_result = calc_y - result_in_data\n",
        "\n",
        "        for factor, multiply_flag in zip(factor_list, multiply_bitmap):\n",
        "            if multiply_flag == 0:\n",
        "                continue\n",
        "\n",
        "            calc_result = calc_result * factor\n",
        "\n",
        "        ret = ret + calc_result\n",
        "\n",
        "    return ret / m\n",
        "    \n",
        "def next_gradient_descent_step(step_size, lambda_size, theta_list, data_dic):\n",
        "    next_theta_list = []\n",
        "    for i in range(len(theta_list)):\n",
        "        bitmap = [0] * (len(theta_list) - 1)\n",
        "        if i - 1 >= 0:\n",
        "            bitmap[i-1] = 1\n",
        "\n",
        "        # print(bitmap)\n",
        "\n",
        "        next_theta = theta_list[i] - step_size * (calc_cost_sum_for_gradient_descent(theta_list, data_dic, bitmap) + lambda_size * theta_list[i])\n",
        "        next_theta_list.append(next_theta)\n",
        "\n",
        "    return next_theta_list\n",
        "    \n",
        "def check_convergence(theta_list, new_theta_list):\n",
        "    # float 형의 자료형 동일한지 판단을 위해 numpy의 isclose를 사용.\n",
        "    # atol = 0.000000000000000000000001\n",
        "    return numpy.isclose(theta_list, new_theta_list)\n",
        "    # return numpy.isclose(theta_list, new_theta_list)"
      ],
      "execution_count": 0,
      "outputs": []
    },
    {
      "cell_type": "code",
      "metadata": {
        "id": "gyB_Kn9iLsq_",
        "colab_type": "code",
        "colab": {}
      },
      "source": [
        "def calc_accuracy(theta_list, factor_to_result):        \n",
        "    count = 0\n",
        "    for factor_list, h in factor_to_result.items():\n",
        "        expected_h = get_by_linear(theta_list, factor_list)\n",
        "        if expected_h > 0 and h == 1:\n",
        "            count = count + 1\n",
        "        if expected_h <= 0 and h == 0:\n",
        "            count = count + 1\n",
        "\n",
        "    return count / len(factor_to_result)"
      ],
      "execution_count": 0,
      "outputs": []
    },
    {
      "cell_type": "code",
      "metadata": {
        "id": "6gt97kxZLtv6",
        "colab_type": "code",
        "colab": {}
      },
      "source": [
        "import numpy as np\n",
        "import matplotlib.pyplot as plt\n",
        "\n",
        "data    = np.genfromtxt(\"data-nonlinear.txt\", delimiter=',')\n",
        "\n",
        "pointX  = data[:, 0]\n",
        "pointY  = data[:, 1]\n",
        "label   = data[:, 2]\n",
        "\n",
        "x_label0 = pointX[label == 0]\n",
        "y_label0 = pointY[label == 0]\n",
        "\n",
        "x_label1 = pointX[label == 1]\n",
        "y_label1 = pointY[label == 1]\n"
      ],
      "execution_count": 0,
      "outputs": []
    },
    {
      "cell_type": "code",
      "metadata": {
        "id": "Wq4St1f-LvG_",
        "colab_type": "code",
        "outputId": "d9b7ff7a-5ead-49fe-c3d0-2ce3503e56f5",
        "colab": {
          "base_uri": "https://localhost:8080/",
          "height": 190
        }
      },
      "source": [
        "dic0 = dict(zip(zip(x_label0, y_label0), [0] * len(x_label0)))\n",
        "dic1 = dict(zip(zip(x_label1, y_label1), [1] * len(x_label1)))\n",
        "factor_to_result = {**dic0, **dic1}\n",
        "\n",
        "poly_list = []\n",
        "current_theta_list = []\n",
        "# 다항식을 만들기 위한 값을 리스트로 저장\n",
        "# 0, 0 은 생성 안한다. (get_by_linear에서 0,0은 별도 처리를 해주고 있다.)\n",
        "# (n, m) 은 x^n, y^m을 의미.\n",
        "\n",
        "for x in range(0, 10):\n",
        "    for y in range(0,10):\n",
        "        if x == 0 and y == 0:\n",
        "            continue\n",
        "        poly_list.append((x,y))\n",
        "        # poly_list.append((0,0))\n",
        "\n",
        "# 대충 정해준거\n",
        "for x in range(0, 10):\n",
        "    for y in range(0,10):\n",
        "        current_theta_list.append(((5.9 - x) * (5.3 -y)) ** 2)\n",
        "        # current_theta_list.append(0)\n",
        "\n",
        "print(f\"size of k is {len(current_theta_list)}\")\n",
        "print(f\"size of poly list is {len(poly_list)}\")\n",
        "print(poly_list)\n",
        "\n",
        "# 이전 과제까지는 수가 작아서 이터레이션에서 계산했는데, 이번에는 값이 많아서 미리 계산해둔다.\n",
        "# data_dic에는 x, y, h 이렇게 들어갔는데, poly_list를 이용해서 새로 dict을 만들어준다.\n",
        "# poly_list의 값은 x^n, y^m 이렇게 됨.\n",
        "factor_to_result_orig = factor_to_result\n",
        "factor_to_result = {}\n",
        "\n",
        "for (x,y), value in factor_to_result_orig.items():\n",
        "    new_factor = []\n",
        "    for (x_up, y_up) in poly_list:\n",
        "        new_factor.append((x ** x_up) * (y ** y_up))\n",
        "    \n",
        "    factor_to_result[tuple(new_factor)] = value\n",
        "\n",
        "\n",
        "step_size = 0.1\n",
        "over_lambda_size = 0.5332\n",
        "lambda_size = 1.3969\n",
        "under_lambda_size = 1.7\n",
        "\n",
        "step_count = 0\n",
        "\n",
        "step_count_to_energy_value = {step_count: calc_energy_value(lambda_size, current_theta_list, factor_to_result)}\n",
        "step_count_to_energy_value_over = {step_count: calc_energy_value(over_lambda_size, current_theta_list, factor_to_result)}\n",
        "step_count_to_energy_value_under = {step_count: calc_energy_value(under_lambda_size, current_theta_list, factor_to_result)}\n",
        "\n",
        "step_count_to_accuracy = {step_count: calc_accuracy(current_theta_list, factor_to_result)}\n",
        "step_count_to_accuracy_over = {step_count: calc_accuracy(current_theta_list, factor_to_result)}\n",
        "step_count_to_accuracy_under = {step_count: calc_accuracy(current_theta_list, factor_to_result)}\n",
        "\n",
        "step_count_to_theta_list = {step_count: current_theta_list}\n",
        "step_count_to_theta_list_over = {step_count: current_theta_list}\n",
        "step_count_to_theta_list_under = {step_count: current_theta_list}\n",
        "\n",
        "\n",
        "print(\"start ->\",current_theta_list, \"loss\", step_count_to_energy_value[step_count])\n",
        "\n",
        "no_loop = 0\n",
        "current_theta_list_over = current_theta_list\n",
        "current_theta_list_under = current_theta_list\n",
        "\n",
        "while(True):\n",
        "    step_count = step_count + 1\n",
        "    next_theta_list = next_gradient_descent_step(step_size, lambda_size, current_theta_list, factor_to_result)\n",
        "    next_theta_list_over = next_gradient_descent_step(step_size, over_lambda_size, current_theta_list_over, factor_to_result)\n",
        "    next_theta_list_under = next_gradient_descent_step(step_size, under_lambda_size, current_theta_list_under, factor_to_result)\n",
        "    \n",
        "    step_count_to_energy_value[step_count] = calc_energy_value(lambda_size, next_theta_list, factor_to_result)\n",
        "    step_count_to_energy_value_over[step_count] = calc_energy_value(over_lambda_size, next_theta_list_over, factor_to_result)\n",
        "    step_count_to_energy_value_under[step_count] = calc_energy_value(under_lambda_size, next_theta_list_under, factor_to_result)\n",
        "\n",
        "    step_count_to_accuracy[step_count] = calc_accuracy(next_theta_list, factor_to_result)\n",
        "    step_count_to_accuracy_over[step_count] = calc_accuracy(next_theta_list_over, factor_to_result)\n",
        "    step_count_to_accuracy_under[step_count] = calc_accuracy(next_theta_list_under, factor_to_result)\n",
        "\n",
        "    step_count_to_theta_list[step_count] = next_theta_list\n",
        "    step_count_to_theta_list_over[step_count] = next_theta_list_over\n",
        "    step_count_to_theta_list_under[step_count] = next_theta_list_under\n",
        "\n",
        "    # -------------------------디버그용 코드\n",
        "    no_loop = no_loop + 1\n",
        "    if(no_loop % 1000 == 0):\n",
        "        print(\"loop\", no_loop, current_theta_list, \"->\", next_theta_list, \"loss\", step_count_to_energy_value[step_count], \"step mul\", numpy.log(numpy.log(step_count+1) + 1))\n",
        "\n",
        "        start = 0.0000000001\n",
        "        for i in range(9):\n",
        "            if numpy.isclose(current_theta_list, next_theta_list, rtol=start, atol=start).all():\n",
        "                print(f\"close at {start:.15f}\")\n",
        "                break;\n",
        "            start = start * 10\n",
        "\n",
        "    if(no_loop >= 10000):\n",
        "        print(\"stop\")\n",
        "        break\n",
        "    # -------------------------디버그용 코드 끝    \n",
        "    if check_convergence(current_theta_list, next_theta_list).all():\n",
        "        break\n",
        "\n",
        "    # print(current_theta_list, \"->\", next_theta_list, \"loss\", step_count_to_energy_value[step_count])\n",
        "    current_theta_list = next_theta_list\n",
        "    current_theta_list_over = next_theta_list_over\n",
        "    current_theta_list_under = next_theta_list_under\n",
        "\n",
        "# show calculated theta\n",
        "# current_theta_list = [0, 0, 0, 1, 0, 1]\n",
        "print(\"current_theta_pair\", current_theta_list, \"loop\", no_loop)\n",
        "print(\"current_theta_pair\", current_theta_list_over, \"loop\", no_loop)\n",
        "print(\"current_theta_pair\", current_theta_list_under, \"loop\", no_loop)\n",
        "print(list(step_count_to_energy_value.values()))\n",
        "print([0.6931471805599454, 0.6919794646324847, 0.6909953422152332, 0.6901571607065597, 0.6894597336212515, 0.6888981564229808, 0.6884677955053369, 0.6881642729835117, 0.6879834522010253, 0.6879214239330079])"
      ],
      "execution_count": 66,
      "outputs": [
        {
          "output_type": "stream",
          "text": [
            "size of k is 100\n",
            "size of poly list is 99\n",
            "[(0, 1), (0, 2), (0, 3), (0, 4), (0, 5), (0, 6), (0, 7), (0, 8), (0, 9), (1, 0), (1, 1), (1, 2), (1, 3), (1, 4), (1, 5), (1, 6), (1, 7), (1, 8), (1, 9), (2, 0), (2, 1), (2, 2), (2, 3), (2, 4), (2, 5), (2, 6), (2, 7), (2, 8), (2, 9), (3, 0), (3, 1), (3, 2), (3, 3), (3, 4), (3, 5), (3, 6), (3, 7), (3, 8), (3, 9), (4, 0), (4, 1), (4, 2), (4, 3), (4, 4), (4, 5), (4, 6), (4, 7), (4, 8), (4, 9), (5, 0), (5, 1), (5, 2), (5, 3), (5, 4), (5, 5), (5, 6), (5, 7), (5, 8), (5, 9), (6, 0), (6, 1), (6, 2), (6, 3), (6, 4), (6, 5), (6, 6), (6, 7), (6, 8), (6, 9), (7, 0), (7, 1), (7, 2), (7, 3), (7, 4), (7, 5), (7, 6), (7, 7), (7, 8), (7, 9), (8, 0), (8, 1), (8, 2), (8, 3), (8, 4), (8, 5), (8, 6), (8, 7), (8, 8), (8, 9), (9, 0), (9, 1), (9, 2), (9, 3), (9, 4), (9, 5), (9, 6), (9, 7), (9, 8), (9, 9)]\n",
            "start -> [977.8129, 643.6369000000001, 379.08089999999993, 184.1449, 58.82889999999998, 3.132899999999997, 17.056900000000013, 100.60090000000002, 253.76490000000004, 476.54890000000006, 674.4409000000002, 443.9449, 261.4689000000001, 127.01289999999999, 40.57689999999999, 2.160899999999998, 11.764900000000008, 69.38890000000004, 175.03290000000007, 328.6969000000001, 427.24890000000005, 281.2329, 165.63690000000003, 80.46090000000001, 25.704899999999995, 1.368899999999999, 7.452900000000005, 43.95690000000002, 110.88090000000003, 208.22490000000005, 236.23690000000002, 155.50090000000003, 91.5849, 44.4889, 14.2129, 0.7568999999999992, 4.1209000000000024, 24.304900000000014, 61.30890000000003, 115.13290000000005, 101.40490000000004, 66.74890000000003, 39.312900000000006, 19.0969, 6.100900000000001, 0.3248999999999997, 1.7689000000000015, 10.432900000000005, 26.316900000000018, 49.42090000000003, 22.752900000000015, 14.976900000000011, 8.820900000000007, 4.284900000000003, 1.368900000000001, 0.07289999999999998, 0.3969000000000006, 2.340900000000002, 5.904900000000005, 11.08890000000001, 0.28089999999999804, 0.18489999999999865, 0.1088999999999992, 0.05289999999999962, 0.016899999999999877, 0.0008999999999999924, 0.004899999999999968, 0.028899999999999797, 0.0728999999999995, 0.13689999999999905, 33.98889999999998, 22.372899999999987, 13.17689999999999, 6.400899999999995, 2.044899999999998, 0.10889999999999979, 0.5928999999999999, 3.496899999999999, 8.820899999999996, 16.564899999999987, 123.87689999999994, 81.54089999999995, 48.02489999999998, 23.328899999999994, 7.452899999999995, 0.3968999999999994, 2.1609000000000007, 12.7449, 32.14889999999999, 60.37289999999998, 269.94489999999985, 177.68889999999996, 104.65289999999997, 50.836899999999986, 16.240899999999996, 0.8648999999999989, 4.708900000000002, 27.772899999999996, 70.05689999999998, 131.56089999999998] loss 2368665.1292517805\n",
            "current_theta_pair [0.001381796146804055, 0.003723084445166897, -0.022929638232308917, -0.013474531532403487, -0.024710928086263545, -0.018982680642530097, -0.024467551816248913, -0.021467885084136114, -0.024595283999013087, -0.023309022273363688, -0.011212257806569367, -0.00811885889282401, -0.005544432262878267, -0.0021921688521394896, -0.003107931281925701, -0.0009797611345941676, -0.0017167476716635447, -0.0005261632608873438, -0.0009974608283673757, -0.0003540871216890466, -0.03348212266735823, -0.004711478875493275, -0.008600904127625713, -0.003834184354492183, -0.004839444094471712, -0.00300777663595551, -0.0033448698726847685, -0.0024800662726049264, -0.0026147036117486963, -0.002171170706159742, -0.011475564613250142, -0.0014804704729091925, -0.0022334367115162904, -0.00025793835256564067, -0.0009208710390614933, -8.552789464267411e-05, -0.0003746074413121399, 4.6213064777324105e-06, -0.00013125858144788223, 5.0796934231907254e-05, -0.026447941268771157, -0.002881739893625204, -0.004284965414374597, -0.0014911181443134623, -0.0018502894137661103, -0.0009762651658160969, -0.0010607619754332556, -0.0007007090332255495, -0.0007161440942286046, -0.0005443775225327641, -0.012907554429341607, -0.0006772509393796362, -0.0015434354148273887, -0.00014488934421990092, -0.0005562954603912502, -9.451826338021897e-05, -0.00022926849815926693, -4.7350963597845964e-05, -9.529008994769831e-05, -1.4593657307160933e-05, -0.02081546455378155, -0.0018242790837779124, -0.0024265065293091943, -0.0006464808912993391, -0.000855389797593423, -0.00037452993483320777, -0.0004193718686810451, -0.00024391386212167487, -0.0002490489658683047, -0.00017309879931963997, -0.01302655183899283, -0.0005605200265343968, -0.001116349787405086, -9.243907919957728e-05, -0.00035467393898055554, -7.086556181680279e-05, -0.00014445672914340657, -4.5133695744094745e-05, -6.623249252162406e-05, -2.6063043473790856e-05, -0.017246758143969736, -0.0013456798020718705, -0.0015161853827428207, -0.00031704728050503, -0.0004527033158246592, -0.00016435231562545865, -0.00019394922670218915, -9.870023854184504e-05, -0.00010209448912659943, -6.45412862157162e-05, -0.012732038948118234, -0.0006158973602683458, -0.0008272143842010234, -6.263977444303011e-05, -0.00023009053885630876, -4.489073056640253e-05, -8.848333819438874e-05, -2.9378420243250378e-05, -4.0153210841801375e-05, -1.8203239348293025e-05] loop 147\n",
            "current_theta_pair [0.061292313184761395, 0.13909398575480889, -0.02709890345459831, -0.03197654268468602, -0.10342833448920206, -0.09474042212711317, -0.10411012606094565, -0.06346381114148218, -0.020500953440069306, 0.059136291046618245, 0.13482450154013859, 0.11889906652700338, 0.058539239375700436, 0.03194097852108337, -0.0011193567709473756, -0.005101625704414365, -0.004352852214786555, 0.019404650800185875, 0.05337129623022165, 0.10712798451691428, -0.019389935638006724, 0.06668659325129558, 0.01662230697038517, 0.009112825432306586, -0.011821813559982963, -0.012449926769077557, -0.011098554293156841, 0.004506503458442012, 0.026750969710246597, 0.061055541783588956, 0.009767001525245605, 0.04339405459434267, 0.018389882539999434, 0.012135230581921539, -0.00017577815713583654, -0.0011670529528998866, -0.0008713201324119366, 0.0074039782825884685, 0.0194643303272645, 0.0382184998196956, -0.07688450732984164, 0.008389767351851086, -0.004571548449101127, -0.00011888344357245613, -0.005396772436863528, -0.003914769783497009, -0.0035711273805949205, 0.0007064044209341107, 0.006063839253427965, 0.014454921040845916, -0.05514850568605113, 5.3306469689797724e-05, -0.004616340308341711, -1.7257687290803914e-05, -0.0022294621132799013, -0.0007808093502867726, -0.0010381453986903213, 0.00033401787555724865, 0.0014206446796294445, 0.0034749759351573517, -0.08376217381145383, -0.008435543147662056, -0.009701696825041354, -0.0028443271871241597, -0.0033990479113006943, -0.0015687238134334354, -0.0016501326169335543, -0.0009795937454713686, -0.0009465655162994514, -0.000640784680897962, -0.04638173161952553, 0.0036349328524114158, -0.0006676169475357977, 0.0012989167329035122, -0.0009175781327478089, -0.000439414603429735, -0.00047175106218795874, 0.000892142137309441, 0.002634238518659741, 0.005389611872513264, -0.027268123786622394, 0.021203833346573647, 0.010121438356942325, 0.006384196353123393, 0.0007063453061890068, -0.0005751949314425261, -4.457971032661035e-05, 0.003864095651944383, 0.010380521308934883, 0.01999025970378784, 0.03636469108825251, 0.05597059217260911, 0.031503714135638426, 0.016519841733705565, 0.00444762991276381, 1.1507494478123608e-05, 0.001187735522316619, 0.009154972594657994, 0.023319156313784114, 0.04403844003533108] loop 147\n",
            "current_theta_pair [0.0002852256650200758, 0.002612133644728229, -0.0193202778056899, -0.011474872950912957, -0.020720936214290976, -0.015992039719848528, -0.02051105811112314, -0.018045887878675115, -0.02063156659366669, -0.019586587711678025, -0.009508819557524034, -0.0066893789811893764, -0.004598062063176688, -0.0018060178390864792, -0.0025670040365081007, -0.0008069065840104201, -0.0014161095882569206, -0.00043412170344701926, -0.0008236849089233169, -0.0002943321523831389, -0.02782543425644124, -0.00393435194367366, -0.007140171490640614, -0.003191987844092931, -0.0040204303230182694, -0.0025053984327308046, -0.0027826365403925963, -0.0020681599676104457, -0.0021787883777292408, -0.001812832249627656, -0.009647198032718735, -0.0012330813300314783, -0.0018598818516412823, -0.00021663036283584993, -0.0007645134042485349, -7.245576647974205e-05, -0.00031087955215340244, 2.7288603533276195e-06, -0.00010923873223221102, 4.1089974423740785e-05, -0.021950056364213107, -0.002394322837957768, -0.003549893676189104, -0.0012369139607300793, -0.001533401736467095, -0.0008103629126978959, -0.0008798729612194191, -0.000582186680576932, -0.0005947028460726178, -0.0004527491767130753, -0.010787831394282176, -0.0005707962336629448, -0.001283812155369047, -0.0001222182047795535, -0.0004618313837778766, -7.920562056610813e-05, -0.00019026497678541145, -3.968112268994286e-05, -7.909961903603882e-05, -1.2341718539085122e-05, -0.017284233719954897, -0.0015163439154834688, -0.0020094303688267035, -0.0005359062733063995, -0.0007083987412602199, -0.00031058522900435177, -0.0003475212086255653, -0.00020241339807425978, -0.00020655881373479216, -0.00014375717458056593, -0.010867773745269347, -0.00047386056407707947, -0.0009277851355173087, -7.803217174646339e-05, -0.00029436124271834405, -5.923185940148825e-05, -0.00011987618355063123, -3.763835684725987e-05, -5.4976332384142674e-05, -2.1726389508571842e-05, -0.014335138157174299, -0.0011203902997614255, -0.0012556902376137085, -0.00026288706215680206, -0.00037483551707948547, -0.00013626692127745508, -0.00016066025429419743, -8.187495336739907e-05, -8.46389626369936e-05, -5.3584776494660184e-05, -0.010618172829621417, -0.0005192832903943113, -0.0006872085010403342, -5.286836323216093e-05, -0.00019090832808937554, -3.7495642571731805e-05, -7.341634586704246e-05, -2.4480537085691933e-05, -3.3342846153358e-05, -1.5182956434807467e-05] loop 147\n",
            "[2368665.1292517805, 1753019.821063748, 1297375.3371531095, 960150.6803594778, 710570.6649919873, 525857.8050401688, 389153.9428920224, 287981.98249543173, 213107.37111016308, 157695.44770709437, 116687.77161260668, 86340.5252834285, 63882.873163171076, 47264.103703198634, 34966.4824792737, 25866.74003697788, 19133.555711798846, 14151.683090125027, 10465.793682199957, 7738.914568197221, 5721.667416085148, 4229.501856632108, 3125.8456642045503, 2309.634090181306, 1706.080290790503, 1259.844543382586, 929.9788402694088, 686.1854605325752, 506.0480305308955, 372.9823335863726, 274.71981367330574, 202.18532674596898, 148.66666177943284, 109.19997020475583, 80.11494714529297, 58.69820698648927, 42.94411871646909, 31.370385355101508, 22.88157851113616, 16.66820391852293, 12.13208264115113, 8.831200036234547, 6.438937460108723, 4.713926646122185, 3.477762232314542, 2.598544927211108, 1.978760320819754, 1.546375991462721, 1.2483094764091578, 1.0456215508806035, 0.9099496264304718, 0.8208282808947474, 0.7636520953905418, 0.7281184922970905, 0.7070430307091682, 0.6954700695619301, 0.6900169384801446, 0.6883989213281029, 0.6890905396341257, 0.6910870265561928, 0.6937379656815044, 0.6966321268204868, 0.6995182320991551, 0.7022507455464008, 0.7047529932558951, 0.7069922339489515, 0.7089629384320831, 0.710675686120011, 0.7121498884217837, 0.7134091055620796, 0.7144781091502204, 0.7153811095836641, 0.7161407516009557, 0.7167776083335053, 0.7173099916468018, 0.7177539566125005, 0.7181234190687726, 0.7184303332648584, 0.718684895604831, 0.7188957533155156, 0.7190702054104783, 0.7192143889525271, 0.719333447262072, 0.71943167902027, 0.7195126686163884, 0.7195793988916739, 0.7196343478446342, 0.7196795710258543, 0.7197167713592512, 0.7197473580444435, 0.7197724960633483, 0.7197931476601924, 0.7198101070047812, 0.7198240290943103, 0.7198354538050483, 0.7198448258746492, 0.7198525114797899, 0.7198588119720537, 0.7198639752467443, 0.7198682051435028, 0.719871669212874, 0.7198745051280139, 0.7198768259743434, 0.7198787246108798, 0.7198802772642113, 0.7198815464886772, 0.7198825836034294, 0.7198834306979928, 0.7198841222821122, 0.7198846866424838, 0.7198851469580899, 0.7198855222168002, 0.7198858279684263, 0.7198860769432414, 0.7198862795598524, 0.7198864443421181, 0.7198865782613082, 0.7198866870168339, 0.7198867752665276, 0.7198868468154813, 0.7198869047708667, 0.7198869516688332, 0.7198869895784877, 0.7198870201870757, 0.7198870448697406, 0.7198870647466384, 0.7198870807296834, 0.7198870935607993, 0.7198871038432055, 0.7198871120669991, 0.7198871186300662, 0.7198871238551662, 0.7198871280038909, 0.7198871312880529, 0.7198871338789863, 0.7198871359151287, 0.7198871375082051, 0.7198871387482652, 0.7198871397077867, 0.7198871404450151, 0.7198871410066786, 0.7198871414301977, 0.7198871417454771, 0.7198871419763613, 0.7198871421418155, 0.7198871422568822, 0.7198871423334534, 0.7198871423808981]\n",
            "[0.6931471805599454, 0.6919794646324847, 0.6909953422152332, 0.6901571607065597, 0.6894597336212515, 0.6888981564229808, 0.6884677955053369, 0.6881642729835117, 0.6879834522010253, 0.6879214239330079]\n"
          ],
          "name": "stdout"
        }
      ]
    },
    {
      "cell_type": "markdown",
      "metadata": {
        "id": "N5IKqMICNrl2",
        "colab_type": "text"
      },
      "source": [
        "1 - Plot the training data [1pt]"
      ]
    },
    {
      "cell_type": "code",
      "metadata": {
        "id": "HgZgZ-uMNwlm",
        "colab_type": "code",
        "outputId": "798a519b-bba1-4454-913e-ed7d4f8e0410",
        "colab": {
          "base_uri": "https://localhost:8080/",
          "height": 297
        }
      },
      "source": [
        "plt.figure()\n",
        "plt.scatter(x_label0, y_label0, c='b')\n",
        "plt.scatter(x_label1, y_label1, c='r')\n",
        "plt.tight_layout()\n",
        "plt.gca().set_aspect('equal', adjustable='box')\n",
        "plt.show()"
      ],
      "execution_count": 67,
      "outputs": [
        {
          "output_type": "display_data",
          "data": {
            "image/png": "[encoded data removed]",
            "text/plain": [
              "<Figure size 432x288 with 1 Axes>"
            ]
          },
          "metadata": {
            "tags": [],
            "needs_background": "light"
          }
        }
      ]
    },
    {
      "cell_type": "markdown",
      "metadata": {
        "id": "RAPg_JG6oqRg",
        "colab_type": "text"
      },
      "source": [
        "2. Plot the training error with varying regularization parameters"
      ]
    },
    {
      "cell_type": "code",
      "metadata": {
        "id": "cQ6ieZ-bnTzx",
        "colab_type": "code",
        "outputId": "52bdccfb-800b-495a-af91-70712f79fa81",
        "colab": {
          "base_uri": "https://localhost:8080/",
          "height": 494
        }
      },
      "source": [
        "make_plot([(step_count_to_energy_value_over, \"plot\", \"red\", \"over-fitting\"), (step_count_to_energy_value, \"plot\", \"green\", \"just-right\"), (step_count_to_energy_value_under, \"plot\", \"blue\", \"under-fitting\") ])\n",
        "show_plot()"
      ],
      "execution_count": 68,
      "outputs": [
        {
          "output_type": "display_data",
          "data": {
            "image/png": "[encoded data removed]",
            "text/plain": [
              "<Figure size 576x576 with 1 Axes>"
            ]
          },
          "metadata": {
            "tags": [],
            "needs_background": "light"
          }
        }
      ]
    },
    {
      "cell_type": "markdown",
      "metadata": {
        "id": "YJ0mdHWOoy-Q",
        "colab_type": "text"
      },
      "source": [
        "3. Display the values of the chosen regularization parameters"
      ]
    },
    {
      "cell_type": "code",
      "metadata": {
        "id": "93WYjQccoyrx",
        "colab_type": "code",
        "outputId": "63f4af8d-0d78-4e9e-dc4a-e78cc5537f7c",
        "colab": {
          "base_uri": "https://localhost:8080/",
          "height": 68
        }
      },
      "source": [
        "print(f\"over-fitting: {over_lambda_size}\")\n",
        "print(f\"just-right: {lambda_size}\")\n",
        "print(f\"under-fitting: {under_lambda_size}\")"
      ],
      "execution_count": 69,
      "outputs": [
        {
          "output_type": "stream",
          "text": [
            "over-fitting: 0.5332\n",
            "just-right: 1.3969\n",
            "under-fitting: 1.7\n"
          ],
          "name": "stdout"
        }
      ]
    },
    {
      "cell_type": "markdown",
      "metadata": {
        "id": "_EfOL_atpZYY",
        "colab_type": "text"
      },
      "source": [
        "4. Plot the training accuracy with varying regularization parameters"
      ]
    },
    {
      "cell_type": "code",
      "metadata": {
        "id": "_fqCi6bxsw54",
        "colab_type": "code",
        "outputId": "dc1be4f4-d45d-4983-cf8a-66bbf8dd1e07",
        "colab": {
          "base_uri": "https://localhost:8080/",
          "height": 483
        }
      },
      "source": [
        "make_plot([(step_count_to_accuracy_over, \"plot\", \"red\", \"over-fitting\"), (step_count_to_accuracy, \"plot\", \"green\", \"just-right\"), (step_count_to_accuracy_under, \"plot\", \"blue\", \"under-fitting\") ])\n",
        "show_plot()"
      ],
      "execution_count": 70,
      "outputs": [
        {
          "output_type": "display_data",
          "data": {
            "image/png": "[encoded data removed]",
            "text/plain": [
              "<Figure size 576x576 with 1 Axes>"
            ]
          },
          "metadata": {
            "tags": [],
            "needs_background": "light"
          }
        }
      ]
    },
    {
      "cell_type": "markdown",
      "metadata": {
        "id": "XHMY6ngCs-aM",
        "colab_type": "text"
      },
      "source": [
        "5. Display the final training accuracy with varying regularization parameters"
      ]
    },
    {
      "cell_type": "code",
      "metadata": {
        "id": "S993LpEGs8MO",
        "colab_type": "code",
        "outputId": "acf5c6b1-7846-4121-c919-0a95160a9d8d",
        "colab": {
          "base_uri": "https://localhost:8080/",
          "height": 68
        }
      },
      "source": [
        "def get_last(d):\n",
        "    return d[list(d.keys())[-1]]\n",
        "\n",
        "print(f\"over-fitting: {get_last(step_count_to_accuracy_over) * 100}%\")\n",
        "print(f\"just-right: {get_last(step_count_to_accuracy) * 100}%\")\n",
        "print(f\"under-fitting: {get_last(step_count_to_accuracy_under) * 100}%\")"
      ],
      "execution_count": 71,
      "outputs": [
        {
          "output_type": "stream",
          "text": [
            "over-fitting: 69.49152542372882%\n",
            "just-right: 57.6271186440678%\n",
            "under-fitting: 52.54237288135594%\n"
          ],
          "name": "stdout"
        }
      ]
    },
    {
      "cell_type": "markdown",
      "metadata": {
        "id": "LOQm-iR5tnn9",
        "colab_type": "text"
      },
      "source": [
        "6. Plot the optimal classifier with varying regularization parameters superimposed on the training data"
      ]
    },
    {
      "cell_type": "code",
      "metadata": {
        "id": "4-K2FFOrtrqz",
        "colab_type": "code",
        "outputId": "89629dd0-2a7c-4f71-c2f8-77c5d8bbe0fa",
        "colab": {
          "base_uri": "https://localhost:8080/",
          "height": 314
        }
      },
      "source": [
        "x = np.arange(-2, 2, 0.05)\n",
        "xx, yy = np.meshgrid(x, x)\n",
        "\n",
        "def make_tuple(poly_list, x, y):\n",
        "    new_factor = []\n",
        "    for (x_up, y_up) in poly_list:\n",
        "        new_factor.append((x ** x_up) * (y ** y_up))\n",
        "\n",
        "    return tuple(new_factor)\n",
        "\n",
        "def_calc_cost_over = np.frompyfunc(lambda x, y: get_by_linear(current_theta_list_over, make_tuple(poly_list,x,y)), 2, 1)\n",
        "def_calc_cost = np.frompyfunc(lambda x, y: get_by_linear(current_theta_list, make_tuple(poly_list,x,y)), 2, 1)\n",
        "def_calc_cost_under = np.frompyfunc(lambda x, y: get_by_linear(current_theta_list_under, make_tuple(poly_list,x,y)), 2, 1)\n",
        "\n",
        "result_over = def_calc_cost_over.reduce((xx, yy), axis=0).astype(np.float64)\n",
        "result = def_calc_cost.reduce((xx, yy), axis=0).astype(np.float64)\n",
        "result_under = def_calc_cost_under.reduce((xx, yy), axis=0).astype(np.float64)\n",
        "\n",
        "\n",
        "make_plot([])\n",
        "\n",
        "plt.figure()\n",
        "plt.scatter(x_label0, y_label0, c='b')\n",
        "plt.scatter(x_label1, y_label1, c='r')\n",
        "plt.tight_layout()\n",
        "plt.gca().set_aspect('equal', adjustable='box')\n",
        "\n",
        "a = pyplot.contour(xx, yy, result_over, colors=['red', 'red'],levels=[0])\n",
        "b = pyplot.contour(xx, yy, result, colors=['green', 'green'],levels=[0])\n",
        "c = pyplot.contour(xx, yy, result_under, colors=['blue', 'blue'],levels=[0])\n",
        "\n",
        "proxy = [pyplot.Rectangle((0,0),1,1,fc = pc.colors[0]) for pc in [a, b, c]]\n",
        "\n",
        "plt.legend(proxy, [\"over-fitting\", \"just-right\", \"under-fitting\"])\n",
        "pyplot.show()"
      ],
      "execution_count": 72,
      "outputs": [
        {
          "output_type": "display_data",
          "data": {
            "text/plain": [
              "<Figure size 576x576 with 0 Axes>"
            ]
          },
          "metadata": {
            "tags": []
          }
        },
        {
          "output_type": "display_data",
          "data": {
            "image/png": "[encoded data removed]",
            "text/plain": [
              "<Figure size 432x288 with 1 Axes>"
            ]
          },
          "metadata": {
            "tags": [],
            "needs_background": "light"
          }
        }
      ]
    }
  ]
}