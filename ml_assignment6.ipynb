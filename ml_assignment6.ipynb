{
  "nbformat": 4,
  "nbformat_minor": 0,
  "metadata": {
    "colab": {
      "name": "ml-assignment6.ipynb",
      "provenance": [],
      "authorship_tag": "ABX9TyN0RFnTrwkoMd6LlYjZKSt1",
      "include_colab_link": true
    },
    "kernelspec": {
      "name": "python3",
      "display_name": "Python 3"
    }
  },
  "cells": [
    {
      "cell_type": "markdown",
      "metadata": {
        "id": "view-in-github",
        "colab_type": "text"
      },
      "source": [
        "<a href=\"https://colab.research.google.com/github/nbkwon/ml-assignment/blob/master/ml_assignment6.ipynb\" target=\"_parent\"><img src=\"https://colab.research.google.com/assets/colab-badge.svg\" alt=\"Open In Colab\"/></a>"
      ]
    },
    {
      "cell_type": "code",
      "metadata": {
        "id": "84Rjz8-pPz0S",
        "colab_type": "code",
        "colab": {}
      },
      "source": [
        "# we now need pyplot for plotting data\n",
        "import matplotlib.pyplot as pyplot\n",
        "def show_plot(download_file = False):\n",
        "    pyplot.show()\n",
        "    if download_file == False:\n",
        "       return\n",
        "    \n",
        "    import google.colab\n",
        "    file_name = \"test.png\"\n",
        "    pyplot.savefig(file_name)\n",
        "    google.colab.files.download(file_name)\n",
        "\n",
        "def make_plot(plot_data_list, use_this = None):\n",
        "    # it's too samll. make bigger.\n",
        "    if use_this is None:\n",
        "        pyplot.figure(figsize=(8, 8))\n",
        "    else:\n",
        "        # use_this.set_figheight(8)\n",
        "        # use_this.set_figwidth(8)\n",
        "        pass\n",
        "\n",
        "    for data_dic, plot_type, color in plot_data_list:\n",
        "        if plot_type is \"plot\":\n",
        "            if use_this is None:\n",
        "                pyplot.plot(list(data_dic.keys()), list(data_dic.values()), c=color)\n",
        "            else:\n",
        "                use_this.plot(list(data_dic.keys()), list(data_dic.values()), c=color)    \n",
        "        if plot_type is \"scatter\":\n",
        "            if use_this is None:\n",
        "                pyplot.scatter(list(data_dic.keys()), list(data_dic.values()), c=color)\n",
        "            else:\n",
        "                use_this.scatter(list(data_dic.keys()), list(data_dic.values()), c=color)"
      ],
      "execution_count": 0,
      "outputs": []
    },
    {
      "cell_type": "code",
      "metadata": {
        "id": "2xf3cisuQxrO",
        "colab_type": "code",
        "colab": {}
      },
      "source": [
        "# 이전 과제에서 쌓여가는 함수\n",
        "\n",
        "import numpy\n",
        "\n",
        "def sigmoid(value):\n",
        "    # print(\"value -> numpy.exp(-value)\", value, numpy.exp(-value))\n",
        "    return 1 / (1 + numpy.exp(-value))\n",
        "\n",
        "def get_by_sigmoid(t_list, factor_list):\n",
        "    # print(\"get_by_linear(t_list, factor_list)\", get_by_linear(t_list, factor_list))\n",
        "    return sigmoid(get_by_linear(t_list, factor_list))\n",
        "\n",
        "def get_by_linear(t_list, factor_list):\n",
        "    return t_list[0] + numpy.dot(t_list[1:], factor_list)\n",
        "\n",
        "def calc_energy_value(theta_list, data_dic):\n",
        "    ret = 0\n",
        "\n",
        "    m = len(data_dic)\n",
        "\n",
        "    for factor_list, r_in_d in data_dic.items():\n",
        "        # (−l(i)log(sigmoid)−(1−l(i))log(1−σ(z(i))))\n",
        "        z_i = get_by_sigmoid(theta_list, factor_list)\n",
        "\n",
        "\n",
        "        # print(z_i, r_in_d)\n",
        "\n",
        "        calc_result = -r_in_d * numpy.log(z_i) - (1 - r_in_d) * numpy.log(1 - z_i)\n",
        "\n",
        "        ret = ret + calc_result\n",
        "\n",
        "    return ret / m\n",
        "    \n",
        "# Gradient Descent를 위해 cost function을 변형한 식\n",
        "def calc_cost_sum_for_gradient_descent(theta_list, data_dic, multiply_bitmap):\n",
        "    ret = 0\n",
        "\n",
        "    m = len(data_dic)\n",
        "\n",
        "    for factor_list, result_in_data in data_dic.items():\n",
        "        calc_y = get_by_sigmoid(theta_list, factor_list)\n",
        "        calc_result = calc_y - result_in_data\n",
        "\n",
        "        for factor, multiply_flag in zip(factor_list, multiply_bitmap):\n",
        "            if multiply_flag == 0:\n",
        "                continue\n",
        "\n",
        "            calc_result = calc_result * factor\n",
        "\n",
        "        ret = ret + calc_result\n",
        "\n",
        "    return ret / m\n",
        "    \n",
        "def next_gradient_descent_step(step_size, theta_list, data_dic):\n",
        "    next_theta_list = []\n",
        "    for i in range(len(theta_list)):\n",
        "        bitmap = [0] * (len(theta_list) - 1)\n",
        "        if i - 1 >= 0:\n",
        "            bitmap[i-1] = 1\n",
        "\n",
        "        # print(bitmap)\n",
        "\n",
        "        next_theta = theta_list[i] - step_size * calc_cost_sum_for_gradient_descent(theta_list, data_dic, bitmap)\n",
        "        next_theta_list.append(next_theta)\n",
        "\n",
        "    return next_theta_list\n",
        "    \n",
        "def check_convergence(theta_list, new_theta_list):\n",
        "    # float 형의 자료형 동일한지 판단을 위해 numpy의 isclose를 사용.\n",
        "    atol = 0.000001\n",
        "    return numpy.isclose(theta_list, new_theta_list, rtol=atol, atol=atol)\n",
        "    # return numpy.isclose(theta_list, new_theta_list)"
      ],
      "execution_count": 0,
      "outputs": []
    },
    {
      "cell_type": "code",
      "metadata": {
        "id": "MMmcgjlVSG38",
        "colab_type": "code",
        "colab": {}
      },
      "source": [
        "def calc_accuracy(theta_list, factor_to_result):        \n",
        "    count = 0\n",
        "    for factor_list, h in factor_to_result.items():\n",
        "        expected_h = get_by_linear(theta_list, factor_list)\n",
        "        if expected_h > 0 and h == 1:\n",
        "            count = count + 1\n",
        "        if expected_h < 0 and h == 0:\n",
        "            count = count + 1\n",
        "\n",
        "    return count / len(factor_to_result)"
      ],
      "execution_count": 0,
      "outputs": []
    },
    {
      "cell_type": "code",
      "metadata": {
        "id": "GR1RHgKMQ0NW",
        "colab_type": "code",
        "colab": {}
      },
      "source": [
        "import numpy as np\n",
        "import matplotlib.pyplot as plt\n",
        "\n",
        "data    = np.genfromtxt(\"data-nonlinear.txt\", delimiter=',')\n",
        "\n",
        "pointX  = data[:, 0]\n",
        "pointY  = data[:, 1]\n",
        "label   = data[:, 2]\n",
        "\n",
        "x_label0 = pointX[label == 0]\n",
        "y_label0 = pointY[label == 0]\n",
        "\n",
        "x_label1 = pointX[label == 1]\n",
        "y_label1 = pointY[label == 1]\n"
      ],
      "execution_count": 0,
      "outputs": []
    },
    {
      "cell_type": "code",
      "metadata": {
        "id": "h-ItOyVHAdm_",
        "colab_type": "code",
        "outputId": "b97587b2-5e43-4e82-e9c3-76f4648d31bb",
        "colab": {
          "base_uri": "https://localhost:8080/",
          "height": 122
        }
      },
      "source": [
        "dic0 = dict(zip(zip(x_label0, y_label0), [0] * len(x_label0)))\n",
        "dic1 = dict(zip(zip(x_label1, y_label1), [1] * len(x_label1)))\n",
        "factor_to_result = {**dic0, **dic1}\n",
        "\n",
        "demen = 5\n",
        "\n",
        "poly_list = []\n",
        "current_theta_list = [0.0]\n",
        "# 다항식을 만들기 위한 값을 리스트로 저장\n",
        "# 0, 0 은 생성 안한다. (get_by_linear에서 0,0은 별도 처리를 해주고 있다.)\n",
        "# (n, m) 은 x^n, y^m을 의미.\n",
        "\n",
        "poly_list = [(8, 0), (9, 0), (7, 1), (0, 8), (5, 3), (2, 1), (4, 4), (6, 3), (1, 2), (0, 6), (1, 0), (0, 1), (1, 4), (6, 0), (3, 6)]\n",
        "# current_theta_list = [2, -261, 147, -37, 0,\n",
        "#                       -522, 13, -592, 446, 67,\n",
        "#                       -18, -1, 3, -171, 79,\n",
        "#                       690]\n",
        "current_theta_list = [2, -260, 150, -40, -5,\n",
        "                      -500, 15, -590, 440, 60,\n",
        "                      -20, -10, 30, -170, 80,\n",
        "                      690]\n",
        "print(f\"size of k is {len(current_theta_list)}\")\n",
        "print(f\"size of poly list is {len(poly_list)}\")\n",
        "print(poly_list)\n",
        "\n",
        "# 이전 과제까지는 수가 작아서 이터레이션에서 계산했는데, 이번에는 값이 많아서 미리 계산해둔다.\n",
        "# data_dic에는 x, y, h 이렇게 들어갔는데, poly_list를 이용해서 새로 dict을 만들어준다.\n",
        "# poly_list의 값은 x^n, y^m 이렇게 됨.\n",
        "factor_to_result_orig = factor_to_result\n",
        "factor_to_result = {}\n",
        "\n",
        "for (x,y), value in factor_to_result_orig.items():\n",
        "    new_factor = []\n",
        "    for (x_up, y_up) in poly_list:\n",
        "        new_factor.append((x ** x_up) * (y ** y_up))\n",
        "    \n",
        "    factor_to_result[tuple(new_factor)] = value\n",
        "\n",
        "\n",
        "step_size = 3\n",
        "\n",
        "step_count = 0\n",
        "\n",
        "step_count_to_energy_value = {step_count: calc_energy_value(current_theta_list, factor_to_result)}\n",
        "step_count_to_accuracy = {step_count: calc_accuracy(current_theta_list, factor_to_result)}\n",
        "step_count_to_theta_list = {step_count: current_theta_list}\n",
        "\n",
        "\n",
        "print(\"start ->\",current_theta_list, \"loss\", step_count_to_energy_value[step_count])\n",
        "\n",
        "no_loop = 0\n",
        "\n",
        "while(True):\n",
        "    step_count = step_count + 1\n",
        "    next_theta_list = next_gradient_descent_step(step_size / numpy.sqrt(numpy.log(step_count+1)), current_theta_list, factor_to_result)\n",
        "    \n",
        "    step_count_to_energy_value[step_count] = calc_energy_value(next_theta_list, factor_to_result)\n",
        "    step_count_to_accuracy[step_count] = calc_accuracy(next_theta_list, factor_to_result)\n",
        "\n",
        "    step_count_to_theta_list[step_count] = next_theta_list\n",
        "\n",
        "    # -------------------------디버그용 코드\n",
        "    # no_loop = no_loop + 1\n",
        "    # if(no_loop % 1000 == 0):\n",
        "    #     print(\"loop\", no_loop, current_theta_list, \"->\", next_theta_list, \"loss\", step_count_to_energy_value[step_count], \"step mul\", numpy.log(numpy.log(step_count+1) + 1))\n",
        "\n",
        "    #     start = 0.0000000001\n",
        "    #     for i in range(9):\n",
        "    #         if numpy.isclose(current_theta_list, next_theta_list, rtol=start, atol=start).all():\n",
        "    #             print(f\"close at {start:.15f}\")\n",
        "    #             break;\n",
        "    #         start = start * 10\n",
        "\n",
        "    # if(no_loop > 100000):\n",
        "    #     print(\"stop\")\n",
        "    #     break\n",
        "    # -------------------------디버그용 코드 끝    \n",
        "    if check_convergence(current_theta_list, next_theta_list).all():\n",
        "        break\n",
        "\n",
        "    # print(current_theta_list, \"->\", next_theta_list, \"loss\", step_count_to_energy_value[step_count])\n",
        "    current_theta_list = next_theta_list\n",
        "\n",
        "# show calculated theta\n",
        "# current_theta_list = [0, 0, 0, 1, 0, 1]\n",
        "print(\"current_theta_pair\", current_theta_list, \"loop\", no_loop)"
      ],
      "execution_count": 106,
      "outputs": [
        {
          "output_type": "stream",
          "text": [
            "size of k is 16\n",
            "size of poly list is 15\n",
            "[(8, 0), (9, 0), (7, 1), (0, 8), (5, 3), (2, 1), (4, 4), (6, 3), (1, 2), (0, 6), (1, 0), (0, 1), (1, 4), (6, 0), (3, 6)]\n",
            "start -> [2, -260, 150, -40, -5, -500, 15, -590, 440, 60, -20, -10, 30, -170, 80, 690] loss 3.871450104245297\n",
            "current_theta_pair [2.0028160720178163, -261.2447366096182, 145.88298843228188, -41.348321123892276, -0.4287649191083611, -503.73318232122864, 13.191062801860925, -587.4613534037526, 439.77377944614756, 66.42935579602702, -17.622713440195206, -1.260701887783181, 3.092778872488593, -170.42274061563342, 80.74541153375255, 689.616836028698] loop 0\n"
          ],
          "name": "stdout"
        }
      ]
    },
    {
      "cell_type": "markdown",
      "metadata": {
        "id": "gBJTMG-wWdYj",
        "colab_type": "text"
      },
      "source": [
        "1. Plot the training data [1pt]"
      ]
    },
    {
      "cell_type": "code",
      "metadata": {
        "id": "Ix4FowuWRrXV",
        "colab_type": "code",
        "colab": {
          "base_uri": "https://localhost:8080/",
          "height": 297
        },
        "outputId": "aefefbe7-cec6-4cc2-b38b-000bddab15ad"
      },
      "source": [
        "plt.figure()\n",
        "plt.scatter(x_label0, y_label0, c='b')\n",
        "plt.scatter(x_label1, y_label1, c='r')\n",
        "plt.tight_layout()\n",
        "plt.gca().set_aspect('equal', adjustable='box')\n",
        "plt.show()"
      ],
      "execution_count": 107,
      "outputs": [
        {
          "output_type": "display_data",
          "data": {
            "image/png": "[encoded data removed]",
            "text/plain": [
              "<Figure size 432x288 with 1 Axes>"
            ]
          },
          "metadata": {
            "tags": [],
            "needs_background": "light"
          }
        }
      ]
    },
    {
      "cell_type": "markdown",
      "metadata": {
        "id": "oatmbGK1WfmZ",
        "colab_type": "text"
      },
      "source": [
        "2. Write down the high dimensional function $g(x, y; \\theta)$"
      ]
    },
    {
      "cell_type": "markdown",
      "metadata": {
        "id": "iBKSPSK0WlWs",
        "colab_type": "text"
      },
      "source": [
        "$g(x, y ; \\theta) = \n",
        "\\theta_{0} + \n",
        "\\theta_{1} x^{8}y^{0} + \n",
        "\\theta_{2} x^{9}y^{0} + \n",
        "\\theta_{3} x^{7}y^{1} + \n",
        "\\theta_{4} x^{0}y^{8} + \n",
        "\\theta_{5} x^{5}y^{3} + \n",
        "\\theta_{6} x^{2}y^{1} + \n",
        "\\theta_{7} x^{4}y^{4} + \n",
        "\\theta_{8} x^{6}y^{3} + \n",
        "\\theta_{9} x^{1}y^{2} + \n",
        "\\theta_{10} x^{0}y^{6} + \n",
        "\\theta_{11} x^{1}y^{0} + \n",
        "\\theta_{12} x^{0}y^{1} + \n",
        "\\theta_{13} x^{1}y^{4} + \n",
        "\\theta_{14} x^{6}y^{0} + \n",
        "\\theta_{15} x^{3}y^{6} \n",
        "$"
      ]
    },
    {
      "cell_type": "markdown",
      "metadata": {
        "id": "h3m79AlQXuf7",
        "colab_type": "text"
      },
      "source": [
        "3. Plot the training error [3pt]"
      ]
    },
    {
      "cell_type": "code",
      "metadata": {
        "id": "WGY63ZShXuRz",
        "colab_type": "code",
        "colab": {
          "base_uri": "https://localhost:8080/",
          "height": 483
        },
        "outputId": "3f0b7434-7a35-4dd7-d7d8-f8b1461bfe01"
      },
      "source": [
        "make_plot([(step_count_to_energy_value, \"plot\", \"blue\")])\n",
        "show_plot()"
      ],
      "execution_count": 108,
      "outputs": [
        {
          "output_type": "display_data",
          "data": {
            "image/png": "[encoded data removed]",
            "text/plain": [
              "<Figure size 576x576 with 1 Axes>"
            ]
          },
          "metadata": {
            "tags": [],
            "needs_background": "light"
          }
        }
      ]
    },
    {
      "cell_type": "markdown",
      "metadata": {
        "id": "h0sEEACUYjEr",
        "colab_type": "text"
      },
      "source": [
        "4. Plot the training accuracy [3pt]"
      ]
    },
    {
      "cell_type": "code",
      "metadata": {
        "id": "6UBUlSNIYlNh",
        "colab_type": "code",
        "colab": {
          "base_uri": "https://localhost:8080/",
          "height": 483
        },
        "outputId": "14be05db-2b9f-4457-f975-fcdb78cfffbe"
      },
      "source": [
        "make_plot([(step_count_to_accuracy, \"plot\", \"red\")])\n",
        "show_plot()"
      ],
      "execution_count": 109,
      "outputs": [
        {
          "output_type": "display_data",
          "data": {
            "image/png": "[encoded data removed]",
            "text/plain": [
              "<Figure size 576x576 with 1 Axes>"
            ]
          },
          "metadata": {
            "tags": [],
            "needs_background": "light"
          }
        }
      ]
    },
    {
      "cell_type": "markdown",
      "metadata": {
        "id": "Z1j7lYFXYs4e",
        "colab_type": "text"
      },
      "source": [
        "5. Write down the final training accuracy [5pt]"
      ]
    },
    {
      "cell_type": "code",
      "metadata": {
        "id": "762lbfCeVw4V",
        "colab_type": "code",
        "colab": {
          "base_uri": "https://localhost:8080/",
          "height": 34
        },
        "outputId": "666ba283-7e07-4d8a-f007-072d3651e0a1"
      },
      "source": [
        "print(calc_accuracy(current_theta_list, factor_to_result))"
      ],
      "execution_count": 110,
      "outputs": [
        {
          "output_type": "stream",
          "text": [
            "0.9152542372881356\n"
          ],
          "name": "stdout"
        }
      ]
    },
    {
      "cell_type": "markdown",
      "metadata": {
        "id": "K152WlGqYxbt",
        "colab_type": "text"
      },
      "source": [
        "6. Plot the optimal classifier superimposed on the training data [5pt]"
      ]
    },
    {
      "cell_type": "code",
      "metadata": {
        "id": "i43Fy4-jYuDJ",
        "colab_type": "code",
        "colab": {
          "base_uri": "https://localhost:8080/",
          "height": 314
        },
        "outputId": "7f8445e2-d303-427f-8ac9-b5e2b5b7a3b7"
      },
      "source": [
        "x = np.arange(-1, 2, 0.05)\n",
        "xx, yy = np.meshgrid(x, x)\n",
        "\n",
        "def make_tuple(poly_list, x, y):\n",
        "    new_factor = []\n",
        "    for (x_up, y_up) in poly_list:\n",
        "        new_factor.append((x ** x_up) * (y ** y_up))\n",
        "\n",
        "    return tuple(new_factor)\n",
        "\n",
        "\n",
        "def_calc_cost = np.frompyfunc(lambda x, y: get_by_linear(current_theta_list, make_tuple(poly_list,x,y)), 2, 1)\n",
        "result = def_calc_cost.reduce((xx, yy), axis=0).astype(np.float64)\n",
        "\n",
        "make_plot([])\n",
        "\n",
        "plt.figure()\n",
        "plt.scatter(x_label0, y_label0, c='b')\n",
        "plt.scatter(x_label1, y_label1, c='r')\n",
        "plt.tight_layout()\n",
        "plt.gca().set_aspect('equal', adjustable='box')\n",
        "\n",
        "pyplot.contour(xx, yy, result, colors=['green', 'green'],levels=[0])\n",
        "\n",
        "pyplot.show()"
      ],
      "execution_count": 111,
      "outputs": [
        {
          "output_type": "display_data",
          "data": {
            "text/plain": [
              "<Figure size 576x576 with 0 Axes>"
            ]
          },
          "metadata": {
            "tags": []
          }
        },
        {
          "output_type": "display_data",
          "data": {
            "image/png": "[encoded data removed]",
            "text/plain": [
              "<Figure size 432x288 with 1 Axes>"
            ]
          },
          "metadata": {
            "tags": [],
            "needs_background": "light"
          }
        }
      ]
    }
  ]
}