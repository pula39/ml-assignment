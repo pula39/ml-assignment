{
  "nbformat": 4,
  "nbformat_minor": 0,
  "metadata": {
    "colab": {
      "name": "ml-assignment9.ipynb",
      "provenance": [],
      "collapsed_sections": [],
      "authorship_tag": "ABX9TyMPs+7hf67pEXOpcrabn8EZ",
      "include_colab_link": true
    },
    "kernelspec": {
      "name": "python3",
      "display_name": "Python 3"
    }
  },
  "cells": [
    {
      "cell_type": "markdown",
      "metadata": {
        "id": "view-in-github",
        "colab_type": "text"
      },
      "source": [
        "<a href=\"https://colab.research.google.com/github/nbkwon/ml-assignment/blob/master/ml_assignment9.ipynb\" target=\"_parent\"><img src=\"https://colab.research.google.com/assets/colab-badge.svg\" alt=\"Open In Colab\"/></a>"
      ]
    },
    {
      "cell_type": "code",
      "metadata": {
        "id": "nWAWKGt7oxi3",
        "colab_type": "code",
        "colab": {}
      },
      "source": [
        "# we now need pyplot for plotting data\n",
        "import matplotlib.pyplot as pyplot\n",
        "def show_plot(download_file = False):\n",
        "    pyplot.legend()\n",
        "    pyplot.show()\n",
        "    if download_file == False:\n",
        "       return\n",
        "    \n",
        "    import google.colab\n",
        "    file_name = \"test.png\"\n",
        "    pyplot.savefig(file_name)\n",
        "    google.colab.files.download(file_name)\n",
        "\n",
        "def make_plot(plot_data_list, use_this = None):\n",
        "    # it's too samll. make bigger.\n",
        "    if use_this is None:\n",
        "        pyplot.figure(figsize=(8, 8))\n",
        "    else:\n",
        "        # use_this.set_figheight(8)\n",
        "        # use_this.set_figwidth(8)\n",
        "        pass\n",
        "\n",
        "    for data_dic, plot_type, color, label in plot_data_list:\n",
        "        if plot_type is \"plot\":\n",
        "            if use_this is None:\n",
        "                pyplot.plot(list(data_dic.keys()), list(data_dic.values()), c=color, label=label)\n",
        "            else:\n",
        "                use_this.plot(list(data_dic.keys()), list(data_dic.values()), c=color, label=label)    \n",
        "        if plot_type is \"scatter\":\n",
        "            if use_this is None:\n",
        "                pyplot.scatter(list(data_dic.keys()), list(data_dic.values()), c=color, label=label)\n",
        "            else:\n",
        "                use_this.scatter(list(data_dic.keys()), list(data_dic.values()), c=color, label=label)"
      ],
      "execution_count": 0,
      "outputs": []
    },
    {
      "cell_type": "code",
      "metadata": {
        "id": "v0yDRHQB8qU9",
        "colab_type": "code",
        "outputId": "1a615dbe-631e-4e03-a9e9-ce5acde3e0b2",
        "colab": {
          "base_uri": "https://localhost:8080/",
          "height": 495
        }
      },
      "source": [
        "import matplotlib.pyplot as plt\n",
        "import numpy as np\n",
        "from numba import jit, njit, vectorize, cuda\n",
        "from numpy import arange\n",
        "\n",
        "\n",
        "file_data   = \"mnist.csv\"\n",
        "handle_file = open(file_data, \"r\")\n",
        "data        = handle_file.readlines()\n",
        "handle_file.close()\n",
        "\n",
        "size_row    = 28    # height of the image\n",
        "size_col    = 28    # width of the image\n",
        "\n",
        "num_image   = len(data)\n",
        "count       = 0     # count for the number of images\n",
        "\n",
        "@jit\n",
        "def normalize(data):\n",
        "    data_normalized = (data - min(data)) / (max(data) - min(data))\n",
        "    return(data_normalized)\n",
        "\n",
        "@jit\n",
        "def distance(x, y):\n",
        "    d = (x - y) ** 2\n",
        "    s = np.sum(d)\n",
        "    # r = np.sqrt(s)\n",
        "\n",
        "    return(s)\n",
        "\n",
        "list_image  = np.empty((size_row * size_col, num_image), dtype=float)\n",
        "list_label  = np.empty(num_image, dtype=int)\n",
        "\n",
        "for line in data:\n",
        "    \n",
        "    line_data   = line.split(',')\n",
        "    label       = line_data[0]\n",
        "    im_vector   = np.asfarray(line_data[1:])\n",
        "    im_vector   = normalize(im_vector)\n",
        "\n",
        "    list_label[count]       = label\n",
        "    list_image[:, count]    = im_vector\n",
        "\n",
        "    count += 1\n",
        "\n",
        "print(count)\n",
        "#\n",
        "# plot first 150 images out of 10,000 with their labels\n",
        "#\n",
        "f1 = plt.figure(1)\n",
        "\n",
        "for i in range(150):\n",
        "\n",
        "    label       = list_label[i]\n",
        "    im_vector   = list_image[:, i]\n",
        "    im_matrix   = im_vector.reshape((size_row, size_col))\n",
        "\n",
        "    plt.subplot(10, 15, i+1)\n",
        "    plt.title(label)\n",
        "    plt.imshow(im_matrix, cmap='Greys', interpolation='None')\n",
        "\n",
        "    frame   = plt.gca()\n",
        "    frame.axes.get_xaxis().set_visible(False)\n",
        "    frame.axes.get_yaxis().set_visible(False)\n",
        "\n",
        "\n",
        "#plt.show()\n",
        "\n",
        "#\n",
        "# plot the average image of all the images for each digit\n",
        "#\n",
        "f2 = plt.figure(2)\n",
        "\n",
        "im_average  = np.zeros((size_row * size_col, 10), dtype=float)\n",
        "im_count    = np.zeros(10, dtype=int)\n",
        "\n",
        "for i in range(num_image):\n",
        "\n",
        "    im_average[:, list_label[i]] += list_image[:, i]\n",
        "    im_count[list_label[i]] += 1\n",
        "\n",
        "for i in range(10):\n",
        "\n",
        "    im_average[:, i] /= im_count[i]\n",
        "\n",
        "    plt.subplot(2, 5, i+1)\n",
        "    plt.title(i)\n",
        "    plt.imshow(im_average[:,i].reshape((size_row, size_col)), cmap='Greys', interpolation='None')\n",
        "\n",
        "    frame   = plt.gca()\n",
        "    frame.axes.get_xaxis().set_visible(False)\n",
        "    frame.axes.get_yaxis().set_visible(False)\n",
        "\n",
        "plt.show()\n"
      ],
      "execution_count": 135,
      "outputs": [
        {
          "output_type": "stream",
          "text": [
            "10000\n"
          ],
          "name": "stdout"
        },
        {
          "output_type": "display_data",
          "data": {
            "image/png": "[encoded data removed]",
            "text/plain": [
              "<Figure size 432x288 with 150 Axes>"
            ]
          },
          "metadata": {
            "tags": [],
            "needs_background": "light"
          }
        },
        {
          "output_type": "display_data",
          "data": {
            "image/png": "[encoded data removed]",
            "text/plain": [
              "<Figure size 432x288 with 10 Axes>"
            ]
          },
          "metadata": {
            "tags": [],
            "needs_background": "light"
          }
        }
      ]
    },
    {
      "cell_type": "code",
      "metadata": {
        "id": "vs4eRPA6DiZI",
        "colab_type": "code",
        "outputId": "d3a8be5f-0368-4eed-899d-592a9cd56149",
        "colab": {
          "base_uri": "https://localhost:8080/",
          "height": 1000
        }
      },
      "source": [
        "from functools import reduce\n",
        "\n",
        "def check_convergence(loss, loss_after):\n",
        "    # float 형의 자료형 동일한지 판단을 위해 numpy의 isclose를 사용.\n",
        "    # atol = 0.0000000000000000001\n",
        "    return abs(np.sum(loss - loss_after)) < 0.00000001\n",
        "    # return np.isclose(loss, loss_after)\n",
        "    # return numpy.isclose(theta_list, new_theta_list)\n",
        "\n",
        "\n",
        "def sigmoid_one(value):\n",
        "    return 1 / (1 + np.exp(-value))\n",
        "    \n",
        "def sigmoid(value):\n",
        "    r = 1 / (1 + np.exp(-value))\n",
        "    return r\n",
        "\n",
        "def vstack(f):\n",
        "    bias = np.ones((1, f.shape[1]))\n",
        "    return np.vstack((f, bias))\n",
        "\n",
        "def npmul(a, b):\n",
        "    # 2차원에 한해서 dot과 matmul은 동일함.\n",
        "    return a @ b\n",
        "\n",
        "def get_by_mat(mat_list, factor_list):\n",
        "    result_list = []\n",
        "\n",
        "    factors = factor_list\n",
        "    result_list.append(factors)\n",
        "\n",
        "    # mat 196 x 785\n",
        "    # mat 784(+1) * 6000\n",
        "    # -> 196 * 6000 \n",
        "    for mat in mat_list:\n",
        "        factors_with_bias = vstack(factors)\n",
        "     \n",
        "        factors = npmul(mat, factors_with_bias)\n",
        "        factors = sigmoid(factors)\n",
        "        result_list.append(factors)\n",
        "\n",
        "    \n",
        "    return result_list\n",
        "\n",
        "def log(n):\n",
        "    float_min = 0.00000000000000001\n",
        "    n[n<float_min] = float_min\n",
        "    n = np.log(n)\n",
        "    \n",
        "    return n\n",
        "\n",
        "def get_ret_list(mat_list, f_list):\n",
        "    ret = get_by_mat(mat_list, f_list)\n",
        "    return ret\n",
        "\n",
        "def calc_energy_value(mat_list, f_list, d_list, ret_list):\n",
        "    #d_list = [0 0 0 0 1 0 0 0 0 0]\n",
        "    #ret_list = [[0....0]\n",
        "    # for r_in_d, ret in zip(d_list, ret_list[-1]):\n",
        "    ret = ret_list[-1]\n",
        "    # print(d_list[0], ret[0])\n",
        "    # print((1 - d_list) * log(1 - ret))\n",
        "    calculated = -d_list * log(ret) - (1 - d_list) * log(1 - ret)\n",
        "    calculated /= d_list.shape[1]\n",
        "    # return calculated\n",
        "    # print(calculated)\n",
        "\n",
        "    return np.sum(calculated)\n",
        "\n",
        "def calc_next_gradient(lr, mat_list, f_list, d_list, ret_list):\n",
        "    h_list = ret_list[-1]\n",
        "    calculated_error = (h_list - d_list) \n",
        "    #     calculated_error = (-d_list/h_list) + (1-d_list) * (1 / (1 - h_list)\n",
        "    # calculated_error *= h_list * (1 - h_list )  \n",
        "\n",
        "    error_list = calculated_error  / d_list.shape[1]\n",
        "\n",
        "    new_mat_list = []\n",
        "\n",
        "    for i in range(len(mat_list)-1, -1, -1):\n",
        "        now_mat = mat_list[i]\n",
        "        new_mat = now_mat.copy()\n",
        "\n",
        "        factor_with_bias = vstack(ret_list[i])\n",
        "        # print(factor_with_bias.shape)\n",
        "        # print(error_list.shape)\n",
        "        calced = lr * (error_list @ factor_with_bias.transpose())\n",
        "        # print(\"new_mat calced\", new_mat.shape, calced.shape)\n",
        "        new_mat -= calced\n",
        "\n",
        "        new_mat_list.append(new_mat)\n",
        "\n",
        "        # error_list 갱신. 레이어의 에러를 미리 계산하는거라서 끝난상황이면 갱신할 필요가 없다.\n",
        "        if(i - 1 < 0):\n",
        "            continue\n",
        "        \n",
        "        v = ret_list[i]\n",
        "        v = v * (1 - v)\n",
        "        a = np.dot(now_mat.transpose(), error_list)\n",
        "        # print(\"check dLdz dzdz(i-1) (i)\", v.shape, factor_with_bias.shape)\n",
        "        \n",
        "        # 49 * 60 -> 50 * 60\n",
        "        new_error_list = v * a[:-1, ]\n",
        "        # print(\"new error_list\", new_error_list.shape)\n",
        "        error_list = new_error_list\n",
        "    \n",
        "    # print(\"new_mat_list len\", len(new_mat_list))\n",
        "    new_mat_list.reverse()\n",
        "\n",
        "    return new_mat_list\n",
        "\n",
        "def calc_accuracy(ret_list, answer_list):\n",
        "    calculated = np.argmax(ret_list[-1][:, ], axis=0)\n",
        "    answer = np.argmax(answer_list[:, ], axis=0)\n",
        "    corrected = np.sum(calculated == answer)\n",
        "    \n",
        "    count = answer_list.shape[1]\n",
        "\n",
        "    # print(\"accuracy count\", count)\n",
        "    # print(calculated)\n",
        "    # print(answer)       \n",
        "    # print(corrected)\n",
        "\n",
        "    return  corrected / count\n",
        "\n",
        "# r = np.zeros(10, dtype=np.float128)\n",
        "# r[0] = 1\n",
        "# d_dict = [(d, r)]\n",
        "# print(calc_energy_value([x_to_y_matrix, y_to_z_matrix, z_to_h_matrix], d_dict))\n",
        "# @njit\n",
        "def to_label_list(x):\n",
        "    l = np.zeros(10, dtype=np.float128)\n",
        "    l[x] = 1\n",
        "    return l\n",
        "\n",
        "# print(list_label)\n",
        "\n",
        "def make_thetas(x, y):\n",
        "    a = np.random.normal(0, 1, x * y).reshape(x,y)\n",
        "    # a = np.ones(x * y).reshape(x,y) \n",
        "    return a\n",
        "\n",
        "\n",
        "x_to_y_matrix = make_thetas(196, 785)\n",
        "y_to_z_matrix = make_thetas(49, 197)\n",
        "z_to_h_matrix = make_thetas(10, 50)\n",
        "\n",
        "cut = 10000\n",
        "# cut = 100\n",
        "list_label = list_label[:cut]\n",
        "list_image = list_image[:, :cut]\n",
        "ti = 6000 #train index\n",
        "# ti = 60 #train index\n",
        "driver = lambda x: to_label_list(x)\n",
        "train_list_label_arranged = np.array(list_label[:ti])\n",
        "train_list_label_arranged = np.array(list(map(driver, train_list_label_arranged))).transpose()\n",
        "test_list_label_arranged = np.array(list_label[ti:])\n",
        "test_list_label_arranged = np.array(list(map(driver, test_list_label_arranged))).transpose()\n",
        "\n",
        "train_image = list_image[:, :ti]\n",
        "test_image = list_image[:, ti:]\n",
        "\n",
        "step_count = 0\n",
        "mats = [x_to_y_matrix, y_to_z_matrix, z_to_h_matrix]\n",
        "\n",
        "stpcnt_train_costs = {}\n",
        "stpcnt_test_costs = {}\n",
        "\n",
        "stpcnt_train_accuracy = {}\n",
        "stpcnt_test_accuracy = {}\n",
        "\n",
        "stpcnt_mats = {}\n",
        "\n",
        "from timeit import default_timer as timer\n",
        "s = timer()\n",
        "lr = 1.693922\n",
        "# lr = 0.0001\n",
        "\n",
        "while True:\n",
        "    train_ret_list = get_ret_list(mats, train_image)\n",
        "    train_cost = calc_energy_value(mats, train_image, train_list_label_arranged, train_ret_list)\n",
        "\n",
        "    test_ret_list = get_ret_list(mats, test_image)\n",
        "    test_cost = calc_energy_value(mats, test_image, test_list_label_arranged, test_ret_list)\n",
        "\n",
        "    stpcnt_train_costs[step_count] = train_cost\n",
        "    stpcnt_test_costs[step_count] = test_cost\n",
        "    stpcnt_mats[step_count] = mats\n",
        "    stpcnt_train_accuracy[step_count] = calc_accuracy(train_ret_list, train_list_label_arranged)\n",
        "    stpcnt_test_accuracy[step_count] = calc_accuracy(test_ret_list, test_list_label_arranged)\n",
        "    # print(\"middle\")\n",
        "    print(\"\\nloop\", step_count, \"accu\", stpcnt_train_accuracy[step_count], stpcnt_test_accuracy[step_count], \"loss\", stpcnt_train_costs[step_count], stpcnt_test_costs[step_count])\n",
        "    \n",
        "    new_lr = lr\n",
        "    if(step_count > 50):\n",
        "        lr = lr / step_count\n",
        "        new_lr = lr\n",
        "    # if step_count > 2:\n",
        "    #     cost_delta = abs(stpcnt_train_costs[step_count-1] - stpcnt_train_costs[step_count])\n",
        "    #     new_lr = lr * min(10, np.sqrt(( 1 / cost_delta)))\n",
        "\n",
        "    print(\"{0:.16f}\".format(new_lr))\n",
        "    new_mats = calc_next_gradient(new_lr, mats, list_image, train_list_label_arranged, train_ret_list)\n",
        "    mats = new_mats\n",
        "\n",
        "    if (step_count > 2 and check_convergence(stpcnt_train_costs[step_count-1], stpcnt_train_costs[step_count])):\n",
        "        break\n",
        "\n",
        "    step_count = step_count + 1\n",
        "\n",
        "\n",
        "e = timer()\n",
        "print(\"소요시간\", e - s)\n",
        "print(list(stpcnt_train_costs.values()))\n",
        "print(list(stpcnt_test_costs.values()))\n",
        "\n",
        "# 50 ~ ~ 60\n"
      ],
      "execution_count": 136,
      "outputs": [
        {
          "output_type": "stream",
          "text": [
            "\n",
            "loop 0 accu 0.096 0.099 loss 22.175981705838674741 21.768952581447273993\n",
            "1.6939219999999999\n",
            "\n",
            "loop 1 accu 0.11616666666666667 0.114 loss 14.9049487850717997705 14.939902570702145272\n",
            "1.6939219999999999\n",
            "\n",
            "loop 2 accu 0.176 0.17625 loss 9.652618784312802978 9.575748069271350655\n",
            "1.6939219999999999\n",
            "\n",
            "loop 3 accu 0.183 0.1765 loss 6.9137922551775960415 6.9294973321201564008\n",
            "1.6939219999999999\n",
            "\n",
            "loop 4 accu 0.2005 0.17 loss 5.3699411081372054417 5.4403333609217542377\n",
            "1.6939219999999999\n",
            "\n",
            "loop 5 accu 0.17166666666666666 0.16875 loss 4.3111984592507272018 4.370227591715520903\n",
            "1.6939219999999999\n",
            "\n",
            "loop 6 accu 0.20966666666666667 0.17925 loss 3.6402566241428979663 3.6767979591946407466\n",
            "1.6939219999999999\n",
            "\n",
            "loop 7 accu 0.2045 0.17525 loss 3.297177562965304305 3.3383816479863223613\n",
            "1.6939219999999999\n",
            "\n",
            "loop 8 accu 0.2285 0.1975 loss 3.1312721453116128321 3.1807407293189729704\n",
            "1.6939219999999999\n",
            "\n",
            "loop 9 accu 0.2485 0.2155 loss 3.0731160228923396808 3.1390635668171207975\n",
            "1.6939219999999999\n",
            "\n",
            "loop 10 accu 0.257 0.2245 loss 3.0274555238149029742 3.0965487965218155431\n",
            "1.6939219999999999\n",
            "\n",
            "loop 11 accu 0.27116666666666667 0.2355 loss 2.9858761187715737984 3.063592497198582733\n",
            "1.6939219999999999\n",
            "\n",
            "loop 12 accu 0.2823333333333333 0.24425 loss 2.946607992942386256 3.0248870230774763921\n",
            "1.6939219999999999\n",
            "\n",
            "loop 13 accu 0.29533333333333334 0.25525 loss 2.9085780996889423976 2.9904881473544004207\n",
            "1.6939219999999999\n",
            "\n",
            "loop 14 accu 0.30516666666666664 0.263 loss 2.8711424848874467582 2.9517760634443577829\n",
            "1.6939219999999999\n",
            "\n",
            "loop 15 accu 0.31866666666666665 0.28 loss 2.8339814064866182823 2.9153266609419925394\n",
            "1.6939219999999999\n",
            "\n",
            "loop 16 accu 0.3268333333333333 0.29225 loss 2.7969592676265307356 2.8755263222078099074\n",
            "1.6939219999999999\n",
            "\n",
            "loop 17 accu 0.33816666666666667 0.3065 loss 2.7600044129996716311 2.837409105373615877\n",
            "1.6939219999999999\n",
            "\n",
            "loop 18 accu 0.3491666666666667 0.32325 loss 2.7231176728148415156 2.7966347543581287938\n",
            "1.6939219999999999\n",
            "\n",
            "loop 19 accu 0.361 0.342 loss 2.6864501271177376712 2.7575919169885607775\n",
            "1.6939219999999999\n",
            "\n",
            "loop 20 accu 0.371 0.36225 loss 2.6503631384720896464 2.7169474330974677013\n",
            "1.6939219999999999\n",
            "\n",
            "loop 21 accu 0.3845 0.37925 loss 2.6152034741801210174 2.679312915448764485\n",
            "1.6939219999999999\n",
            "\n",
            "loop 22 accu 0.39466666666666667 0.39125 loss 2.5811849543148886192 2.6415030572934613433\n",
            "1.6939219999999999\n",
            "\n",
            "loop 23 accu 0.4061666666666667 0.40575 loss 2.54842200180461383 2.607505814287700102\n",
            "1.6939219999999999\n",
            "\n",
            "loop 24 accu 0.41933333333333334 0.41575 loss 2.5169631504919099342 2.573493910803186731\n",
            "1.6939219999999999\n",
            "\n",
            "loop 25 accu 0.4315 0.42475 loss 2.4867543064611634255 2.543170506929383495\n",
            "1.6939219999999999\n",
            "\n",
            "loop 26 accu 0.44033333333333335 0.43575 loss 2.4576648683307958068 2.5122551866940141668\n",
            "1.6939219999999999\n",
            "\n",
            "loop 27 accu 0.4485 0.44275 loss 2.4295550712599042428 2.4846747195537402441\n",
            "1.6939219999999999\n",
            "\n",
            "loop 28 accu 0.4535 0.45325 loss 2.402346501501105384 2.4560284553392642307\n",
            "1.6939219999999999\n",
            "\n",
            "loop 29 accu 0.4613333333333333 0.46575 loss 2.3760017813632471307 2.4307644412948569916\n",
            "1.6939219999999999\n",
            "\n",
            "loop 30 accu 0.4715 0.473 loss 2.3505136144416542317 2.4042407306765857487\n",
            "1.6939219999999999\n",
            "\n",
            "loop 31 accu 0.4811666666666667 0.48125 loss 2.3258611980164480553 2.381300309550160589\n",
            "1.6939219999999999\n",
            "\n",
            "loop 32 accu 0.4885 0.4885 loss 2.3020143713071044046 2.356789294400331778\n",
            "1.6939219999999999\n",
            "\n",
            "loop 33 accu 0.49633333333333335 0.493 loss 2.2789239325801918486 2.3359514210609831314\n",
            "1.6939219999999999\n",
            "\n",
            "loop 34 accu 0.5058333333333334 0.49725 loss 2.256541383790145269 2.313062070888393892\n",
            "1.6939219999999999\n",
            "\n",
            "loop 35 accu 0.5138333333333334 0.505 loss 2.2348177860380783952 2.2939641110026832533\n",
            "1.6939219999999999\n",
            "\n",
            "loop 36 accu 0.52 0.51375 loss 2.213715556375104106 2.2722996237506363655\n",
            "1.6939219999999999\n",
            "\n",
            "loop 37 accu 0.5266666666666666 0.5165 loss 2.1932003034963081707 2.2546822277828730908\n",
            "1.6939219999999999\n",
            "\n",
            "loop 38 accu 0.5331666666666667 0.52225 loss 2.1732470259098650841 2.2339611544851147589\n",
            "1.6939219999999999\n",
            "\n",
            "loop 39 accu 0.5401666666666667 0.528 loss 2.1538306831614090744 2.2176768078174437094\n",
            "1.6939219999999999\n",
            "\n",
            "loop 40 accu 0.5443333333333333 0.5375 loss 2.1349291992153034219 2.1977038566371045463\n",
            "1.6939219999999999\n",
            "\n",
            "loop 41 accu 0.5493333333333333 0.54275 loss 2.1165213523079492387 2.1826599625263888985\n",
            "1.6939219999999999\n",
            "\n",
            "loop 42 accu 0.5535 0.5475 loss 2.0985829425069688638 2.1632872503022809207\n",
            "1.6939219999999999\n",
            "\n",
            "loop 43 accu 0.5598333333333333 0.55075 loss 2.0810964897826507906 2.149405456739630904\n",
            "1.6939219999999999\n",
            "\n",
            "loop 44 accu 0.564 0.5595 loss 2.0640342119571344617 2.13050864384856347\n",
            "1.6939219999999999\n",
            "\n",
            "loop 45 accu 0.5718333333333333 0.563 loss 2.0473824849422098203 2.117703756204663311\n",
            "1.6939219999999999\n",
            "\n",
            "loop 46 accu 0.578 0.57175 loss 2.0311073397251339081 2.0991724201638554785\n",
            "1.6939219999999999\n",
            "\n",
            "loop 47 accu 0.5835 0.57325 loss 2.0151984428537146126 2.0873482047342134223\n",
            "1.6939219999999999\n",
            "\n",
            "loop 48 accu 0.5875 0.582 loss 1.9996137887666676491 2.0690909225875547396\n",
            "1.6939219999999999\n",
            "\n",
            "loop 49 accu 0.5931666666666666 0.5845 loss 1.9843484033607861251 2.0581480099059604725\n",
            "1.6939219999999999\n",
            "\n",
            "loop 50 accu 0.5973333333333334 0.593 loss 1.9693529540669228464 2.0401006172297861602\n",
            "1.6939219999999999\n",
            "\n",
            "loop 51 accu 0.605 0.59275 loss 1.9546320848455528476 2.029943076335949999\n",
            "0.0332141568627451\n",
            "\n",
            "loop 52 accu 0.6046666666666667 0.593 loss 1.9543134443515187174 2.0295615843449348993\n",
            "0.0006387337858220\n",
            "\n",
            "loop 53 accu 0.6046666666666667 0.593 loss 1.9543073550411996349 2.0295543424649301364\n",
            "0.0000120515808646\n",
            "\n",
            "loop 54 accu 0.6046666666666667 0.593 loss 1.9543072401617739796 2.0295542058584859469\n",
            "0.0000002231774234\n",
            "\n",
            "loop 55 accu 0.6046666666666667 0.593 loss 1.9543072380343818121 2.0295542033287484688\n",
            "0.0000000040577713\n",
            "소요시간 790.6425405320006\n",
            "[22.175981705838674741, 14.9049487850717997705, 9.652618784312802978, 6.9137922551775960415, 5.3699411081372054417, 4.3111984592507272018, 3.6402566241428979663, 3.297177562965304305, 3.1312721453116128321, 3.0731160228923396808, 3.0274555238149029742, 2.9858761187715737984, 2.946607992942386256, 2.9085780996889423976, 2.8711424848874467582, 2.8339814064866182823, 2.7969592676265307356, 2.7600044129996716311, 2.7231176728148415156, 2.6864501271177376712, 2.6503631384720896464, 2.6152034741801210174, 2.5811849543148886192, 2.54842200180461383, 2.5169631504919099342, 2.4867543064611634255, 2.4576648683307958068, 2.4295550712599042428, 2.402346501501105384, 2.3760017813632471307, 2.3505136144416542317, 2.3258611980164480553, 2.3020143713071044046, 2.2789239325801918486, 2.256541383790145269, 2.2348177860380783952, 2.213715556375104106, 2.1932003034963081707, 2.1732470259098650841, 2.1538306831614090744, 2.1349291992153034219, 2.1165213523079492387, 2.0985829425069688638, 2.0810964897826507906, 2.0640342119571344617, 2.0473824849422098203, 2.0311073397251339081, 2.0151984428537146126, 1.9996137887666676491, 1.9843484033607861251, 1.9693529540669228464, 1.9546320848455528476, 1.9543134443515187174, 1.9543073550411996349, 1.9543072401617739796, 1.9543072380343818121]\n",
            "[21.768952581447273993, 14.939902570702145272, 9.575748069271350655, 6.9294973321201564008, 5.4403333609217542377, 4.370227591715520903, 3.6767979591946407466, 3.3383816479863223613, 3.1807407293189729704, 3.1390635668171207975, 3.0965487965218155431, 3.063592497198582733, 3.0248870230774763921, 2.9904881473544004207, 2.9517760634443577829, 2.9153266609419925394, 2.8755263222078099074, 2.837409105373615877, 2.7966347543581287938, 2.7575919169885607775, 2.7169474330974677013, 2.679312915448764485, 2.6415030572934613433, 2.607505814287700102, 2.573493910803186731, 2.543170506929383495, 2.5122551866940141668, 2.4846747195537402441, 2.4560284553392642307, 2.4307644412948569916, 2.4042407306765857487, 2.381300309550160589, 2.356789294400331778, 2.3359514210609831314, 2.313062070888393892, 2.2939641110026832533, 2.2722996237506363655, 2.2546822277828730908, 2.2339611544851147589, 2.2176768078174437094, 2.1977038566371045463, 2.1826599625263888985, 2.1632872503022809207, 2.149405456739630904, 2.13050864384856347, 2.117703756204663311, 2.0991724201638554785, 2.0873482047342134223, 2.0690909225875547396, 2.0581480099059604725, 2.0401006172297861602, 2.029943076335949999, 2.0295615843449348993, 2.0295543424649301364, 2.0295542058584859469, 2.0295542033287484688]\n"
          ],
          "name": "stdout"
        }
      ]
    },
    {
      "cell_type": "code",
      "metadata": {
        "id": "uCXePlDRrwb1",
        "colab_type": "code",
        "colab": {
          "base_uri": "https://localhost:8080/",
          "height": 51
        },
        "outputId": "5f854521-13cf-4dbe-ad1c-dcb05f025e73"
      },
      "source": [
        "def get_10_data(ret_list, answer_list, get_correct):\n",
        "    list_image  = np.empty((size_row * size_col, 10), dtype=float)\n",
        "    list_label  = np.empty(10, dtype=int)\n",
        "\n",
        "\n",
        "    print(answer_list.shape)\n",
        "    i = 0\n",
        "    for idx in range(answer_list.shape[1]):\n",
        "        if i >= 10: \n",
        "            break\n",
        "\n",
        "        output_ret = ret_list[-1]\n",
        "        # print(ret_list)\n",
        "\n",
        "        calculated = np.argmax(ret_list[-1][:, idx], axis=0)\n",
        "        answer_get = np.argmax(answer_list[:, idx], axis=0)\n",
        "        corrected = calculated == answer_get\n",
        "\n",
        "        # print(\"c\", calculated)\n",
        "        # print(\"a\", answer_get)\n",
        "        # print(\"c\", corrected)\n",
        "        if corrected == get_correct:\n",
        "            # print(ret_list)\n",
        "            list_image[:, i] = ret_list[0][:, idx]\n",
        "            list_label[i] = answer_get\n",
        "            i = i + 1\n",
        "\n",
        "    return list_image, list_label\n",
        "\n",
        "good_tuple = get_10_data(train_ret_list, train_list_label_arranged, True)\n",
        "bad_tuple = get_10_data(test_ret_list, test_list_label_arranged, False)"
      ],
      "execution_count": 168,
      "outputs": [
        {
          "output_type": "stream",
          "text": [
            "(10, 6000)\n",
            "(10, 4000)\n"
          ],
          "name": "stdout"
        }
      ]
    },
    {
      "cell_type": "code",
      "metadata": {
        "id": "3ZrSPvbXsORH",
        "colab_type": "code",
        "colab": {}
      },
      "source": [
        "def show_classification_example(good_tuple, bad_tuple):\n",
        "    print(\"upper : good classification from train data\")\n",
        "    print(\"under : bad classification from test data\")\n",
        "    f1 = plt.figure(1)\n",
        "\n",
        "    images, labels = good_tuple\n",
        "    for i in range(10):\n",
        "        plt.subplot(2, 5, i+1)\n",
        "        plt.title(labels[i])\n",
        "        plt.imshow(images[:,i].reshape((size_row, size_col)), cmap='Greys', interpolation='None')\n",
        "\n",
        "        frame   = plt.gca()\n",
        "        frame.axes.get_xaxis().set_visible(False)\n",
        "        frame.axes.get_yaxis().set_visible(False)\n",
        "\n",
        "    f2 = plt.figure(2)\n",
        "\n",
        "    images, labels = bad_tuple\n",
        "    for i in range(10):\n",
        "        plt.subplot(2, 5, i+1)\n",
        "        plt.title(labels[i])\n",
        "        plt.imshow(images[:,i].reshape((size_row, size_col)), cmap='Greys', interpolation='None')\n",
        "\n",
        "        frame   = plt.gca()\n",
        "        frame.axes.get_xaxis().set_visible(False)\n",
        "        frame.axes.get_yaxis().set_visible(False)\n",
        "\n",
        "\n",
        "    plt.show()"
      ],
      "execution_count": 0,
      "outputs": []
    },
    {
      "cell_type": "markdown",
      "metadata": {
        "id": "M3ZyNu6sjyQn",
        "colab_type": "text"
      },
      "source": [
        "1. Plot the loss curve"
      ]
    },
    {
      "cell_type": "code",
      "metadata": {
        "id": "XYVsAEdVf1IQ",
        "colab_type": "code",
        "colab": {
          "base_uri": "https://localhost:8080/",
          "height": 483
        },
        "outputId": "8263da5d-2924-4b44-9292-626e7aa15d0a"
      },
      "source": [
        "make_plot([(stpcnt_train_costs, \"plot\", \"blue\", \"train\"), (stpcnt_test_costs, \"plot\", \"red\", \"test\") ])\n",
        "show_plot()"
      ],
      "execution_count": 157,
      "outputs": [
        {
          "output_type": "display_data",
          "data": {
            "image/png": "[encoded data removed]",
            "text/plain": [
              "<Figure size 576x576 with 1 Axes>"
            ]
          },
          "metadata": {
            "tags": [],
            "needs_background": "light"
          }
        }
      ]
    },
    {
      "cell_type": "markdown",
      "metadata": {
        "id": "q5-quCzKjy1s",
        "colab_type": "text"
      },
      "source": [
        "2. Plot the accuracy curve"
      ]
    },
    {
      "cell_type": "code",
      "metadata": {
        "id": "nBKNk-0TjvJZ",
        "colab_type": "code",
        "colab": {
          "base_uri": "https://localhost:8080/",
          "height": 483
        },
        "outputId": "d77c7d15-5457-4e17-d545-5158b0f5a325"
      },
      "source": [
        "make_plot([(stpcnt_train_accuracy, \"plot\", \"blue\", \"train\"), (stpcnt_test_accuracy, \"plot\", \"red\", \"test\") ])\n",
        "\n",
        "show_plot()"
      ],
      "execution_count": 158,
      "outputs": [
        {
          "output_type": "display_data",
          "data": {
            "image/png": "[encoded data removed]",
            "text/plain": [
              "<Figure size 576x576 with 1 Axes>"
            ]
          },
          "metadata": {
            "tags": [],
            "needs_background": "light"
          }
        }
      ]
    },
    {
      "cell_type": "markdown",
      "metadata": {
        "id": "eDIwHcLzorkr",
        "colab_type": "text"
      },
      "source": [
        "3. Plot the accuracy value"
      ]
    },
    {
      "cell_type": "code",
      "metadata": {
        "id": "Mop1GKjpop80",
        "colab_type": "code",
        "colab": {
          "base_uri": "https://localhost:8080/",
          "height": 51
        },
        "outputId": "260d91c5-5489-405e-86c8-a22b26000a9e"
      },
      "source": [
        "def get_last(d):\n",
        "    return d[list(d.keys())[-1]]\n",
        "\n",
        "print(f\"train accuracy: {get_last(stpcnt_train_accuracy) * 100}%\")\n",
        "print(f\"test accuracy: {get_last(stpcnt_test_accuracy) * 100}%\")"
      ],
      "execution_count": 159,
      "outputs": [
        {
          "output_type": "stream",
          "text": [
            "train accuracy: 60.46666666666667%\n",
            "test accuracy: 59.3%\n"
          ],
          "name": "stdout"
        }
      ]
    },
    {
      "cell_type": "markdown",
      "metadata": {
        "id": "oQNWUrRypP-q",
        "colab_type": "text"
      },
      "source": [
        "4. Plot the classification example"
      ]
    },
    {
      "cell_type": "code",
      "metadata": {
        "id": "kVinFYHspQ36",
        "colab_type": "code",
        "colab": {
          "base_uri": "https://localhost:8080/",
          "height": 471
        },
        "outputId": "80eacf64-c54f-4acb-a815-d8b8ded04cfa"
      },
      "source": [
        "show_classification_example(good_tuple, bad_tuple)\n"
      ],
      "execution_count": 170,
      "outputs": [
        {
          "output_type": "stream",
          "text": [
            "upper : good classification from train data\n",
            "under : bad classification from test data\n"
          ],
          "name": "stdout"
        },
        {
          "output_type": "display_data",
          "data": {
            "image/png": "[encoded data removed]",
            "text/plain": [
              "<Figure size 432x288 with 10 Axes>"
            ]
          },
          "metadata": {
            "tags": [],
            "needs_background": "light"
          }
        },
        {
          "output_type": "display_data",
          "data": {
            "image/png": "[encoded data removed]",
            "text/plain": [
              "<Figure size 432x288 with 10 Axes>"
            ]
          },
          "metadata": {
            "tags": [],
            "needs_background": "light"
          }
        }
      ]
    }
  ]
}