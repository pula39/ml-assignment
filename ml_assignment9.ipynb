{
  "nbformat": 4,
  "nbformat_minor": 0,
  "metadata": {
    "colab": {
      "name": "ml-assignment9.ipynb",
      "provenance": [],
      "collapsed_sections": [],
      "authorship_tag": "ABX9TyPOS2jN3VVq+x3c9cxlhxeK",
      "include_colab_link": true
    },
    "kernelspec": {
      "name": "python3",
      "display_name": "Python 3"
    }
  },
  "cells": [
    {
      "cell_type": "markdown",
      "metadata": {
        "id": "view-in-github",
        "colab_type": "text"
      },
      "source": [
        "<a href=\"https://colab.research.google.com/github/nbkwon/ml-assignment/blob/master/ml_assignment9.ipynb\" target=\"_parent\"><img src=\"https://colab.research.google.com/assets/colab-badge.svg\" alt=\"Open In Colab\"/></a>"
      ]
    },
    {
      "cell_type": "code",
      "metadata": {
        "id": "nWAWKGt7oxi3",
        "colab_type": "code",
        "colab": {}
      },
      "source": [
        "# we now need pyplot for plotting data\n",
        "import matplotlib.pyplot as pyplot\n",
        "def show_plot(download_file = False):\n",
        "    pyplot.legend()\n",
        "    pyplot.show()\n",
        "    if download_file == False:\n",
        "       return\n",
        "    \n",
        "    import google.colab\n",
        "    file_name = \"test.png\"\n",
        "    pyplot.savefig(file_name)\n",
        "    google.colab.files.download(file_name)\n",
        "\n",
        "def make_plot(plot_data_list, use_this = None):\n",
        "    # it's too samll. make bigger.\n",
        "    if use_this is None:\n",
        "        pyplot.figure(figsize=(8, 8))\n",
        "    else:\n",
        "        # use_this.set_figheight(8)\n",
        "        # use_this.set_figwidth(8)\n",
        "        pass\n",
        "\n",
        "    for data_dic, plot_type, color, label in plot_data_list:\n",
        "        if plot_type is \"plot\":\n",
        "            if use_this is None:\n",
        "                pyplot.plot(list(data_dic.keys()), list(data_dic.values()), c=color, label=label)\n",
        "            else:\n",
        "                use_this.plot(list(data_dic.keys()), list(data_dic.values()), c=color, label=label)    \n",
        "        if plot_type is \"scatter\":\n",
        "            if use_this is None:\n",
        "                pyplot.scatter(list(data_dic.keys()), list(data_dic.values()), c=color, label=label)\n",
        "            else:\n",
        "                use_this.scatter(list(data_dic.keys()), list(data_dic.values()), c=color, label=label)"
      ],
      "execution_count": 0,
      "outputs": []
    },
    {
      "cell_type": "code",
      "metadata": {
        "id": "v0yDRHQB8qU9",
        "colab_type": "code",
        "colab": {
          "base_uri": "https://localhost:8080/",
          "height": 495
        },
        "outputId": "b6ce6702-44dc-4d14-a0cc-18c8e6640579"
      },
      "source": [
        "import matplotlib.pyplot as plt\n",
        "import numpy as np\n",
        "from numba import jit, njit, vectorize, cuda\n",
        "from numpy import arange\n",
        "\n",
        "\n",
        "file_data   = \"mnist.csv\"\n",
        "handle_file = open(file_data, \"r\")\n",
        "data        = handle_file.readlines()\n",
        "handle_file.close()\n",
        "\n",
        "size_row    = 28    # height of the image\n",
        "size_col    = 28    # width of the image\n",
        "\n",
        "num_image   = len(data)\n",
        "count       = 0     # count for the number of images\n",
        "\n",
        "@jit\n",
        "def normalize(data):\n",
        "    data_normalized = (data - min(data)) / (max(data) - min(data))\n",
        "    return(data_normalized)\n",
        "\n",
        "@jit\n",
        "def distance(x, y):\n",
        "    d = (x - y) ** 2\n",
        "    s = np.sum(d)\n",
        "    # r = np.sqrt(s)\n",
        "\n",
        "    return(s)\n",
        "\n",
        "list_image  = np.empty((size_row * size_col, num_image), dtype=float)\n",
        "list_label  = np.empty(num_image, dtype=int)\n",
        "\n",
        "for line in data:\n",
        "    \n",
        "    line_data   = line.split(',')\n",
        "    label       = line_data[0]\n",
        "    im_vector   = np.asfarray(line_data[1:])\n",
        "    im_vector   = normalize(im_vector)\n",
        "\n",
        "    list_label[count]       = label\n",
        "    list_image[:, count]    = im_vector\n",
        "\n",
        "    count += 1\n",
        "\n",
        "print(count)\n",
        "#\n",
        "# plot first 150 images out of 10,000 with their labels\n",
        "#\n",
        "f1 = plt.figure(1)\n",
        "\n",
        "for i in range(150):\n",
        "\n",
        "    label       = list_label[i]\n",
        "    im_vector   = list_image[:, i]\n",
        "    im_matrix   = im_vector.reshape((size_row, size_col))\n",
        "\n",
        "    plt.subplot(10, 15, i+1)\n",
        "    plt.title(label)\n",
        "    plt.imshow(im_matrix, cmap='Greys', interpolation='None')\n",
        "\n",
        "    frame   = plt.gca()\n",
        "    frame.axes.get_xaxis().set_visible(False)\n",
        "    frame.axes.get_yaxis().set_visible(False)\n",
        "\n",
        "\n",
        "#plt.show()\n",
        "\n",
        "#\n",
        "# plot the average image of all the images for each digit\n",
        "#\n",
        "f2 = plt.figure(2)\n",
        "\n",
        "im_average  = np.zeros((size_row * size_col, 10), dtype=float)\n",
        "im_count    = np.zeros(10, dtype=int)\n",
        "\n",
        "for i in range(num_image):\n",
        "\n",
        "    im_average[:, list_label[i]] += list_image[:, i]\n",
        "    im_count[list_label[i]] += 1\n",
        "\n",
        "for i in range(10):\n",
        "\n",
        "    im_average[:, i] /= im_count[i]\n",
        "\n",
        "    plt.subplot(2, 5, i+1)\n",
        "    plt.title(i)\n",
        "    plt.imshow(im_average[:,i].reshape((size_row, size_col)), cmap='Greys', interpolation='None')\n",
        "\n",
        "    frame   = plt.gca()\n",
        "    frame.axes.get_xaxis().set_visible(False)\n",
        "    frame.axes.get_yaxis().set_visible(False)\n",
        "\n",
        "plt.show()\n"
      ],
      "execution_count": 187,
      "outputs": [
        {
          "output_type": "stream",
          "text": [
            "10000\n"
          ],
          "name": "stdout"
        },
        {
          "output_type": "display_data",
          "data": {
            "image/png": "[encoded data removed]",
            "text/plain": [
              "<Figure size 432x288 with 150 Axes>"
            ]
          },
          "metadata": {
            "tags": [],
            "needs_background": "light"
          }
        },
        {
          "output_type": "display_data",
          "data": {
            "image/png": "[encoded data removed]",
            "text/plain": [
              "<Figure size 432x288 with 10 Axes>"
            ]
          },
          "metadata": {
            "tags": [],
            "needs_background": "light"
          }
        }
      ]
    },
    {
      "cell_type": "code",
      "metadata": {
        "id": "vs4eRPA6DiZI",
        "colab_type": "code",
        "colab": {
          "base_uri": "https://localhost:8080/",
          "height": 1000
        },
        "outputId": "d12bd7d8-d359-4ce7-9277-2acb409e1553"
      },
      "source": [
        "from functools import reduce\n",
        "\n",
        "def check_convergence(loss, loss_after):\n",
        "    # float 형의 자료형 동일한지 판단을 위해 numpy의 isclose를 사용.\n",
        "    # atol = 0.0000000000000000001\n",
        "    return np.isclose(loss, loss_after)\n",
        "    # return numpy.isclose(theta_list, new_theta_list)\n",
        "\n",
        "def sigmoid_one(value):\n",
        "    return 1 / (1 + np.exp(-value))\n",
        "\n",
        "def sigmoid(value):\n",
        "    return 1 / (1 + np.exp(-value))\n",
        "\n",
        "def vstack(f):\n",
        "    return np.vstack([f, [1]])\n",
        "\n",
        "@njit\n",
        "def npmul(a, b):\n",
        "    # @ 랑 matmul이랑 차이 없음을 확인함.\n",
        "    # return np.matmul(a,b)\n",
        "    return a @ b\n",
        "\n",
        "#결과를 list로 반환\n",
        "def get_by_mat(mat_list, factor_list):\n",
        "    result_list = []\n",
        "\n",
        "    factors = factor_list\n",
        "    result_list.append(factors)\n",
        "\n",
        "    for mat in mat_list:\n",
        "        factors_with_bias = vstack(factors)\n",
        "        factors = npmul(mat, factors_with_bias)\n",
        "        # print(\"before\", factors)\n",
        "        # result_list.append(factors)\n",
        "        factors = sigmoid(factors)\n",
        "        # print(\"after\", factors)\n",
        "        result_list.append(factors)\n",
        "    \n",
        "    return result_list\n",
        "    \n",
        "\n",
        "label_unique = np.unique(list_label)\n",
        "theta_list = np.random.normal(0, 1, size_row * size_col)\n",
        "\n",
        "# numpy.matmul()\n",
        "d = np.ones((784,1), dtype=np.float64)\n",
        "\n",
        "\n",
        "# l = get_by_mat([x_to_y_matrix, y_to_z_matrix, z_to_h_matrix], d)\n",
        "# for i in l:\n",
        "#     print(i)\n",
        "# a = [d, x_to_y_matrix, y_to_z_matrix, z_to_h_matrix]\n",
        "# a.reverse()\n",
        "# print(reduce(np.matmul, a))\n",
        "\n",
        "@njit\n",
        "def log(n):\n",
        "    float_min = 0.00000000000000001\n",
        "    return np.log(max(n, float_min))\n",
        "\n",
        "def get_f_l(f_list, c):\n",
        "    return f_list[:, c].reshape((-1,1))\n",
        "\n",
        "def get_ret_list_by_c(mat_list, f_list, d_list):\n",
        "    ret_list_by_c = []\n",
        "    m = len(d_list)\n",
        "\n",
        "    for c in range(m):\n",
        "        factor_list= get_f_l(f_list, c)\n",
        "        \n",
        "        ret = get_by_mat(mat_list, factor_list)\n",
        "\n",
        "        ret_list_by_c.append(ret)\n",
        "    \n",
        "    return ret_list_by_c\n",
        "\n",
        "def calc_energy_value(mat_list, f_list, d_list, ret_list_by_c):\n",
        "    ret = 0\n",
        "\n",
        "    m = len(d_list)\n",
        "\n",
        "    # factor_list = 시작 x들의 값\n",
        "    # r_in_d = one_hot_encode으로 답인 거\n",
        "    for c in range(m):\n",
        "        ret_list = ret_list_by_c[c]\n",
        "        l_in_d_list = d_list[c]\n",
        "\n",
        "        for r_in_d, ret in zip(l_in_d_list, ret_list[-1]):\n",
        "            ret = ret[0]\n",
        "            calculated = -r_in_d * log(ret) - (1 - r_in_d) * log(1 - ret)\n",
        "            # print(type(r_in_d), type(ret), type(calculated))\n",
        "            ret = ret + calculated\n",
        "\n",
        "    return ret / m\n",
        "\n",
        "def calc_next_gradient(lr, mat_list, f_list, d_list, ret_list_by_c):\n",
        "    \n",
        "    # 10은 고정값.\n",
        "    error_list = np.zeros(10, dtype=np.float64)\n",
        "\n",
        "    m = len(d_list)\n",
        "    acc_ret_list = None\n",
        "    for c in range(m):\n",
        "        ret_list = ret_list_by_c[c]\n",
        "        l_in_d_list = d_list[c]\n",
        "\n",
        "        if acc_ret_list is None:\n",
        "            acc_ret_list = ret_list\n",
        "        else:\n",
        "            for i in range(len(acc_ret_list)):\n",
        "                acc_ret_list[i] = np.add(acc_ret_list[i], ret_list[i])\n",
        "\n",
        "        for idx, (r_in_d, ret) in enumerate(zip(l_in_d_list, ret_list[-1])):\n",
        "            ret = ret[0]\n",
        "            calculated = ret - r_in_d\n",
        "            \n",
        "            error_list[idx] = error_list[idx] + calculated\n",
        "\n",
        "    error_list = error_list / m\n",
        "\n",
        "    # print(error_list)\n",
        "\n",
        "    for i in range(len(acc_ret_list)):\n",
        "        acc_ret_list[i] = acc_ret_list[i] / m\n",
        "\n",
        "    # print(f\"mat len {len(mat_list)} ret_list len {len(ret_list)}\")\n",
        "    new_mat_list = []\n",
        "\n",
        "    for i in range(len(mat_list)-1, -1, -1):\n",
        "        now_mat = mat_list[i]\n",
        "        new_mat = now_mat.copy()\n",
        "        sigmoided_output = acc_ret_list[i]\n",
        "        # Gradient Descent 로 갱신한 매트릭스 생ㅅ어\n",
        "        \n",
        "        # matrix 갱신\n",
        "        # print(f\"sigmoided_output {len(sigmoided_output)}\")\n",
        "        for iy,ix in np.ndindex(now_mat.shape):\n",
        "             \n",
        "            if ix >= len(sigmoided_output):\n",
        "                # bias는 이 값이 1이라 생각하는 곳이기 때문이다.\n",
        "                sigmoided_output_val = 1\n",
        "            else:\n",
        "                sigmoided_output_val = sigmoided_output[ix]\n",
        "                \n",
        "            # print(f\"iy {iy}, ix {ix} \")\n",
        "            # print(error_list[iy])\n",
        "            now_mat[iy, ix]\n",
        "            \n",
        "            new_mat[iy,ix] =  now_mat[iy, ix] - lr * sigmoided_output_val * error_list[iy]\n",
        "            # if(now_mat[iy, ix] != new_mat[iy,ix]):\n",
        "            #     print(\"다르구만\")\n",
        "\n",
        "        new_mat_list.append(new_mat)\n",
        "        # error_list 갱신\n",
        "        # 이전 레이어의 에러를 미리 계산하는거라서 끝난상황이면 갱신할 필요가 없다.\n",
        "        if(i - 1 < 0):\n",
        "            continue\n",
        "\n",
        "        new_error_list = np.zeros(len(acc_ret_list[i]), dtype=np.float64)\n",
        "        \n",
        "        m = len(d_list)\n",
        "        # print(\"now_mat\",now_mat.shape)\n",
        "        for c in range(len(new_error_list)):\n",
        "            acc = 0\n",
        "            # - 1 로 bias 레이어 제거\n",
        "            for to_y_idx in range(len(now_mat[:])):\n",
        "                w_list = now_mat[:, to_y_idx]\n",
        "                # print(f\"len w_list{len(w_list)} error_list {len(error_list)}\")\n",
        "                v = acc_ret_list[i - 1][c]\n",
        "                s = sigmoid_one(v) * (1 - sigmoid_one(v))\n",
        "                new_error_list[c] = s * np.dot(w_list, error_list)\n",
        "        \n",
        "        error_list = new_error_list\n",
        "    \n",
        "    # print(\"new_mat_list len\", len(new_mat_list))\n",
        "    new_mat_list.reverse()\n",
        "\n",
        "    return new_mat_list\n",
        "\n",
        "def get_classified_label(output_ret):\n",
        "    m = max(output_ret)\n",
        "    expected = np.where(output_ret == m)[0]\n",
        "    # print(\"out: \", output_ret, \"max:\", m, \"expected\", expected)\n",
        "    [e] = list(expected)\n",
        "    return e\n",
        "\n",
        "def same_check(output_ret, answer_label):\n",
        "    e = get_classified_label(output_ret)\n",
        "\n",
        "    return answer_label[e] == 1\n",
        "\n",
        "def calc_accuracy(ret_list_by_c, answer_list):\n",
        "    count = len(answer_list)\n",
        "    corrected = 0\n",
        "    for ret_list, answer in zip(ret_list_by_c, answer_list):\n",
        "        output_ret = ret_list[-1]\n",
        "        if same_check(output_ret, answer):\n",
        "            corrected = corrected + 1\n",
        "\n",
        "    return  corrected / count\n",
        "\n",
        "# https://newsight.tistory.com/70\n",
        "\n",
        "# r = np.zeros(10, dtype=np.float64)\n",
        "# r[0] = 1\n",
        "# d_dict = [(d, r)]\n",
        "# print(calc_energy_value([x_to_y_matrix, y_to_z_matrix, z_to_h_matrix], d_dict))\n",
        "@njit\n",
        "def to_label_list(x):\n",
        "    l = np.zeros(10, dtype=np.float64)\n",
        "    l[x] = 1\n",
        "    return l\n",
        "\n",
        "# print(list_label)\n",
        "\n",
        "def make_thetas(x, y, mul):\n",
        "    a = np.random.normal(0, 1, x * y).reshape(x,y) * mul\n",
        "    return a\n",
        "\n",
        "\n",
        "tset = make_thetas(5, 10, 0.0039)\n",
        "t = np.asarray([[1],[2],[3],[4],[5],[6],[7],[8],[9]], dtype=np.float64)\n",
        "print(\"테스트용 계산\")\n",
        "print(tset, \"을 여기에.\", t)\n",
        "print(get_by_mat([tset], t))\n",
        "\n",
        "x_to_y_matrix = make_thetas(196, 785, 0.8)\n",
        "y_to_z_matrix = make_thetas(49, 197, 1.0033)\n",
        "z_to_h_matrix = make_thetas(10, 50, 1.2) * 1.5\n",
        "\n",
        "ti = 6000 #train index\n",
        "driver = lambda x: to_label_list(x)\n",
        "train_list_label_arranged = np.array(list_label[:ti])\n",
        "train_list_label_arranged = np.array(list(map(driver, train_list_label_arranged)))\n",
        "test_list_label_arranged = np.array(list_label[ti:])\n",
        "test_list_label_arranged = np.array(list(map(driver, test_list_label_arranged)))\n",
        "\n",
        "train_image = list_image[:, :ti]\n",
        "test_image = list_image[:, ti:]\n",
        "\n",
        "step_count = 0\n",
        "mats = [x_to_y_matrix, y_to_z_matrix, z_to_h_matrix]\n",
        "\n",
        "stpcnt_train_costs = {}\n",
        "stpcnt_test_costs = {}\n",
        "\n",
        "stpcnt_train_accuracy = {}\n",
        "stpcnt_test_accuracy = {}\n",
        "\n",
        "stpcnt_mats = {}\n",
        "\n",
        "from timeit import default_timer as timer\n",
        "s = timer()\n",
        "lr = 0.1\n",
        "\n",
        "while True:\n",
        "    print(\"loop\", step_count)\n",
        "    train_ret_list_by_c = get_ret_list_by_c(mats, train_image, train_list_label_arranged)\n",
        "    train_cost = calc_energy_value(mats, train_image, train_list_label_arranged, train_ret_list_by_c)\n",
        "    test_ret_list_by_c = get_ret_list_by_c(mats, test_image, test_list_label_arranged)\n",
        "    test_cost = calc_energy_value(mats, test_image, test_list_label_arranged, test_ret_list_by_c)\n",
        "    stpcnt_train_costs[step_count] = train_cost\n",
        "    stpcnt_test_costs[step_count] = test_cost\n",
        "    stpcnt_mats[step_count] = mats\n",
        "    stpcnt_train_accuracy[step_count] = calc_accuracy(train_ret_list_by_c, train_list_label_arranged)\n",
        "    stpcnt_test_accuracy[step_count] = calc_accuracy(test_ret_list_by_c, test_list_label_arranged)\n",
        "    print(\"accu\", stpcnt_train_accuracy[step_count], stpcnt_test_accuracy[step_count])\n",
        "    print(\"loss\", stpcnt_train_costs[step_count], stpcnt_test_costs[step_count])\n",
        "\n",
        "    new_mats = calc_next_gradient(lr + np.sqrt(step_count), mats, list_image, train_list_label_arranged, train_ret_list_by_c)\n",
        "    mats = new_mats\n",
        "\n",
        "    if (step_count > 2 and check_convergence(stpcnt_train_costs[step_count-1], stpcnt_train_costs[step_count])):\n",
        "        break\n",
        "\n",
        "    step_count = step_count + 1\n",
        "\n",
        "\n",
        "e = timer()\n",
        "print(\"소요시간\", e - s)\n",
        "print(list(stpcnt_train_costs.values()))\n",
        "print(list(stpcnt_test_costs.values()))\n"
      ],
      "execution_count": 188,
      "outputs": [
        {
          "output_type": "stream",
          "text": [
            "테스트용 계산\n",
            "[[-2.85541623e-03 -2.53942485e-03 -5.18979773e-03  2.43549438e-03\n",
            "   1.77506347e-03  4.65483926e-03  2.52792370e-03 -7.00002064e-03\n",
            "  -7.30080912e-03 -1.33607267e-03]\n",
            " [-6.11699380e-03 -3.16293069e-03  4.81499364e-03 -1.88395846e-03\n",
            "  -3.09447130e-04 -4.29217109e-03 -4.53955577e-04 -8.53598414e-04\n",
            "   3.46239436e-03  5.08996875e-04]\n",
            " [-1.41094166e-03  4.47282875e-03  1.50649714e-04 -3.12581882e-03\n",
            "   7.60914977e-03 -2.64210282e-03  4.58895802e-03  5.31787514e-03\n",
            "   5.50573348e-03  9.46143379e-03]\n",
            " [-4.99237984e-03  5.88422961e-03  3.07612131e-03 -4.02262060e-03\n",
            "   1.51281223e-03  6.67662308e-03 -1.03600923e-04  1.05773199e-03\n",
            "  -7.90191050e-04  6.92803132e-04]\n",
            " [-1.82884015e-03  2.19949984e-03  2.09319905e-03 -1.12047976e-03\n",
            "   1.01074427e-03  2.07955911e-03  3.91726171e-03  3.73372688e-05\n",
            "   3.98493963e-03  4.05576344e-03]] 을 여기에. [[1.]\n",
            " [2.]\n",
            " [3.]\n",
            " [4.]\n",
            " [5.]\n",
            " [6.]\n",
            " [7.]\n",
            " [8.]\n",
            " [9.]]\n",
            "[array([[1.],\n",
            "       [2.],\n",
            "       [3.],\n",
            "       [4.],\n",
            "       [5.],\n",
            "       [6.],\n",
            "       [7.],\n",
            "       [8.],\n",
            "       [9.]]), array([[0.47943526],\n",
            "       [0.49720755],\n",
            "       [0.53776675],\n",
            "       [0.51221144],\n",
            "       [0.52236972]])]\n",
            "loop 0\n",
            "accu 0.08766666666666667 0.09175\n",
            "loss 0.0012693477979493692 4.5641046177009704e-05\n",
            "loop 1\n",
            "accu 0.12283333333333334 0.123\n",
            "loss 0.0015506159759140171 0.0002824508686049937\n",
            "loop 2\n",
            "accu 0.10766666666666666 0.09975\n",
            "loss 0.0007096810437837468 0.0006988442226293618\n",
            "loop 3\n",
            "accu 0.09916666666666667 0.10375\n",
            "loss 0.00018277646038147578 0.0002741646905722137\n",
            "loop 4\n",
            "accu 0.09916666666666667 0.10375\n",
            "loss 0.0001137115273275487 0.00017056729099132307\n",
            "loop 5\n",
            "accu 0.09916666666666667 0.10375\n",
            "loss 8.026597056710896e-05 0.00012039895585066343\n",
            "loop 6\n",
            "accu 0.09916666666666667 0.10375\n",
            "loss 6.298102766224077e-05 9.447154149336115e-05\n",
            "loop 7\n",
            "accu 0.09916666666666667 0.10375\n",
            "loss 5.311941535065064e-05 7.967912302597596e-05\n",
            "loop 8\n",
            "accu 0.09916666666666667 0.10375\n",
            "loss 4.7071383287266065e-05 7.06070749308991e-05\n",
            "loop 9\n",
            "accu 0.11433333333333333 0.11225\n",
            "loss 4.318451928324229e-05 6.477677892486344e-05\n",
            "loop 10\n",
            "accu 0.11433333333333333 0.11225\n",
            "loss 4.0614914533390065e-05 6.09223718000851e-05\n",
            "loop 11\n",
            "accu 0.11433333333333333 0.11225\n",
            "loss 3.889030571138442e-05 5.833545856707663e-05\n",
            "loop 12\n",
            "accu 0.11433333333333333 0.11225\n",
            "loss 3.772637001988031e-05 5.658955502982047e-05\n",
            "loop 13\n",
            "accu 0.11433333333333333 0.11225\n",
            "loss 3.6941971956267225e-05 5.5412957934400833e-05\n",
            "loop 14\n",
            "accu 0.11433333333333333 0.11225\n",
            "loss 3.6416849419242305e-05 5.462527412886346e-05\n",
            "loop 15\n",
            "accu 0.11433333333333333 0.11225\n",
            "loss 3.606896036355017e-05 5.410344054532526e-05\n",
            "loop 16\n",
            "accu 0.11433333333333333 0.11225\n",
            "loss 3.584151967550972e-05 5.376227951326458e-05\n",
            "loop 17\n",
            "accu 0.11433333333333333 0.11225\n",
            "loss 3.5695072152016156e-05 5.354260822802423e-05\n",
            "loop 18\n",
            "accu 0.11433333333333333 0.11225\n",
            "loss 3.5602327694043845e-05 5.3403491541065775e-05\n",
            "loop 19\n",
            "accu 0.11433333333333333 0.11225\n",
            "loss 3.554461220168046e-05 5.331691830252069e-05\n",
            "loop 20\n",
            "accu 0.11433333333333333 0.11225\n",
            "loss 3.550933861295465e-05 5.326400791943199e-05\n",
            "loop 21\n",
            "accu 0.11433333333333333 0.11225\n",
            "loss 3.548817355105402e-05 5.323226032658103e-05\n",
            "loop 22\n",
            "accu 0.11433333333333333 0.11225\n",
            "loss 3.547570734010003e-05 5.321356101015004e-05\n",
            "loop 23\n",
            "accu 0.11433333333333333 0.11225\n",
            "loss 3.546850001126652e-05 5.320275001689978e-05\n",
            "소요시간 82.30965525099964\n",
            "[0.0012693477979493692, 0.0015506159759140171, 0.0007096810437837468, 0.00018277646038147578, 0.0001137115273275487, 8.026597056710896e-05, 6.298102766224077e-05, 5.311941535065064e-05, 4.7071383287266065e-05, 4.318451928324229e-05, 4.0614914533390065e-05, 3.889030571138442e-05, 3.772637001988031e-05, 3.6941971956267225e-05, 3.6416849419242305e-05, 3.606896036355017e-05, 3.584151967550972e-05, 3.5695072152016156e-05, 3.5602327694043845e-05, 3.554461220168046e-05, 3.550933861295465e-05, 3.548817355105402e-05, 3.547570734010003e-05, 3.546850001126652e-05]\n",
            "[4.5641046177009704e-05, 0.0002824508686049937, 0.0006988442226293618, 0.0002741646905722137, 0.00017056729099132307, 0.00012039895585066343, 9.447154149336115e-05, 7.967912302597596e-05, 7.06070749308991e-05, 6.477677892486344e-05, 6.09223718000851e-05, 5.833545856707663e-05, 5.658955502982047e-05, 5.5412957934400833e-05, 5.462527412886346e-05, 5.410344054532526e-05, 5.376227951326458e-05, 5.354260822802423e-05, 5.3403491541065775e-05, 5.331691830252069e-05, 5.326400791943199e-05, 5.323226032658103e-05, 5.321356101015004e-05, 5.320275001689978e-05]\n"
          ],
          "name": "stdout"
        }
      ]
    },
    {
      "cell_type": "code",
      "metadata": {
        "id": "uCXePlDRrwb1",
        "colab_type": "code",
        "colab": {}
      },
      "source": [
        "def get_10_data(ret_list_by_c, answer_list, get_correct):\n",
        "    list_image  = np.empty((size_row * size_col, 10), dtype=float)\n",
        "    list_label  = np.empty(10, dtype=int)\n",
        "\n",
        "    i = 0\n",
        "    for ret_list, answer in zip(ret_list_by_c, answer_list):\n",
        "        if i >= 10: \n",
        "            break\n",
        "\n",
        "        output_ret = ret_list[-1]\n",
        "        if same_check(output_ret, answer) == get_correct:\n",
        "            list_image[:, i] = ret_list[0][:, 0]\n",
        "            list_label[i] = get_classified_label(output_ret)\n",
        "            i = i + 1\n",
        "\n",
        "    return list_image, list_label\n",
        "\n",
        "good_tuple = get_10_data(train_ret_list_by_c, train_list_label_arranged, True)\n",
        "bad_tuple = get_10_data(test_ret_list_by_c, test_list_label_arranged, False)"
      ],
      "execution_count": 0,
      "outputs": []
    },
    {
      "cell_type": "code",
      "metadata": {
        "id": "3ZrSPvbXsORH",
        "colab_type": "code",
        "colab": {}
      },
      "source": [
        "def show_classification_example(good_tuple, bad_tuple):\n",
        "    f1 = plt.figure(1)\n",
        "\n",
        "    images, labels = good_tuple\n",
        "    for i in range(10):\n",
        "        plt.subplot(2, 5, i+1)\n",
        "        plt.title(labels[i])\n",
        "        plt.imshow(images[:,i].reshape((size_row, size_col)), cmap='Greys', interpolation='None')\n",
        "\n",
        "        frame   = plt.gca()\n",
        "        frame.axes.get_xaxis().set_visible(False)\n",
        "        frame.axes.get_yaxis().set_visible(False)\n",
        "\n",
        "    f2 = plt.figure(2)\n",
        "\n",
        "    images, labels = bad_tuple\n",
        "    for i in range(10):\n",
        "        plt.subplot(2, 5, i+1)\n",
        "        plt.title(labels[i])\n",
        "        plt.imshow(images[:,i].reshape((size_row, size_col)), cmap='Greys', interpolation='None')\n",
        "\n",
        "        frame   = plt.gca()\n",
        "        frame.axes.get_xaxis().set_visible(False)\n",
        "        frame.axes.get_yaxis().set_visible(False)\n",
        "\n",
        "\n",
        "    plt.show()"
      ],
      "execution_count": 0,
      "outputs": []
    },
    {
      "cell_type": "markdown",
      "metadata": {
        "id": "M3ZyNu6sjyQn",
        "colab_type": "text"
      },
      "source": [
        "1. Plot the loss curve"
      ]
    },
    {
      "cell_type": "code",
      "metadata": {
        "id": "XYVsAEdVf1IQ",
        "colab_type": "code",
        "colab": {
          "base_uri": "https://localhost:8080/",
          "height": 483
        },
        "outputId": "75e2ec26-8e8c-4e2d-ab21-0d440af832a5"
      },
      "source": [
        "make_plot([(stpcnt_train_costs, \"plot\", \"blue\", \"train\"), (stpcnt_test_costs, \"plot\", \"red\", \"test\") ])\n",
        "show_plot()"
      ],
      "execution_count": 191,
      "outputs": [
        {
          "output_type": "display_data",
          "data": {
            "image/png": "[encoded data removed]",
            "text/plain": [
              "<Figure size 576x576 with 1 Axes>"
            ]
          },
          "metadata": {
            "tags": [],
            "needs_background": "light"
          }
        }
      ]
    },
    {
      "cell_type": "markdown",
      "metadata": {
        "id": "q5-quCzKjy1s",
        "colab_type": "text"
      },
      "source": [
        "2. Plot the accuracy curve"
      ]
    },
    {
      "cell_type": "code",
      "metadata": {
        "id": "nBKNk-0TjvJZ",
        "colab_type": "code",
        "colab": {
          "base_uri": "https://localhost:8080/",
          "height": 483
        },
        "outputId": "b6b13fdd-f182-4291-f22a-5ced9cfe52cc"
      },
      "source": [
        "make_plot([(stpcnt_train_accuracy, \"plot\", \"blue\", \"train\"), (stpcnt_test_accuracy, \"plot\", \"red\", \"test\") ])\n",
        "show_plot()"
      ],
      "execution_count": 192,
      "outputs": [
        {
          "output_type": "display_data",
          "data": {
            "image/png": "[encoded data removed]",
            "text/plain": [
              "<Figure size 576x576 with 1 Axes>"
            ]
          },
          "metadata": {
            "tags": [],
            "needs_background": "light"
          }
        }
      ]
    },
    {
      "cell_type": "markdown",
      "metadata": {
        "id": "eDIwHcLzorkr",
        "colab_type": "text"
      },
      "source": [
        "3. Plot the accuracy value"
      ]
    },
    {
      "cell_type": "code",
      "metadata": {
        "id": "Mop1GKjpop80",
        "colab_type": "code",
        "colab": {
          "base_uri": "https://localhost:8080/",
          "height": 51
        },
        "outputId": "6de786cb-ed3c-447b-c35e-88de42883f4d"
      },
      "source": [
        "def get_last(d):\n",
        "    return d[list(d.keys())[-1]]\n",
        "\n",
        "print(f\"train accuracy: {get_last(stpcnt_train_accuracy) * 100}%\")\n",
        "print(f\"test accuracy: {get_last(stpcnt_test_accuracy) * 100}%\")"
      ],
      "execution_count": 193,
      "outputs": [
        {
          "output_type": "stream",
          "text": [
            "train accuracy: 11.433333333333334%\n",
            "test accuracy: 11.225%\n"
          ],
          "name": "stdout"
        }
      ]
    },
    {
      "cell_type": "markdown",
      "metadata": {
        "id": "oQNWUrRypP-q",
        "colab_type": "text"
      },
      "source": [
        "4. Plot the classification example"
      ]
    },
    {
      "cell_type": "code",
      "metadata": {
        "id": "kVinFYHspQ36",
        "colab_type": "code",
        "colab": {
          "base_uri": "https://localhost:8080/",
          "height": 437
        },
        "outputId": "1fd75be4-290c-4743-84fa-b1c10cc4151f"
      },
      "source": [
        "show_classification_example(good_tuple, bad_tuple)\n"
      ],
      "execution_count": 194,
      "outputs": [
        {
          "output_type": "display_data",
          "data": {
            "image/png": "[encoded data removed]",
            "text/plain": [
              "<Figure size 432x288 with 10 Axes>"
            ]
          },
          "metadata": {
            "tags": [],
            "needs_background": "light"
          }
        },
        {
          "output_type": "display_data",
          "data": {
            "image/png": "[encoded data removed]",
            "text/plain": [
              "<Figure size 432x288 with 10 Axes>"
            ]
          },
          "metadata": {
            "tags": [],
            "needs_background": "light"
          }
        }
      ]
    }
  ]
}